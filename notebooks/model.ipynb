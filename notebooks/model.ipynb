{
 "cells": [
  {
   "cell_type": "code",
   "execution_count": 2,
   "metadata": {
    "collapsed": false
   },
   "outputs": [
    {
     "data": {
      "text/plain": [
       "latestrichblocks (generic function with 1 method)"
      ]
     },
     "execution_count": 2,
     "metadata": {},
     "output_type": "execute_result"
    }
   ],
   "source": [
    "using Plots,Turing, Distributions\n",
    "include(\"../rpc.jl\")"
   ]
  },
  {
   "cell_type": "code",
   "execution_count": 2,
   "metadata": {
    "collapsed": false
   },
   "outputs": [
    {
     "data": {
      "text/plain": [
       "Base.PipeEndpoint(open, 0 bytes waiting)"
      ]
     },
     "execution_count": 2,
     "metadata": {},
     "output_type": "execute_result"
    }
   ],
   "source": [
    "ipc = connect(\"/home/keorn/.local/share/io.parity.ethereum/jsonrpc.ipc\")"
   ]
  },
  {
   "cell_type": "code",
   "execution_count": 3,
   "metadata": {
    "collapsed": false
   },
   "outputs": [],
   "source": [
    "blocks = latestblocks(ipc, 1000);"
   ]
  },
  {
   "cell_type": "code",
   "execution_count": 4,
   "metadata": {
    "collapsed": false
   },
   "outputs": [
    {
     "data": {
      "text/plain": [
       "newdifficulty (generic function with 1 method)"
      ]
     },
     "execution_count": 4,
     "metadata": {},
     "output_type": "execute_result"
    }
   ],
   "source": [
    "NH = 1150000\n",
    "D0 = 131072\n",
    "function newdifficulty(parent, number, timediff)\n",
    "    x = floor(parent[\"difficulty\"]/2048)\n",
    "    ϵ = floor(2^(floor(number/100000) - 2))\n",
    "    ζ = if number < NH\n",
    "         timediff < 13 ? 1 : -1\n",
    "        else\n",
    "         max(1 - floor((timediff)/10), -99)\n",
    "    end\n",
    "    max(D0, parent[\"difficulty\"] + x* ζ + ϵ)\n",
    "end"
   ]
  },
  {
   "cell_type": "code",
   "execution_count": 5,
   "metadata": {
    "collapsed": false
   },
   "outputs": [
    {
     "data": {
      "text/plain": [
       "newgaslimit (generic function with 1 method)"
      ]
     },
     "execution_count": 5,
     "metadata": {},
     "output_type": "execute_result"
    }
   ],
   "source": [
    "function newgaslimit(parentgaslimit)\n",
    "    maxchange = floor(parentgaslimit / 1024)\n",
    "    DiscreteUniform(max(125000, parentgaslimit - maxchange), parentgaslimit + maxchange)\n",
    "end"
   ]
  },
  {
   "cell_type": "code",
   "execution_count": 6,
   "metadata": {
    "collapsed": true
   },
   "outputs": [],
   "source": [
    "abstract StringDistribution <: DiscreteUnivariateDistribution"
   ]
  },
  {
   "cell_type": "code",
   "execution_count": 7,
   "metadata": {
    "collapsed": false
   },
   "outputs": [],
   "source": [
    "immutable HashString <: StringDistribution\n",
    "    bit::UInt\n",
    "end"
   ]
  },
  {
   "cell_type": "code",
   "execution_count": 8,
   "metadata": {
    "collapsed": false
   },
   "outputs": [],
   "source": [
    "Distributions.rand(d::HashString) = string([hex(rand(0x0:0xF)) for _ in 1:div(d.bit, 4)]...)\n",
    "function Distributions.logpdf(d::HashString, x::String)\n",
    "    if ismatch(r\"^[0-9,a-f]+$\", x) && length(x) * 4 == d.bit\n",
    "        -Int(d.bit)*log(2)\n",
    "    else\n",
    "        -Inf\n",
    "    end\n",
    "end"
   ]
  },
  {
   "cell_type": "code",
   "execution_count": 9,
   "metadata": {
    "collapsed": true
   },
   "outputs": [],
   "source": [
    "Distributions.rand(d::HashString, n::Int) = Vector([rand(d) for _ in 1:n])\n",
    "Distributions.logpdf(d::HashString, xs::Vector{String}) = sum(logpdf(d, x) for x in xs)"
   ]
  },
  {
   "cell_type": "code",
   "execution_count": 10,
   "metadata": {
    "collapsed": false
   },
   "outputs": [],
   "source": [
    "immutable VectorDistribution <: DiscreteUnivariateDistribution\n",
    "    inner::Distribution\n",
    "    maxelements::Int\n",
    "end"
   ]
  },
  {
   "cell_type": "code",
   "execution_count": 11,
   "metadata": {
    "collapsed": false
   },
   "outputs": [],
   "source": [
    "Distributions.rand(d::VectorDistribution) = rand(d.inner, rand(0:d.maxelements))\n",
    "function Distributions.logpdf(d::VectorDistribution, v::Vector)\n",
    "    l = length(x)\n",
    "    logpdf(DiscreteUniform(1, d.maxelements), l) + sum(logpdf(d.inner, i) for i in v)\n",
    "end\n",
    "Distributions.rand(d::VectorDistribution, n::Int) = Vector([rand(d) for _ in 1:n])\n",
    "Distributions.logpdf(d::VectorDistribution, xs::Vector{Vector}) = sum(logpdf(d, x) for x in xs)"
   ]
  },
  {
   "cell_type": "code",
   "execution_count": 12,
   "metadata": {
    "collapsed": false
   },
   "outputs": [],
   "source": [
    "immutable DataString <: StringDistribution\n",
    "    maxbytes::UInt\n",
    "end\n",
    "Distributions.rand(d::DataString) = rand(HashString(rand(8:8*d.maxbytes)))\n",
    "function Distributions.logpdf(d::DataString, x::String)\n",
    "    l = length(x)\n",
    "    logpdf(DiscreteUniform(1, d.maxbytes), div(l, 2)) + logpdf(HashString(l * 4), x)\n",
    "end\n",
    "Distributions.rand(d::DataString, n::Int) = Vector([rand(d) for _ in 1:n])\n",
    "Distributions.logpdf(d::DataString, xs::Vector{String}) = sum(logpdf(d, x) for x in xs)"
   ]
  },
  {
   "cell_type": "code",
   "execution_count": 13,
   "metadata": {
    "collapsed": false
   },
   "outputs": [],
   "source": [
    "Kronecker(a) = DiscreteUniform(a, a)\n",
    "immutable PrefixedString <: StringDistribution\n",
    "    prefix::String\n",
    "    inner::StringDistribution\n",
    "end\n",
    "Distributions.rand(d::PrefixedString) = d.prefix * rand(d.inner)\n",
    "function Distributions.logpdf(d::PrefixedString, x::String)\n",
    "    matches = match(Regex(\"^\" * d.prefix * \"(.*)\\$\"), x)\n",
    "    matches === nothing ? -Inf : logpdf(d.inner, matches.captures[1])\n",
    "end\n",
    "Distributions.rand(d::PrefixedString, n::Int) = Vector([rand(d) for _ in 1:n])\n",
    "Distributions.logpdf(d::PrefixedString, xs::Vector{String}) = sum(logpdf(d, x) for x in xs)"
   ]
  },
  {
   "cell_type": "code",
   "execution_count": 12,
   "metadata": {
    "collapsed": false
   },
   "outputs": [
    {
     "data": {
      "text/plain": [
       "blockdistributions (generic function with 1 method)"
      ]
     },
     "execution_count": 12,
     "metadata": {},
     "output_type": "execute_result"
    }
   ],
   "source": [
    "function blockdistributions(history)\n",
    "    number = history[end][\"number\"] + 1\n",
    "    author = PrefixedString(\"0x\", HashString(160))\n",
    "    timediff = rand(Poisson(14))\n",
    "    difficulty = newdifficulty(history[end], number, timediff)\n",
    "    gaslimit = newgaslimit(history[end][\"gasLimit\"])\n",
    "    gasused = DiscreteUniform(0, rand(gaslimit))\n",
    "    mixhash = HashString(256)\n",
    "    nonce = HashString(64)\n",
    "\n",
    "    Dict(\n",
    "    \"totalDifficulty\" => Kronecker(history[end][\"totalDifficulty\"] + difficulty),\n",
    "    \"extraData\" => PrefixedString(\"0x\", DataString(32)),\n",
    "    \"number\" => Kronecker(number),\n",
    "    \"difficulty\" => Kronecker(difficulty),\n",
    "    \"miner\" => author,\n",
    "    \"logsBloom\" => Kronecker(0),\n",
    "    \"transactionsRoot\" => PrefixedString(\"0x\", HashString(256)),\n",
    "    \"author\" => author,\n",
    "    \"sealFields\" => [PrefixedString(\"0xa0\", mixhash), PrefixedString(\"0x88\", nonce)],\n",
    "    \"sha3Uncles\" => PrefixedString(\"0x\", HashString(256)),\n",
    "    \"parentHash\" => Kronecker(history[end-1][\"hash\"]),\n",
    "    \"gasLimit\" => gaslimit,\n",
    "    \"hash\" => PrefixedString(\"0x\", HashString(256)),\n",
    "    \"size\" => DiscreteUniform(0, 100000),\n",
    "    \"mixHash\" => PrefixedString(\"0x\", mixhash),\n",
    "    \"receiptsRoot\" => PrefixedString(\"0x\", HashString(256)),\n",
    "    \"stateRoot\" => PrefixedString(\"0x\", HashString(256)),\n",
    "    \"gasUsed\" => gasused,\n",
    "    \"transactions\" => VectorDistribution(PrefixedString(\"0x\", HashString(256)), div(rand(gasused), rand(DiscreteUniform(21000, rand(gasused))))),\n",
    "    \"timestamp\" => history[end][\"timestamp\"] + timediff,\n",
    "    \"uncles\" => VectorDistribution(PrefixedString(\"0x\", HashString(256)), 2),\n",
    "    \"nonce\" => PrefixedString(\"0x\", nonce)\n",
    "    )\n",
    "end"
   ]
  },
  {
   "cell_type": "code",
   "execution_count": 28,
   "metadata": {
    "collapsed": false
   },
   "outputs": [
    {
     "ename": "LoadError",
     "evalue": "MethodError: no method matching Distributions.DiscreteUniform(::String, ::String)\u001b[0m\nClosest candidates are:\n  Distributions.DiscreteUniform{T}(::Any) at sysimg.jl:53\u001b[0m",
     "output_type": "error",
     "traceback": [
      "MethodError: no method matching Distributions.DiscreteUniform(::String, ::String)\u001b[0m\nClosest candidates are:\n  Distributions.DiscreteUniform{T}(::Any) at sysimg.jl:53\u001b[0m",
      "",
      " in blockdistributions(::Array{Dict{String,Any},1}) at ./In[27]:11"
     ]
    }
   ],
   "source": [
    "blockdistributions(blocks)"
   ]
  },
  {
   "cell_type": "code",
   "execution_count": 14,
   "metadata": {
    "collapsed": false
   },
   "outputs": [
    {
     "data": {
      "text/plain": [
       "block (generic function with 2 methods)"
      ]
     },
     "execution_count": 14,
     "metadata": {},
     "output_type": "execute_result"
    }
   ],
   "source": [
    "@model block(history) = begin\n",
    "    number = history[end][\"number\"] + 1\n",
    "    author ~ PrefixedString(\"0x\", HashString(160))\n",
    "    timediff ~ Poisson(14)\n",
    "    difficulty = newdifficulty(history[end], number, timediff)\n",
    "    gaslimit ~ newgaslimit(history[end][\"gasLimit\"])\n",
    "    gasused ~ DiscreteUniform(0, gaslimit)\n",
    "    mixhash ~ HashString(256)\n",
    "    nonce ~ HashString(64)\n",
    "    extradata ~ PrefixedString(\"0x\", DataString(32))\n",
    "    transactionsroot ~ PrefixedString(\"0x\", HashString(256))\n",
    "    sha3uncles ~ PrefixedString(\"0x\", HashString(256))\n",
    "    hash ~ PrefixedString(\"0x\", HashString(256))\n",
    "    size ~ DiscreteUniform(0, 100000)\n",
    "    receiptsroot ~ PrefixedString(\"0x\", HashString(256))\n",
    "    stateroot ~ PrefixedString(\"0x\", HashString(256))\n",
    "    averagetxgas ~ DiscreteUniform(21000, max(21000, gasused))\n",
    "    transactions ~ VectorDistribution(PrefixedString(\"0x\", HashString(256)), div(gasused, averagetxgas))\n",
    "    uncles ~ VectorDistribution(PrefixedString(\"0x\", HashString(256)), 2)\n",
    "\n",
    "    Dict(\n",
    "    \"totalDifficulty\" => history[end][\"totalDifficulty\"] + difficulty,\n",
    "    \"extraData\" => extradata,\n",
    "    \"number\" => number,\n",
    "    \"difficulty\" => difficulty,\n",
    "    \"miner\" => author,\n",
    "    \"logsBloom\" => 0,\n",
    "    \"transactionsRoot\" => transactionsroot,\n",
    "    \"author\" => author,\n",
    "    \"sealFields\" => [string(\"0xa0\", mixhash), string(\"0x88\", nonce)],\n",
    "    \"sha3Uncles\" => sha3uncles,\n",
    "    \"parentHash\" => history[end-1][\"hash\"],\n",
    "    \"gasLimit\" => gaslimit,\n",
    "    \"hash\" => hash,\n",
    "    \"size\" => size,\n",
    "    \"mixHash\" => string(\"0x\", mixhash),\n",
    "    \"receiptsRoot\" => receiptsroot,\n",
    "    \"stateRoot\" => stateroot,\n",
    "    \"gasUsed\" => gasused,\n",
    "    \"transactions\" => transactions,\n",
    "    \"timestamp\" => history[end][\"timestamp\"] + timediff,\n",
    "    \"uncles\" => uncles,\n",
    "    \"nonce\" => string(\"0x\", nonce)\n",
    "    )\n",
    "end"
   ]
  },
  {
   "cell_type": "code",
   "execution_count": 18,
   "metadata": {
    "collapsed": false
   },
   "outputs": [
    {
     "name": "stdout",
     "output_type": "stream",
     "text": [
      "[Turing]: Assume - `author` is a parameter\n",
      "[Turing]: Assume - `timediff` is a parameter\n",
      "[Turing]: Assume - `gaslimit` is a parameter\n",
      "[Turing]: Assume - `gasused` is a parameter\n",
      "[Turing]: Assume - `mixhash` is a parameter\n",
      "[Turing]: Assume - `nonce` is a parameter\n",
      "[Turing]: Assume - `extradata` is a parameter\n",
      "[Turing]: Assume - `transactionsroot` is a parameter\n",
      "[Turing]: Assume - `sha3uncles` is a parameter\n",
      "[Turing]: Assume - `hash` is a parameter (ignoring `hash` found in global scope)\n",
      "[Turing]: Assume - `size` is a parameter (ignoring `size` found in global scope)\n",
      "[Turing]: Assume - `receiptsroot` is a parameter\n",
      "[Turing]: Assume - `stateroot` is a parameter\n",
      "[Turing]: Assume - `averagetxgas` is a parameter\n",
      "[Turing]: Assume - `transactions` is a parameter\n",
      "[Turing]: Assume - `uncles` is a parameter\n"
     ]
    },
    {
     "name": "stderr",
     "output_type": "stream",
     "text": [
      "WARNING: Method definition block_model_##295() in module Main at In[14]:2 overwritten at In[14]:2.\n",
      "WARNING: Method definition #block_model_##295(Array{Any, 1}, Main.#block_model_##295) in module Main overwritten.\n"
     ]
    },
    {
     "ename": "LoadError",
     "evalue": "UndefVarError: LMH not defined",
     "output_type": "error",
     "traceback": [
      "UndefVarError: LMH not defined",
      ""
     ]
    }
   ],
   "source": [
    "c1 = sample(block(blocks), LMH(10))"
   ]
  },
  {
   "cell_type": "code",
   "execution_count": 22,
   "metadata": {
    "collapsed": false
   },
   "outputs": [
    {
     "data": {
      "text/plain": [
       "2"
      ]
     },
     "execution_count": 22,
     "metadata": {},
     "output_type": "execute_result"
    }
   ],
   "source": [
    "[1, 2][length([1, 2])]"
   ]
  },
  {
   "cell_type": "code",
   "execution_count": 20,
   "metadata": {
    "collapsed": false
   },
   "outputs": [
    {
     "data": {
      "text/plain": [
       "Object of type \"Turing.Chain\"\n",
       "\n",
       "Iterations = 1:10\n",
       "Thinning interval = 1\n",
       "Chains = 1\n",
       "Samples per chain = 10\n",
       "\n",
       "[0.0 6.79645e18 0.0; 0.0 6.33299e18 0.0; … ; 0.0 1.47219e18 0.0; 0.0 3.83103e18 0.0]"
      ]
     },
     "execution_count": 20,
     "metadata": {},
     "output_type": "execute_result"
    }
   ],
   "source": [
    "c1"
   ]
  },
  {
   "cell_type": "code",
   "execution_count": 17,
   "metadata": {
    "collapsed": false
   },
   "outputs": [
    {
     "data": {
      "text/plain": [
       "\"ab\""
      ]
     },
     "execution_count": 17,
     "metadata": {},
     "output_type": "execute_result"
    }
   ],
   "source": [
    "\"a\" * \"b\""
   ]
  },
  {
   "cell_type": "code",
   "execution_count": 23,
   "metadata": {
    "collapsed": false
   },
   "outputs": [
    {
     "data": {
      "text/html": [
       "<script src=\"/home/keorn/.julia/v0.5/Plots/src/backends/../../deps/plotly-latest.min.js\"></script>    <div id=\"85c5bae5-0523-4275-a10a-4bc6a5b92cd8\" style=\"width:600px;height:400px;\"></div>\n",
       "    <script>\n",
       "    PLOT = document.getElementById('85c5bae5-0523-4275-a10a-4bc6a5b92cd8');\n",
       "    Plotly.plot(PLOT, [{\"yaxis\":\"y\",\"y\":[228.0,217.0,178.0,114.0,95.0,56.0,38.0,30.0,13.0,13.0,6.0,2.0,3.0,3.0,1.0,0.0,1.0,1.0],\"showlegend\":true,\"name\":\"y1\",\"type\":\"bar\",\"xaxis\":\"x\",\"orientation\":\"v\",\"colorbar\":{\"title\":\"\"},\"x\":[2.5,7.5,12.5,17.5,22.5,27.5,32.5,37.5,42.5,47.5,52.5,57.5,62.5,67.5,72.5,77.5,82.5,87.5],\"marker\":{\"color\":\"rgba(0, 154, 250, 1.000)\"}}], {\"yaxis\":{\"type\":\"-\",\"titlefont\":{\"size\":15,\"color\":\"rgba(0, 0, 0, 1.000)\",\"family\":\"sans-serif\"},\"title\":\"\",\"tickfont\":{\"size\":11,\"color\":\"rgba(0, 0, 0, 1.000)\",\"family\":\"sans-serif\"},\"ticks\":\"inside\",\"tickmode\":\"array\",\"showgrid\":true,\"tickvals\":[0.0,50.0,100.0,150.0,200.0],\"domain\":[0.03762029746281716,0.9901574803149606],\"ticktext\":[\"0\",\"50\",\"100\",\"150\",\"200\"],\"tickangle\":0,\"zeroline\":false,\"linecolor\":\"rgba(0, 0, 0, 1.000)\",\"tickcolor\":\"rgba(0, 0, 0, 1.000)\",\"anchor\":\"x\"},\"annotations\":[],\"width\":600,\"plot_bgcolor\":\"rgba(255, 255, 255, 1.000)\",\"showlegend\":true,\"legend\":{\"bgcolor\":\"rgba(255, 255, 255, 1.000)\",\"y\":1.0,\"font\":{\"size\":11,\"color\":\"rgba(0, 0, 0, 1.000)\",\"family\":\"sans-serif\"},\"bordercolor\":\"rgba(0, 0, 0, 1.000)\",\"x\":1.0},\"xaxis\":{\"type\":\"-\",\"titlefont\":{\"size\":15,\"color\":\"rgba(0, 0, 0, 1.000)\",\"family\":\"sans-serif\"},\"title\":\"\",\"tickfont\":{\"size\":11,\"color\":\"rgba(0, 0, 0, 1.000)\",\"family\":\"sans-serif\"},\"ticks\":\"inside\",\"tickmode\":\"array\",\"showgrid\":true,\"tickvals\":[0.0,25.0,50.0,75.0],\"domain\":[0.05100612423447069,0.9934383202099737],\"ticktext\":[\"0\",\"25\",\"50\",\"75\"],\"tickangle\":0,\"zeroline\":false,\"linecolor\":\"rgba(0, 0, 0, 1.000)\",\"tickcolor\":\"rgba(0, 0, 0, 1.000)\",\"anchor\":\"y\"},\"paper_bgcolor\":\"rgba(255, 255, 255, 1.000)\",\"height\":400,\"margin\":{\"r\":0,\"l\":0,\"b\":20,\"t\":20}});\n",
       "    </script>\n"
      ]
     },
     "execution_count": 23,
     "metadata": {},
     "output_type": "execute_result"
    }
   ],
   "source": [
    "timestamps = [b[\"timestamp\"] for b in blocks]\n",
    "times = [times[i]-times[i-1] for i in 2:length(times)]\n",
    "histogram(times)"
   ]
  },
  {
   "cell_type": "code",
   "execution_count": 27,
   "metadata": {
    "collapsed": false
   },
   "outputs": [
    {
     "data": {
      "text/html": [
       "<script src=\"/home/keorn/.julia/v0.5/Plots/src/backends/../../deps/plotly-latest.min.js\"></script>    <div id=\"9b6acaca-a6d7-4dc1-aae0-27dbf0be5444\" style=\"width:600px;height:400px;\"></div>\n",
       "    <script>\n",
       "    PLOT = document.getElementById('9b6acaca-a6d7-4dc1-aae0-27dbf0be5444');\n",
       "    Plotly.plot(PLOT, [{\"yaxis\":\"y\",\"y\":[4.0,6.0,21.0,29.0,44.0,68.0,65.0,97.0,122.0,113.0,90.0,74.0,80.0,49.0,39.0,37.0,28.0,14.0,8.0,5.0,3.0,1.0,1.0,1.0],\"showlegend\":true,\"name\":\"y1\",\"type\":\"bar\",\"xaxis\":\"x\",\"orientation\":\"v\",\"colorbar\":{\"title\":\"\"},\"x\":[5.5,6.5,7.5,8.5,9.5,10.5,11.5,12.5,13.5,14.5,15.5,16.5,17.5,18.5,19.5,20.5,21.5,22.5,23.5,24.5,25.5,26.5,27.5,28.5],\"marker\":{\"color\":\"rgba(0, 154, 250, 1.000)\"}}], {\"yaxis\":{\"type\":\"-\",\"titlefont\":{\"size\":15,\"color\":\"rgba(0, 0, 0, 1.000)\",\"family\":\"sans-serif\"},\"title\":\"\",\"tickfont\":{\"size\":11,\"color\":\"rgba(0, 0, 0, 1.000)\",\"family\":\"sans-serif\"},\"ticks\":\"inside\",\"tickmode\":\"array\",\"showgrid\":true,\"tickvals\":[0.0,25.0,50.0,75.0,100.0],\"domain\":[0.03762029746281716,0.9901574803149606],\"ticktext\":[\"0\",\"25\",\"50\",\"75\",\"100\"],\"tickangle\":0,\"zeroline\":false,\"linecolor\":\"rgba(0, 0, 0, 1.000)\",\"tickcolor\":\"rgba(0, 0, 0, 1.000)\",\"anchor\":\"x\"},\"annotations\":[],\"width\":600,\"plot_bgcolor\":\"rgba(255, 255, 255, 1.000)\",\"showlegend\":true,\"legend\":{\"bgcolor\":\"rgba(255, 255, 255, 1.000)\",\"y\":1.0,\"font\":{\"size\":11,\"color\":\"rgba(0, 0, 0, 1.000)\",\"family\":\"sans-serif\"},\"bordercolor\":\"rgba(0, 0, 0, 1.000)\",\"x\":1.0},\"xaxis\":{\"type\":\"-\",\"titlefont\":{\"size\":15,\"color\":\"rgba(0, 0, 0, 1.000)\",\"family\":\"sans-serif\"},\"title\":\"\",\"tickfont\":{\"size\":11,\"color\":\"rgba(0, 0, 0, 1.000)\",\"family\":\"sans-serif\"},\"ticks\":\"inside\",\"tickmode\":\"array\",\"showgrid\":true,\"tickvals\":[10.0,20.0],\"domain\":[0.05100612423447069,0.9934383202099737],\"ticktext\":[\"10\",\"20\"],\"tickangle\":0,\"zeroline\":false,\"linecolor\":\"rgba(0, 0, 0, 1.000)\",\"tickcolor\":\"rgba(0, 0, 0, 1.000)\",\"anchor\":\"y\"},\"paper_bgcolor\":\"rgba(255, 255, 255, 1.000)\",\"height\":400,\"margin\":{\"r\":0,\"l\":0,\"b\":20,\"t\":20}});\n",
       "    </script>\n"
      ]
     },
     "execution_count": 27,
     "metadata": {},
     "output_type": "execute_result"
    }
   ],
   "source": [
    "histogram([rand(Poisson(14)) for _ in 1:999])"
   ]
  },
  {
   "cell_type": "code",
   "execution_count": 84,
   "metadata": {
    "collapsed": false
   },
   "outputs": [
    {
     "data": {
      "text/plain": [
       "1000-element Array{Int64,1}:\n",
       "  544\n",
       "  549\n",
       "  544\n",
       "  547\n",
       "  544\n",
       "  689\n",
       "  544\n",
       "  547\n",
       "  660\n",
       "  547\n",
       "  549\n",
       "  522\n",
       " 1856\n",
       "    ⋮\n",
       "  773\n",
       "  517\n",
       "  544\n",
       " 1085\n",
       "  720\n",
       "  663\n",
       "  549\n",
       "  517\n",
       "  547\n",
       "  517\n",
       "  663\n",
       "  544"
      ]
     },
     "execution_count": 84,
     "metadata": {},
     "output_type": "execute_result"
    }
   ],
   "source": [
    "[b[\"size\"] for b in blocks]"
   ]
  },
  {
   "cell_type": "code",
   "execution_count": 17,
   "metadata": {
    "collapsed": false
   },
   "outputs": [
    {
     "data": {
      "text/html": [
       "<script src=\"/home/keorn/.julia/v0.5/Plots/src/backends/../../deps/plotly-latest.min.js\"></script>    <div id=\"792a642f-9058-420c-97ea-91cabc801f4e\" style=\"width:600px;height:400px;\"></div>\n",
       "    <script>\n",
       "    PLOT = document.getElementById('792a642f-9058-420c-97ea-91cabc801f4e');\n",
       "    Plotly.plot(PLOT, [{\"yaxis\":\"y\",\"y\":[3.0,155.0,0.0,0.0,0.0,0.0,0.0,0.0,0.0,0.0,0.0,0.0,0.0,0.0,0.0,0.0,0.0,0.0,0.0,0.0,0.0,0.0,0.0,0.0,0.0,49.0,141.0,8.0,192.0,0.0,0.0,30.0,0.0,422.0],\"showlegend\":true,\"name\":\"y1\",\"type\":\"bar\",\"xaxis\":\"x\",\"orientation\":\"v\",\"colorbar\":{\"title\":\"\"},\"x\":[1.0,3.0,5.0,7.0,9.0,11.0,13.0,15.0,17.0,19.0,21.0,23.0,25.0,27.0,29.0,31.0,33.0,35.0,37.0,39.0,41.0,43.0,45.0,47.0,49.0,51.0,53.0,55.0,57.0,59.0,61.0,63.0,65.0,67.0],\"marker\":{\"color\":\"rgba(0, 154, 250, 1.000)\"}}], {\"yaxis\":{\"type\":\"-\",\"titlefont\":{\"size\":15,\"color\":\"rgba(0, 0, 0, 1.000)\",\"family\":\"sans-serif\"},\"title\":\"\",\"tickfont\":{\"size\":11,\"color\":\"rgba(0, 0, 0, 1.000)\",\"family\":\"sans-serif\"},\"ticks\":\"inside\",\"tickmode\":\"array\",\"showgrid\":true,\"tickvals\":[0.0,100.0,200.0,300.0,400.0],\"domain\":[0.03762029746281716,0.9901574803149606],\"ticktext\":[\"0\",\"100\",\"200\",\"300\",\"400\"],\"tickangle\":0,\"zeroline\":false,\"linecolor\":\"rgba(0, 0, 0, 1.000)\",\"tickcolor\":\"rgba(0, 0, 0, 1.000)\",\"anchor\":\"x\"},\"annotations\":[],\"width\":600,\"plot_bgcolor\":\"rgba(255, 255, 255, 1.000)\",\"showlegend\":true,\"legend\":{\"bgcolor\":\"rgba(255, 255, 255, 1.000)\",\"y\":1.0,\"font\":{\"size\":11,\"color\":\"rgba(0, 0, 0, 1.000)\",\"family\":\"sans-serif\"},\"bordercolor\":\"rgba(0, 0, 0, 1.000)\",\"x\":1.0},\"xaxis\":{\"type\":\"-\",\"titlefont\":{\"size\":15,\"color\":\"rgba(0, 0, 0, 1.000)\",\"family\":\"sans-serif\"},\"title\":\"\",\"tickfont\":{\"size\":11,\"color\":\"rgba(0, 0, 0, 1.000)\",\"family\":\"sans-serif\"},\"ticks\":\"inside\",\"tickmode\":\"array\",\"showgrid\":true,\"tickvals\":[0.0,20.0,40.0,60.0],\"domain\":[0.05100612423447069,0.9934383202099737],\"ticktext\":[\"0\",\"20\",\"40\",\"60\"],\"tickangle\":0,\"zeroline\":false,\"linecolor\":\"rgba(0, 0, 0, 1.000)\",\"tickcolor\":\"rgba(0, 0, 0, 1.000)\",\"anchor\":\"y\"},\"paper_bgcolor\":\"rgba(255, 255, 255, 1.000)\",\"height\":400,\"margin\":{\"r\":0,\"l\":0,\"b\":20,\"t\":20}});\n",
       "    </script>\n"
      ]
     },
     "execution_count": 17,
     "metadata": {},
     "output_type": "execute_result"
    }
   ],
   "source": [
    "histogram([length(b[\"extraData\"]) for b in blocks])"
   ]
  },
  {
   "cell_type": "code",
   "execution_count": 9,
   "metadata": {
    "collapsed": false
   },
   "outputs": [
    {
     "data": {
      "text/html": [
       "<script src=\"/home/keorn/.julia/v0.5/Plots/src/backends/../../deps/plotly-latest.min.js\"></script>    <div id=\"c4337084-c03b-4261-9231-766f41211a37\" style=\"width:600px;height:400px;\"></div>\n",
       "    <script>\n",
       "    PLOT = document.getElementById('c4337084-c03b-4261-9231-766f41211a37');\n",
       "    Plotly.plot(PLOT, [{\"yaxis\":\"y\",\"y\":[15705.513354693636,15421.687449477535,15147.953680636163,14883.783174346601,14628.683376208282,14382.19498615466,14143.889198617364,13913.365213055115,13408.248339786218,12938.584049030811,12500.766425022508,12091.662531090853,11348.992423690834,10692.440602698367,10107.848833744405,9584.00120861102,9111.897561524298,8684.232060942642,8295.012420500625,7939.277387924203,7772.644709342229,7612.88414029814,7459.579150176013,7312.346203922183,7170.831558303314,7034.708424338852,6903.674447993012,6777.44946824544,6538.405034668939,6315.706818946972,6067.397900064638,5837.947268627558,5625.285177922111,5427.634071874394,5243.458781292224,5071.426571119768,4910.37483800726,4759.284801986208,4524.001481800882,4310.997055634717,4117.250196819928,3940.262262630056,3764.5729315746617,3603.9738504720335,3456.6008859443527,3320.8848024059853,3204.9422040352442,3096.8796561699296,2995.9202088973943,2901.385802202881,2717.6687611148427,2556.01107745013,2391.4087463298847,2246.9086504367515,2188.2145631350627,2132.5416033863416,2079.6623665417496,2029.3717121040625,1987.2547369660351,1946.8713063189546,1908.1165487863702,1870.8938847611619,1724.4000627797295,1598.7609569345277,1479.8412594368474,1382.2581269473872,1336.5238537552411,1293.7712413963343,1259.885623448577,1227.7629181135544,1155.929543254919,1095.812035912412,1011.7756487375077],\"showlegend\":true,\"name\":\"y1\",\"type\":\"scatter\",\"xaxis\":\"x\",\"line\":{\"width\":1,\"dash\":\"solid\",\"color\":\"rgba(0, 154, 250, 1.000)\",\"shape\":\"linear\"},\"colorbar\":{\"title\":\"\"},\"x\":[0.029297457059364394,0.05859491411872879,0.08789237117809318,0.11718982823745758,0.14648728529682198,0.17578474235618635,0.20508219941555075,0.23437965647491515,0.30210398008635364,0.3698283036977922,0.4375526273092307,0.5052769509206693,0.6407255981435462,0.7761742453664233,0.9116228925893004,1.0470715398121775,1.1825201870350543,1.3179688342579314,1.4534174814808085,1.5888661287036854,1.656590452315124,1.7243147759265625,1.792039099538001,1.8597634231494395,1.9274877467608782,1.9952120703723166,2.062936393983755,2.1306607175951937,2.266109364818071,2.401558012040948,2.564355994452701,2.727153976864454,2.8899519592762073,3.0527499416879604,3.2155479240997136,3.3783459065114667,3.54114388892322,3.703941871334973,3.9792291157958237,4.254516360256675,4.529803604717526,4.805090849178377,5.104129957082091,5.403169064985805,5.70220817288952,6.001247280793234,6.276934887802694,6.552622494812155,6.828310101821616,7.103997708831076,7.695130211293417,8.286262713755757,8.971147688940267,9.656032664124774,9.960355134759709,10.264677605394645,10.569000076029582,10.873322546664516,11.140185929239706,11.407049311814898,11.67391269439009,11.94077607696528,13.104586959727666,14.275314690067491,15.569703902985703,16.801282577876243,17.44156061107433,18.081838644272413,18.62081636613835,19.159794088004283,20.475855503672737,21.712992051089007,23.69498073638544],\"mode\":\"lines\"}], {\"yaxis\":{\"type\":\"-\",\"titlefont\":{\"size\":15,\"color\":\"rgba(0, 0, 0, 1.000)\",\"family\":\"sans-serif\"},\"title\":\"\",\"tickfont\":{\"size\":11,\"color\":\"rgba(0, 0, 0, 1.000)\",\"family\":\"sans-serif\"},\"ticks\":\"inside\",\"tickmode\":\"array\",\"showgrid\":true,\"tickvals\":[5000.0,10000.0,15000.0],\"domain\":[0.03762029746281716,0.9901574803149606],\"ticktext\":[\"5000\",\"10000\",\"15000\"],\"tickangle\":0,\"zeroline\":false,\"linecolor\":\"rgba(0, 0, 0, 1.000)\",\"tickcolor\":\"rgba(0, 0, 0, 1.000)\",\"anchor\":\"x\"},\"annotations\":[],\"width\":600,\"plot_bgcolor\":\"rgba(255, 255, 255, 1.000)\",\"showlegend\":true,\"legend\":{\"bgcolor\":\"rgba(255, 255, 255, 1.000)\",\"y\":1.0,\"font\":{\"size\":11,\"color\":\"rgba(0, 0, 0, 1.000)\",\"family\":\"sans-serif\"},\"bordercolor\":\"rgba(0, 0, 0, 1.000)\",\"x\":1.0},\"xaxis\":{\"type\":\"-\",\"titlefont\":{\"size\":15,\"color\":\"rgba(0, 0, 0, 1.000)\",\"family\":\"sans-serif\"},\"title\":\"\",\"tickfont\":{\"size\":11,\"color\":\"rgba(0, 0, 0, 1.000)\",\"family\":\"sans-serif\"},\"ticks\":\"inside\",\"tickmode\":\"array\",\"showgrid\":true,\"tickvals\":[5.0,10.0,15.0,20.0],\"domain\":[0.08063575386410031,0.9934383202099737],\"ticktext\":[\"5\",\"10\",\"15\",\"20\"],\"tickangle\":0,\"zeroline\":false,\"linecolor\":\"rgba(0, 0, 0, 1.000)\",\"tickcolor\":\"rgba(0, 0, 0, 1.000)\",\"anchor\":\"y\"},\"paper_bgcolor\":\"rgba(255, 255, 255, 1.000)\",\"height\":400,\"margin\":{\"r\":0,\"l\":0,\"b\":20,\"t\":20}});\n",
       "    </script>\n"
      ]
     },
     "execution_count": 9,
     "metadata": {},
     "output_type": "execute_result"
    }
   ],
   "source": [
    "Plots.plot(t->24921 / (t + 1.56) + 25, 0, 24)"
   ]
  },
  {
   "cell_type": "code",
   "execution_count": 8,
   "metadata": {
    "collapsed": false
   },
   "outputs": [
    {
     "data": {
      "text/html": [
       "<script src=\"/home/keorn/.julia/v0.5/Plots/src/backends/../../deps/plotly-latest.min.js\"></script>    <div id=\"17411775-f755-4a69-9a45-a8e53c3a15ac\" style=\"width:600px;height:400px;\"></div>\n",
       "    <script>\n",
       "    PLOT = document.getElementById('17411775-f755-4a69-9a45-a8e53c3a15ac');\n",
       "    Plotly.plot(PLOT, [{\"yaxis\":\"y\",\"y\":[2227.3673793705375,1186.453648413587,204.73912652584534,101.90239936085095,75.00162952889825,57.510957308712506,46.881232656616874,38.67775277320169,26.02610913645013,18.126698507770577,11.987704428701626,6.7511744331565815,3.2028335203281415,0.6856701069546638,-1.592122308698709,-3.5092389171171234,-5.293675430178077,-6.736552528875951,-8.028598190568186,-8.982475900957617,-10.011018879897671,-10.864288366409582,-12.045725786822015],\"showlegend\":true,\"name\":\"y1\",\"type\":\"scatter\",\"xaxis\":\"x\",\"line\":{\"width\":1,\"dash\":\"solid\",\"color\":\"rgba(0, 154, 250, 1.000)\",\"shape\":\"linear\"},\"colorbar\":{\"title\":\"\"},\"x\":[9.76581901978813,19.53163803957626,109.83073618816096,200.12983433674566,254.39582847399672,308.66182261124777,354.54303002138965,400.4242374315315,500.10394006610284,591.9998090692563,690.5218928129797,804.6693886770646,906.1102122220428,995.06467308044,1092.048913310639,1189.6095575056243,1297.4753252488085,1400.1068814896869,1506.819887022701,1596.6495073336903,1706.3212919727282,1809.416004257417,1974.5817280321198],\"mode\":\"lines\"}], {\"yaxis\":{\"type\":\"-\",\"titlefont\":{\"size\":15,\"color\":\"rgba(0, 0, 0, 1.000)\",\"family\":\"sans-serif\"},\"title\":\"\",\"tickfont\":{\"size\":11,\"color\":\"rgba(0, 0, 0, 1.000)\",\"family\":\"sans-serif\"},\"ticks\":\"inside\",\"tickmode\":\"array\",\"showgrid\":true,\"tickvals\":[0.0,1000.0,2000.0],\"domain\":[0.03762029746281716,0.9901574803149606],\"ticktext\":[\"0\",\"1000\",\"2000\"],\"tickangle\":0,\"zeroline\":false,\"linecolor\":\"rgba(0, 0, 0, 1.000)\",\"tickcolor\":\"rgba(0, 0, 0, 1.000)\",\"anchor\":\"x\"},\"annotations\":[],\"width\":600,\"plot_bgcolor\":\"rgba(255, 255, 255, 1.000)\",\"showlegend\":true,\"legend\":{\"bgcolor\":\"rgba(255, 255, 255, 1.000)\",\"y\":1.0,\"font\":{\"size\":11,\"color\":\"rgba(0, 0, 0, 1.000)\",\"family\":\"sans-serif\"},\"bordercolor\":\"rgba(0, 0, 0, 1.000)\",\"x\":1.0},\"xaxis\":{\"type\":\"-\",\"titlefont\":{\"size\":15,\"color\":\"rgba(0, 0, 0, 1.000)\",\"family\":\"sans-serif\"},\"title\":\"\",\"tickfont\":{\"size\":11,\"color\":\"rgba(0, 0, 0, 1.000)\",\"family\":\"sans-serif\"},\"ticks\":\"inside\",\"tickmode\":\"array\",\"showgrid\":true,\"tickvals\":[500.0,1000.0,1500.0],\"domain\":[0.0658209390492855,0.9934383202099738],\"ticktext\":[\"500\",\"1000\",\"1500\"],\"tickangle\":0,\"zeroline\":false,\"linecolor\":\"rgba(0, 0, 0, 1.000)\",\"tickcolor\":\"rgba(0, 0, 0, 1.000)\",\"anchor\":\"y\"},\"paper_bgcolor\":\"rgba(255, 255, 255, 1.000)\",\"height\":400,\"margin\":{\"r\":0,\"l\":0,\"b\":20,\"t\":20}});\n",
       "    </script>\n"
      ]
     },
     "execution_count": 8,
     "metadata": {},
     "output_type": "execute_result"
    }
   ],
   "source": [
    "Plots.plot(t->25600/(t+1.6) - 25, 0, 2000)"
   ]
  },
  {
   "cell_type": "code",
   "execution_count": null,
   "metadata": {
    "collapsed": true
   },
   "outputs": [],
   "source": []
  }
 ],
 "metadata": {
  "anaconda-cloud": {},
  "kernelspec": {
   "display_name": "Julia 0.5.2",
   "language": "julia",
   "name": "julia-0.5"
  },
  "language_info": {
   "file_extension": ".jl",
   "mimetype": "application/julia",
   "name": "julia",
   "version": "0.5.2"
  }
 },
 "nbformat": 4,
 "nbformat_minor": 1
}
