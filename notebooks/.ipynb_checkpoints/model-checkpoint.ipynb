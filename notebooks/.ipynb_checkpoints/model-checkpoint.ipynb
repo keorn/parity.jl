{
 "cells": [
  {
   "cell_type": "code",
   "execution_count": 161,
   "metadata": {
    "collapsed": false
   },
   "outputs": [
    {
     "data": {
      "text/plain": [
       "getauthors! (generic function with 1 method)"
      ]
     },
     "execution_count": 161,
     "metadata": {},
     "output_type": "execute_result"
    }
   ],
   "source": [
    "using Plots,Turing, Distributions\n",
    "include(\"../rpc.jl\")"
   ]
  },
  {
   "cell_type": "code",
   "execution_count": 59,
   "metadata": {
    "collapsed": false
   },
   "outputs": [
    {
     "data": {
      "text/plain": [
       "Base.PipeEndpoint(open, 0 bytes waiting)"
      ]
     },
     "execution_count": 59,
     "metadata": {},
     "output_type": "execute_result"
    }
   ],
   "source": [
    "ipc = connect(\"/home/keorn/.local/share/io.parity.ethereum/jsonrpc.ipc\")"
   ]
  },
  {
   "cell_type": "code",
   "execution_count": 60,
   "metadata": {
    "collapsed": false
   },
   "outputs": [
    {
     "data": {
      "text/plain": [
       "1000-element Array{Dict{String,Any},1}:\n",
       " Dict{String,Any}(Pair{String,Any}(\"totalDifficulty\",126015328700267055),Pair{String,Any}(\"extraData\",\"0x476574682f76312e302e312f77696e646f77732f676f312e342e32\"),Pair{String,Any}(\"number\",87768),Pair{String,Any}(\"difficulty\",3174064062722),Pair{String,Any}(\"miner\",\"0xeb1325c8d9d3ea8d74ac11f4b00f1b2367686319\"),Pair{String,Any}(\"logsBloom\",0),Pair{String,Any}(\"transactionsRoot\",\"0xb28ef8a664487a1d5813f240b51cd47ec93654ac26c0ef0e8c30e7f2bc97830c\"),Pair{String,Any}(\"author\",\"0xeb1325c8d9d3ea8d74ac11f4b00f1b2367686319\"),Pair{String,Any}(\"sealFields\",Any[\"0xa0cb922c434c0ea40ecd5e180e3563318aedeef5080cd5da5f770c8b24d78c8b44\",\"0x88b01d419716af8828\"]),Pair{String,Any}(\"sha3Uncles\",\"0x1dcc4de8dec75d7aab85b567b6ccd41ad312451b948a7413f0a142fd40d49347\")…)          \n",
       " Dict{String,Any}(Pair{String,Any}(\"totalDifficulty\",126018501214493809),Pair{String,Any}(\"extraData\",\"0x476574682f76312e302e312d38326566323666362f6c696e75782f676f312e34\"),Pair{String,Any}(\"number\",87769),Pair{String,Any}(\"difficulty\",3172514226754),Pair{String,Any}(\"miner\",\"0xe6a7a1d47ff21b6321162aea7c6cb457d5476bca\"),Pair{String,Any}(\"logsBloom\",0),Pair{String,Any}(\"transactionsRoot\",\"0x56e81f171bcc55a6ff8345e692c0f86e5b48e01b996cadc001622fb5e363b421\"),Pair{String,Any}(\"author\",\"0xe6a7a1d47ff21b6321162aea7c6cb457d5476bca\"),Pair{String,Any}(\"sealFields\",Any[\"0xa0b98ea1a838a49d2835b54c1e1f11c9be2c4db2424b89fa1c8ed84e7f946f3951\",\"0x88bd4b843ebac40b2e\"]),Pair{String,Any}(\"sha3Uncles\",\"0x1dcc4de8dec75d7aab85b567b6ccd41ad312451b948a7413f0a142fd40d49347\")…)\n",
       " Dict{String,Any}(Pair{String,Any}(\"totalDifficulty\",126021675277799775),Pair{String,Any}(\"extraData\",\"0x476574682f76312e302e312d38326566323666362f6c696e75782f676f312e34\"),Pair{String,Any}(\"number\",87770),Pair{String,Any}(\"difficulty\",3174063305966),Pair{String,Any}(\"miner\",\"0xe6a7a1d47ff21b6321162aea7c6cb457d5476bca\"),Pair{String,Any}(\"logsBloom\",0),Pair{String,Any}(\"transactionsRoot\",\"0x56e81f171bcc55a6ff8345e692c0f86e5b48e01b996cadc001622fb5e363b421\"),Pair{String,Any}(\"author\",\"0xe6a7a1d47ff21b6321162aea7c6cb457d5476bca\"),Pair{String,Any}(\"sealFields\",Any[\"0xa09a481859c15852245346cd40962d5a4b499d3ca3bc6d0c70c4dc8c5ec8f57545\",\"0x88bfec80fe05c586e9\"]),Pair{String,Any}(\"sha3Uncles\",\"0x1dcc4de8dec75d7aab85b567b6ccd41ad312451b948a7413f0a142fd40d49347\")…)\n",
       " Dict{String,Any}(Pair{String,Any}(\"totalDifficulty\",126024850890941339),Pair{String,Any}(\"extraData\",\"0x476574682f76312e302e312f6c696e75782f676f312e342e32\"),Pair{String,Any}(\"number\",87771),Pair{String,Any}(\"difficulty\",3175613141564),Pair{String,Any}(\"miner\",\"0xe090ffdced499691fa9379752a59f8a058c1ee4a\"),Pair{String,Any}(\"logsBloom\",0),Pair{String,Any}(\"transactionsRoot\",\"0x56e81f171bcc55a6ff8345e692c0f86e5b48e01b996cadc001622fb5e363b421\"),Pair{String,Any}(\"author\",\"0xe090ffdced499691fa9379752a59f8a058c1ee4a\"),Pair{String,Any}(\"sealFields\",Any[\"0xa08f003be25e4e5c7264d505fb0a5d728dcb347383b5387e3eac4c3d3b2cdeb5f6\",\"0x8841f33375f9cce22c\"]),Pair{String,Any}(\"sha3Uncles\",\"0x1dcc4de8dec75d7aab85b567b6ccd41ad312451b948a7413f0a142fd40d49347\")…)              \n",
       " Dict{String,Any}(Pair{String,Any}(\"totalDifficulty\",126028028054675257),Pair{String,Any}(\"extraData\",\"0x476574682f76312e302e312d38326566323666362f6c696e75782f676f312e34\"),Pair{String,Any}(\"number\",87772),Pair{String,Any}(\"difficulty\",3177163733918),Pair{String,Any}(\"miner\",\"0xe6a7a1d47ff21b6321162aea7c6cb457d5476bca\"),Pair{String,Any}(\"logsBloom\",0),Pair{String,Any}(\"transactionsRoot\",\"0x56e81f171bcc55a6ff8345e692c0f86e5b48e01b996cadc001622fb5e363b421\"),Pair{String,Any}(\"author\",\"0xe6a7a1d47ff21b6321162aea7c6cb457d5476bca\"),Pair{String,Any}(\"sealFields\",Any[\"0xa00857ec5f491bad5099ef0d9ed916a111c3f8006077da3e4a52a4aa50ad877cf6\",\"0x889653f9714c97993d\"]),Pair{String,Any}(\"sha3Uncles\",\"0x1dcc4de8dec75d7aab85b567b6ccd41ad312451b948a7413f0a142fd40d49347\")…)\n",
       " Dict{String,Any}(Pair{String,Any}(\"totalDifficulty\",126031206769758654),Pair{String,Any}(\"extraData\",\"0x476574682f76312e302e312d38326566323666362f6c696e75782f676f312e34\"),Pair{String,Any}(\"number\",87773),Pair{String,Any}(\"difficulty\",3178715083397),Pair{String,Any}(\"miner\",\"0xe6a7a1d47ff21b6321162aea7c6cb457d5476bca\"),Pair{String,Any}(\"logsBloom\",0),Pair{String,Any}(\"transactionsRoot\",\"0x56e81f171bcc55a6ff8345e692c0f86e5b48e01b996cadc001622fb5e363b421\"),Pair{String,Any}(\"author\",\"0xe6a7a1d47ff21b6321162aea7c6cb457d5476bca\"),Pair{String,Any}(\"sealFields\",Any[\"0xa07639062b9d378162af79f61bfb3fd3345375b02b64b9b518941c9bcd97801ef6\",\"0x88f8c44873726496dd\"]),Pair{String,Any}(\"sha3Uncles\",\"0x1dcc4de8dec75d7aab85b567b6ccd41ad312451b948a7413f0a142fd40d49347\")…)\n",
       " Dict{String,Any}(Pair{String,Any}(\"totalDifficulty\",126034387036949025),Pair{String,Any}(\"extraData\",\"0x476574682f76312e302e312f6c696e75782f676f312e342e32\"),Pair{String,Any}(\"number\",87774),Pair{String,Any}(\"difficulty\",3180267190371),Pair{String,Any}(\"miner\",\"0xbf26bdebfe8e9cce5f9868ccb198d03f3de44055\"),Pair{String,Any}(\"logsBloom\",0),Pair{String,Any}(\"transactionsRoot\",\"0x56e81f171bcc55a6ff8345e692c0f86e5b48e01b996cadc001622fb5e363b421\"),Pair{String,Any}(\"author\",\"0xbf26bdebfe8e9cce5f9868ccb198d03f3de44055\"),Pair{String,Any}(\"sealFields\",Any[\"0xa0b9600f723039f0fabffd1b767615209be61cb045804e4db1368f7e3706ce5561\",\"0x88e481ec9fc946633b\"]),Pair{String,Any}(\"sha3Uncles\",\"0x1dcc4de8dec75d7aab85b567b6ccd41ad312451b948a7413f0a142fd40d49347\")…)              \n",
       " Dict{String,Any}(Pair{String,Any}(\"totalDifficulty\",126037565751274557),Pair{String,Any}(\"extraData\",\"0x\"),Pair{String,Any}(\"number\",87775),Pair{String,Any}(\"difficulty\",3178714325532),Pair{String,Any}(\"miner\",\"0x21d46e5e1c37d3fa2157a393fa444eafe63646fa\"),Pair{String,Any}(\"logsBloom\",0),Pair{String,Any}(\"transactionsRoot\",\"0x56e81f171bcc55a6ff8345e692c0f86e5b48e01b996cadc001622fb5e363b421\"),Pair{String,Any}(\"author\",\"0x21d46e5e1c37d3fa2157a393fa444eafe63646fa\"),Pair{String,Any}(\"sealFields\",Any[\"0xa0bb084ee03131b45f03d8bb2a08134070c6f3b32be39718100a0f50d31074db1d\",\"0x885f5aac6b2ddbd4b7\"]),Pair{String,Any}(\"sha3Uncles\",\"0x1dcc4de8dec75d7aab85b567b6ccd41ad312451b948a7413f0a142fd40d49347\")…)                                                                \n",
       " Dict{String,Any}(Pair{String,Any}(\"totalDifficulty\",126040746017706693),Pair{String,Any}(\"extraData\",\"0x476574682f76312e302e312f77696e646f77732f676f312e342e32\"),Pair{String,Any}(\"number\",87776),Pair{String,Any}(\"difficulty\",3180266432136),Pair{String,Any}(\"miner\",\"0xb7268c7705a1866b2a78e882fdfdc8e2a4e1428e\"),Pair{String,Any}(\"logsBloom\",0),Pair{String,Any}(\"transactionsRoot\",\"0x56e81f171bcc55a6ff8345e692c0f86e5b48e01b996cadc001622fb5e363b421\"),Pair{String,Any}(\"author\",\"0xb7268c7705a1866b2a78e882fdfdc8e2a4e1428e\"),Pair{String,Any}(\"sealFields\",Any[\"0xa0215de2c5b110ad800982133ca587d393e8da0944c1be9a2426db9623c3b480dc\",\"0x8844801d4f34ee10c9\"]),Pair{String,Any}(\"sha3Uncles\",\"0x1dcc4de8dec75d7aab85b567b6ccd41ad312451b948a7413f0a142fd40d49347\")…)          \n",
       " Dict{String,Any}(Pair{String,Any}(\"totalDifficulty\",126043924731274361),Pair{String,Any}(\"extraData\",\"0x476574682f76312e302e312d38326566323666362f6c696e75782f676f312e34\"),Pair{String,Any}(\"number\",87777),Pair{String,Any}(\"difficulty\",3178713567668),Pair{String,Any}(\"miner\",\"0xe6a7a1d47ff21b6321162aea7c6cb457d5476bca\"),Pair{String,Any}(\"logsBloom\",0),Pair{String,Any}(\"transactionsRoot\",\"0x56e81f171bcc55a6ff8345e692c0f86e5b48e01b996cadc001622fb5e363b421\"),Pair{String,Any}(\"author\",\"0xe6a7a1d47ff21b6321162aea7c6cb457d5476bca\"),Pair{String,Any}(\"sealFields\",Any[\"0xa01713071b3cc1c26b8b7804d502d2c527c5aa355cd9e618bd8879b34e2c397538\",\"0x88849d9baffacc94b6\"]),Pair{String,Any}(\"sha3Uncles\",\"0x1dcc4de8dec75d7aab85b567b6ccd41ad312451b948a7413f0a142fd40d49347\")…)\n",
       " Dict{String,Any}(Pair{String,Any}(\"totalDifficulty\",126047101892735795),Pair{String,Any}(\"extraData\",\"0x476574682f76312e302e312d38326566323666362f6c696e75782f676f312e34\"),Pair{String,Any}(\"number\",87778),Pair{String,Any}(\"difficulty\",3177161461434),Pair{String,Any}(\"miner\",\"0xe6a7a1d47ff21b6321162aea7c6cb457d5476bca\"),Pair{String,Any}(\"logsBloom\",0),Pair{String,Any}(\"transactionsRoot\",\"0xe4eb75541c5f4c2cc530317ec163a7c8b5f19e1e31389978ecacf119d6e0f0c2\"),Pair{String,Any}(\"author\",\"0xe6a7a1d47ff21b6321162aea7c6cb457d5476bca\"),Pair{String,Any}(\"sealFields\",Any[\"0xa042d67fbbdd5f7d278f20dea3b1ea56eeb3d2e1414729c5901f4c63be50938deb\",\"0x88369310f8074ae290\"]),Pair{String,Any}(\"sha3Uncles\",\"0xeb2ff8d53ebc7f2a13bfb46f2cf8a83edd46fea64e2113ab4cc871144e7276d7\")…)\n",
       " Dict{String,Any}(Pair{String,Any}(\"totalDifficulty\",126050280605545598),Pair{String,Any}(\"extraData\",\"0x\"),Pair{String,Any}(\"number\",87779),Pair{String,Any}(\"difficulty\",3178712809803),Pair{String,Any}(\"miner\",\"0xf927a40c8b7f6e07c5af7fa2155b4864a4112b13\"),Pair{String,Any}(\"logsBloom\",0),Pair{String,Any}(\"transactionsRoot\",\"0x56e81f171bcc55a6ff8345e692c0f86e5b48e01b996cadc001622fb5e363b421\"),Pair{String,Any}(\"author\",\"0xf927a40c8b7f6e07c5af7fa2155b4864a4112b13\"),Pair{String,Any}(\"sealFields\",Any[\"0xa0ef1cc28d8be8fc4e655e629d5829657f7a31fa0e273fa8712299fb6a25e4c7e7\",\"0x88e8d9b7b65fa10df1\"]),Pair{String,Any}(\"sha3Uncles\",\"0x1dcc4de8dec75d7aab85b567b6ccd41ad312451b948a7413f0a142fd40d49347\")…)                                                                \n",
       " Dict{String,Any}(Pair{String,Any}(\"totalDifficulty\",126053457766249537),Pair{String,Any}(\"extraData\",\"0xd783010001844765746887676f312e342e32856c696e7578\"),Pair{String,Any}(\"number\",87780),Pair{String,Any}(\"difficulty\",3177160703939),Pair{String,Any}(\"miner\",\"0x790b8a3ce86e707ed0ed32bf89b3269692a23cc1\"),Pair{String,Any}(\"logsBloom\",0),Pair{String,Any}(\"transactionsRoot\",\"0x56e81f171bcc55a6ff8345e692c0f86e5b48e01b996cadc001622fb5e363b421\"),Pair{String,Any}(\"author\",\"0x790b8a3ce86e707ed0ed32bf89b3269692a23cc1\"),Pair{String,Any}(\"sealFields\",Any[\"0xa0ee79471b7c77d946ce07f918bdc3e2021f2279a19004825d58687e63711e9736\",\"0x8857888c6ddccc9f22\"]),Pair{String,Any}(\"sha3Uncles\",\"0x1dcc4de8dec75d7aab85b567b6ccd41ad312451b948a7413f0a142fd40d49347\")…)                \n",
       " ⋮                                                                                                                                                                                                                                                                                                                                                                                                                                                                                                                                                                                                                                                                                                                                                                                        \n",
       " Dict{String,Any}(Pair{String,Any}(\"totalDifficulty\",129186847867290504),Pair{String,Any}(\"extraData\",\"0x476574682f76312e302e312f77696e646f77732f676f312e342e32\"),Pair{String,Any}(\"number\",88756),Pair{String,Any}(\"difficulty\",3252126503459),Pair{String,Any}(\"miner\",\"0x2f6bce4fc330b69c9b4c2694d57c63ec7b18fec7\"),Pair{String,Any}(\"logsBloom\",0),Pair{String,Any}(\"transactionsRoot\",\"0x56e81f171bcc55a6ff8345e692c0f86e5b48e01b996cadc001622fb5e363b421\"),Pair{String,Any}(\"author\",\"0x2f6bce4fc330b69c9b4c2694d57c63ec7b18fec7\"),Pair{String,Any}(\"sealFields\",Any[\"0xa06aa96f5456521b1fe9129310b3e9098db6701752184cb71debd068d818e68b13\",\"0x88a041a70c60e90bca\"]),Pair{String,Any}(\"sha3Uncles\",\"0x1dcc4de8dec75d7aab85b567b6ccd41ad312451b948a7413f0a142fd40d49347\")…)          \n",
       " Dict{String,Any}(Pair{String,Any}(\"totalDifficulty\",129190098405841569),Pair{String,Any}(\"extraData\",\"0x476574682f76312e302e312d38326566323666362f6c696e75782f676f312e34\"),Pair{String,Any}(\"number\",88757),Pair{String,Any}(\"difficulty\",3250538551065),Pair{String,Any}(\"miner\",\"0xe6a7a1d47ff21b6321162aea7c6cb457d5476bca\"),Pair{String,Any}(\"logsBloom\",0),Pair{String,Any}(\"transactionsRoot\",\"0x56e81f171bcc55a6ff8345e692c0f86e5b48e01b996cadc001622fb5e363b421\"),Pair{String,Any}(\"author\",\"0xe6a7a1d47ff21b6321162aea7c6cb457d5476bca\"),Pair{String,Any}(\"sealFields\",Any[\"0xa0e372a420b3543eb237f6a3a73507b8182c37d235c7e5df2cc39e5b10fc367398\",\"0x88b4b397bc87f39e10\"]),Pair{String,Any}(\"sha3Uncles\",\"0x1dcc4de8dec75d7aab85b567b6ccd41ad312451b948a7413f0a142fd40d49347\")…)\n",
       " Dict{String,Any}(Pair{String,Any}(\"totalDifficulty\",129193347357215608),Pair{String,Any}(\"extraData\",\"0x476574682f76312e302e312d38326566323666362f6c696e75782f676f312e34\"),Pair{String,Any}(\"number\",88758),Pair{String,Any}(\"difficulty\",3248951374039),Pair{String,Any}(\"miner\",\"0xe6a7a1d47ff21b6321162aea7c6cb457d5476bca\"),Pair{String,Any}(\"logsBloom\",0),Pair{String,Any}(\"transactionsRoot\",\"0x434bace117937a9cc32904291e6a7da6d68814833a8c1f7a8bdacab4fc9ddb99\"),Pair{String,Any}(\"author\",\"0xe6a7a1d47ff21b6321162aea7c6cb457d5476bca\"),Pair{String,Any}(\"sealFields\",Any[\"0xa00393c97447057e8dbcd510c7be186e67e974b270f99f21a188f89531a6274dcb\",\"0x88712521c4606f4fc1\"]),Pair{String,Any}(\"sha3Uncles\",\"0x1dcc4de8dec75d7aab85b567b6ccd41ad312451b948a7413f0a142fd40d49347\")…)\n",
       " Dict{String,Any}(Pair{String,Any}(\"totalDifficulty\",129196594722187609),Pair{String,Any}(\"extraData\",\"0x\"),Pair{String,Any}(\"number\",88759),Pair{String,Any}(\"difficulty\",3247364972001),Pair{String,Any}(\"miner\",\"0xf927a40c8b7f6e07c5af7fa2155b4864a4112b13\"),Pair{String,Any}(\"logsBloom\",0),Pair{String,Any}(\"transactionsRoot\",\"0x56e81f171bcc55a6ff8345e692c0f86e5b48e01b996cadc001622fb5e363b421\"),Pair{String,Any}(\"author\",\"0xf927a40c8b7f6e07c5af7fa2155b4864a4112b13\"),Pair{String,Any}(\"sealFields\",Any[\"0xa07c7bcfaf669a4ba1073c36608f47a96af7fbe0f95592652cc8aba9d3068987b1\",\"0x88ca58295140c7fd4b\"]),Pair{String,Any}(\"sha3Uncles\",\"0x1dcc4de8dec75d7aab85b567b6ccd41ad312451b948a7413f0a142fd40d49347\")…)                                                                \n",
       " Dict{String,Any}(Pair{String,Any}(\"totalDifficulty\",129199840501532183),Pair{String,Any}(\"extraData\",\"0x\"),Pair{String,Any}(\"number\",88760),Pair{String,Any}(\"difficulty\",3245779344574),Pair{String,Any}(\"miner\",\"0x035052044374b3607fc995a2460f096a5c5c0184\"),Pair{String,Any}(\"logsBloom\",0),Pair{String,Any}(\"transactionsRoot\",\"0x56e81f171bcc55a6ff8345e692c0f86e5b48e01b996cadc001622fb5e363b421\"),Pair{String,Any}(\"author\",\"0x035052044374b3607fc995a2460f096a5c5c0184\"),Pair{String,Any}(\"sealFields\",Any[\"0xa064fa315ded9b4192b59fa745e148623937aa76f3485395ade48fab89d1924c51\",\"0x886f0139443b0db107\"]),Pair{String,Any}(\"sha3Uncles\",\"0x1dcc4de8dec75d7aab85b567b6ccd41ad312451b948a7413f0a142fd40d49347\")…)                                                                \n",
       " Dict{String,Any}(Pair{String,Any}(\"totalDifficulty\",129203084696023562),Pair{String,Any}(\"extraData\",\"0x476574682f76312e302e312f6c696e75782f676f312e342e32\"),Pair{String,Any}(\"number\",88761),Pair{String,Any}(\"difficulty\",3244194491379),Pair{String,Any}(\"miner\",\"0x26e3f7c9e444f2ca9e0be2af841bd060cf1cbddb\"),Pair{String,Any}(\"logsBloom\",0),Pair{String,Any}(\"transactionsRoot\",\"0xd6cd0ed89dfa97cd20c0852f8d76d5fae4548675545f9b21db3051f4bc09a590\"),Pair{String,Any}(\"author\",\"0x26e3f7c9e444f2ca9e0be2af841bd060cf1cbddb\"),Pair{String,Any}(\"sealFields\",Any[\"0xa0fbb0100adb4b0f6bcf67ba63febc2b682f2305b58460847bb110679ca99b7425\",\"0x8896121a0ffb52b214\"]),Pair{String,Any}(\"sha3Uncles\",\"0x1dcc4de8dec75d7aab85b567b6ccd41ad312451b948a7413f0a142fd40d49347\")…)              \n",
       " Dict{String,Any}(Pair{String,Any}(\"totalDifficulty\",129206330474594282),Pair{String,Any}(\"extraData\",\"0x476574682f76312e302e312f77696e646f77732f676f312e342e32\"),Pair{String,Any}(\"number\",88762),Pair{String,Any}(\"difficulty\",3245778570720),Pair{String,Any}(\"miner\",\"0xf8e0ca3ed80bd541b94bedcf259e8cf2141a9523\"),Pair{String,Any}(\"logsBloom\",0),Pair{String,Any}(\"transactionsRoot\",\"0x56e81f171bcc55a6ff8345e692c0f86e5b48e01b996cadc001622fb5e363b421\"),Pair{String,Any}(\"author\",\"0xf8e0ca3ed80bd541b94bedcf259e8cf2141a9523\"),Pair{String,Any}(\"sealFields\",Any[\"0xa01a4f960fa22071ef2fce07a692004df5fecca2fdfa49c8f898f873bc15616eea\",\"0x884906ad865601ddfe\"]),Pair{String,Any}(\"sha3Uncles\",\"0x1dcc4de8dec75d7aab85b567b6ccd41ad312451b948a7413f0a142fd40d49347\")…)          \n",
       " Dict{String,Any}(Pair{String,Any}(\"totalDifficulty\",129209577838017819),Pair{String,Any}(\"extraData\",\"0x476574682f76312e302e312f77696e646f77732f676f312e342e32\"),Pair{String,Any}(\"number\",88763),Pair{String,Any}(\"difficulty\",3247363423537),Pair{String,Any}(\"miner\",\"0x157c6f2431eb1a95797ee86f7d17b3c0fd47a247\"),Pair{String,Any}(\"logsBloom\",0),Pair{String,Any}(\"transactionsRoot\",\"0x56e81f171bcc55a6ff8345e692c0f86e5b48e01b996cadc001622fb5e363b421\"),Pair{String,Any}(\"author\",\"0x157c6f2431eb1a95797ee86f7d17b3c0fd47a247\"),Pair{String,Any}(\"sealFields\",Any[\"0xa0a008fe6f7e2df2af6766aebe609e801d4813246c0ad3820122bd140234025627\",\"0x88df256831a6bea1fd\"]),Pair{String,Any}(\"sha3Uncles\",\"0x1dcc4de8dec75d7aab85b567b6ccd41ad312451b948a7413f0a142fd40d49347\")…)          \n",
       " Dict{String,Any}(Pair{String,Any}(\"totalDifficulty\",129212826787068027),Pair{String,Any}(\"extraData\",\"0x476574682f76312e302e312d38326566323666362f6c696e75782f676f312e34\"),Pair{String,Any}(\"number\",88764),Pair{String,Any}(\"difficulty\",3248949050208),Pair{String,Any}(\"miner\",\"0xe6a7a1d47ff21b6321162aea7c6cb457d5476bca\"),Pair{String,Any}(\"logsBloom\",0),Pair{String,Any}(\"transactionsRoot\",\"0x56e81f171bcc55a6ff8345e692c0f86e5b48e01b996cadc001622fb5e363b421\"),Pair{String,Any}(\"author\",\"0xe6a7a1d47ff21b6321162aea7c6cb457d5476bca\"),Pair{String,Any}(\"sealFields\",Any[\"0xa0ab52e15154a9cd12c5beb8ed70eeb06faf77178005ea70957a3c01cc58c65713\",\"0x884a7692f9c32454a1\"]),Pair{String,Any}(\"sha3Uncles\",\"0x1dcc4de8dec75d7aab85b567b6ccd41ad312451b948a7413f0a142fd40d49347\")…)\n",
       " Dict{String,Any}(Pair{String,Any}(\"totalDifficulty\",129216074149717332),Pair{String,Any}(\"extraData\",\"0x476574682f76312e302e312d38326566323666362f6c696e75782f676f312e34\"),Pair{String,Any}(\"number\",88765),Pair{String,Any}(\"difficulty\",3247362649305),Pair{String,Any}(\"miner\",\"0xe6a7a1d47ff21b6321162aea7c6cb457d5476bca\"),Pair{String,Any}(\"logsBloom\",0),Pair{String,Any}(\"transactionsRoot\",\"0x4e32a49607279e0a75e0fe7a1269eb922ca90949c553ed46ce10d31869036d88\"),Pair{String,Any}(\"author\",\"0xe6a7a1d47ff21b6321162aea7c6cb457d5476bca\"),Pair{String,Any}(\"sealFields\",Any[\"0xa0c397013625583fd242c515607380a09644c879718e6c7ab892703e8258513a7f\",\"0x88ce66480b7a21dd2b\"]),Pair{String,Any}(\"sha3Uncles\",\"0x1dcc4de8dec75d7aab85b567b6ccd41ad312451b948a7413f0a142fd40d49347\")…)\n",
       " Dict{String,Any}(Pair{String,Any}(\"totalDifficulty\",129219323097992930),Pair{String,Any}(\"extraData\",\"0x476574682f76312e302e312f77696e646f77732f676f312e342e32\"),Pair{String,Any}(\"number\",88766),Pair{String,Any}(\"difficulty\",3248948275598),Pair{String,Any}(\"miner\",\"0x0037ce3d4b7f8729c8607d8d0248252be68202c0\"),Pair{String,Any}(\"logsBloom\",0),Pair{String,Any}(\"transactionsRoot\",\"0x56e81f171bcc55a6ff8345e692c0f86e5b48e01b996cadc001622fb5e363b421\"),Pair{String,Any}(\"author\",\"0x0037ce3d4b7f8729c8607d8d0248252be68202c0\"),Pair{String,Any}(\"sealFields\",Any[\"0xa0c8378d5794f5f49a18e7ebbc8f271e0930067548dd2ef257fc92ca13d5220bd5\",\"0x88698cabc6627a2ef5\"]),Pair{String,Any}(\"sha3Uncles\",\"0x1dcc4de8dec75d7aab85b567b6ccd41ad312451b948a7413f0a142fd40d49347\")…)          \n",
       " Dict{String,Any}(Pair{String,Any}(\"totalDifficulty\",129222573632669053),Pair{String,Any}(\"extraData\",\"0x476574682f76312e302e312f77696e646f77732f676f312e342e32\"),Pair{String,Any}(\"number\",88767),Pair{String,Any}(\"difficulty\",3250534676123),Pair{String,Any}(\"miner\",\"0xd6e6b0e55c9b50f68269e40e31f8ce7a8b43f9fc\"),Pair{String,Any}(\"logsBloom\",0),Pair{String,Any}(\"transactionsRoot\",\"0x56e81f171bcc55a6ff8345e692c0f86e5b48e01b996cadc001622fb5e363b421\"),Pair{String,Any}(\"author\",\"0xd6e6b0e55c9b50f68269e40e31f8ce7a8b43f9fc\"),Pair{String,Any}(\"sealFields\",Any[\"0xa00de006c5ed3206911e92bfcc0e7f72400db9fee02466e61d141c2a2fbf1ad505\",\"0x880b4754df83d75055\"]),Pair{String,Any}(\"sha3Uncles\",\"0x1dcc4de8dec75d7aab85b567b6ccd41ad312451b948a7413f0a142fd40d49347\")…)          "
      ]
     },
     "execution_count": 60,
     "metadata": {},
     "output_type": "execute_result"
    }
   ],
   "source": [
    "blocks = latestblocks(ipc, 1000)"
   ]
  },
  {
   "cell_type": "code",
   "execution_count": 137,
   "metadata": {
    "collapsed": false
   },
   "outputs": [
    {
     "data": {
      "text/plain": [
       "Dict{String,Any} with 22 entries:\n",
       "  \"totalDifficulty\"  => 126355451338929598\n",
       "  \"extraData\"        => \"0x\"\n",
       "  \"number\"           => 87875\n",
       "  \"difficulty\"       => 3191117421309\n",
       "  \"miner\"            => \"0xf927a40c8b7f6e07c5af7fa2155b4864a4112b13\"\n",
       "  \"logsBloom\"        => 0\n",
       "  \"transactionsRoot\" => \"0x56e81f171bcc55a6ff8345e692c0f86e5b48e01b996cadc00162…\n",
       "  \"author\"           => \"0xf927a40c8b7f6e07c5af7fa2155b4864a4112b13\"\n",
       "  \"sealFields\"       => Any[\"0xa03c4fa8c15a4a3ebcb12a56730164deb22bb2101229c45d…\n",
       "  \"sha3Uncles\"       => \"0x6d3c0bb61e0628f9efd608c7488364078622c143603aebfddabf…\n",
       "  \"parentHash\"       => \"0xacbee0a707f1dfc6b1acf23321831cd8f011dc18fbccd7f64a51…\n",
       "  \"gasLimit\"         => 3141592\n",
       "  \"hash\"             => \"0x9fdef5009d48dc7c03a86ef368abe6a0bcba69f62d42c61d4325…\n",
       "  \"size\"             => 1063\n",
       "  \"mixHash\"          => \"0x3c4fa8c15a4a3ebcb12a56730164deb22bb2101229c45db837d6…\n",
       "  \"receiptsRoot\"     => \"0x56e81f171bcc55a6ff8345e692c0f86e5b48e01b996cadc00162…\n",
       "  \"stateRoot\"        => \"0xe0ddcfe631d54f3b89f8849cf95c98ad9951b65b4d0a325bbbe7…\n",
       "  \"gasUsed\"          => 0\n",
       "  \"transactions\"     => Any[]\n",
       "  \"timestamp\"        => 1439598823\n",
       "  \"uncles\"           => Any[\"0xac02c7523a8d5c427142c2f920c5b6087c6004d49fecc932…\n",
       "  \"nonce\"            => \"0xab5b2472fad8aaeb\""
      ]
     },
     "execution_count": 137,
     "metadata": {},
     "output_type": "execute_result"
    }
   ],
   "source": [
    "blocks[108][\"seal\"]"
   ]
  },
  {
   "cell_type": "code",
   "execution_count": 154,
   "metadata": {
    "collapsed": false
   },
   "outputs": [
    {
     "data": {
      "text/plain": [
       "Dict{String,Any} with 22 entries:\n",
       "  \"totalDifficulty\"  => 126368209574443093\n",
       "  \"extraData\"        => \"0x476574682f76312e302e302f6c696e75782f676f312e342e32\"\n",
       "  \"number\"           => 87879\n",
       "  \"difficulty\"       => 3188001096446\n",
       "  \"miner\"            => \"0x87cd3b7f4dbbfe553db92ac1c97c6c24231c5d26\"\n",
       "  \"logsBloom\"        => 0\n",
       "  \"transactionsRoot\" => \"0x56e81f171bcc55a6ff8345e692c0f86e5b48e01b996cadc00162…\n",
       "  \"author\"           => \"0x87cd3b7f4dbbfe553db92ac1c97c6c24231c5d26\"\n",
       "  \"sealFields\"       => Any[\"0xa0958b1e3f73396b88f376c4699e7eac5dcc6d15f585a2d3…\n",
       "  \"sha3Uncles\"       => \"0x1dcc4de8dec75d7aab85b567b6ccd41ad312451b948a7413f0a1…\n",
       "  \"parentHash\"       => \"0xcc18a4eabda558c18e04c78d1798a9b0ec2a2dc0c597169032ce…\n",
       "  \"gasLimit\"         => 3138526\n",
       "  \"hash\"             => \"0x6c9d7c6b047c0e7b7f02d02bf31e717a2816c8900bce843c8f4b…\n",
       "  \"size\"             => 542\n",
       "  \"mixHash\"          => \"0x958b1e3f73396b88f376c4699e7eac5dcc6d15f585a2d3584143…\n",
       "  \"receiptsRoot\"     => \"0x56e81f171bcc55a6ff8345e692c0f86e5b48e01b996cadc00162…\n",
       "  \"stateRoot\"        => \"0x790da2918167e26e33ce434bdb8bdea7e2f78278ef7ca3ac2144…\n",
       "  \"gasUsed\"          => 0\n",
       "  \"transactions\"     => Any[]\n",
       "  \"timestamp\"        => 1439598942\n",
       "  \"uncles\"           => Any[]\n",
       "  \"nonce\"            => 2560975052905987009"
      ]
     },
     "execution_count": 154,
     "metadata": {},
     "output_type": "execute_result"
    }
   ],
   "source": [
    "b = blocks[112]"
   ]
  },
  {
   "cell_type": "code",
   "execution_count": 155,
   "metadata": {
    "collapsed": false
   },
   "outputs": [
    {
     "data": {
      "text/plain": [
       "2-element Array{Any,1}:\n",
       " \"0xa0958b1e3f73396b88f376c4699e7eac5dcc6d15f585a2d3584143111ca1c7763a\"\n",
       " \"0x88238a693df3193bc1\"                                                "
      ]
     },
     "execution_count": 155,
     "metadata": {},
     "output_type": "execute_result"
    }
   ],
   "source": [
    "b[\"sealFields\"]"
   ]
  },
  {
   "cell_type": "code",
   "execution_count": 140,
   "metadata": {
    "collapsed": false
   },
   "outputs": [
    {
     "data": {
      "text/plain": [
       "\"0x3c4fa8c15a4a3ebcb12a56730164deb22bb2101229c45db837d6cb8468769859\""
      ]
     },
     "execution_count": 140,
     "metadata": {},
     "output_type": "execute_result"
    }
   ],
   "source": [
    "hex"
   ]
  },
  {
   "cell_type": "code",
   "execution_count": 157,
   "metadata": {
    "collapsed": false
   },
   "outputs": [
    {
     "data": {
      "text/plain": [
       "\"238a693df3193bc1\""
      ]
     },
     "execution_count": 157,
     "metadata": {},
     "output_type": "execute_result"
    }
   ],
   "source": [
    "hex(b[\"nonce\"])"
   ]
  },
  {
   "cell_type": "code",
   "execution_count": 118,
   "metadata": {
    "collapsed": false
   },
   "outputs": [
    {
     "data": {
      "text/plain": [
       "newdifficulty (generic function with 1 method)"
      ]
     },
     "execution_count": 118,
     "metadata": {},
     "output_type": "execute_result"
    }
   ],
   "source": [
    "NH = 1150000\n",
    "D0 = 131072\n",
    "function newdifficulty(parent, number, timediff)\n",
    "    x = floor(parent[\"difficulty\"]/2048)\n",
    "    epsilon = floor(2^(floor(number/100000) - 2))\n",
    "    zeta = if number < NH\n",
    "         timediff < 13 ? 1 : -1\n",
    "        else\n",
    "         max(1 - floor((timediff)/10), -99)\n",
    "    end\n",
    "    max(D0, parent[\"difficulty\"] + x* zeta + epsilon)\n",
    "end"
   ]
  },
  {
   "cell_type": "code",
   "execution_count": 119,
   "metadata": {
    "collapsed": false
   },
   "outputs": [
    {
     "data": {
      "text/plain": [
       "newgaslimit (generic function with 1 method)"
      ]
     },
     "execution_count": 119,
     "metadata": {},
     "output_type": "execute_result"
    }
   ],
   "source": [
    "function newgaslimit(parentgaslimit)\n",
    "    maxchange = floor(parentgaslimit / 1024)\n",
    "    rand(DiscreteUniform(max(125000, parentgaslimit - maxchange), parentgaslimit + maxchange))\n",
    "end"
   ]
  },
  {
   "cell_type": "code",
   "execution_count": 120,
   "metadata": {
    "collapsed": false
   },
   "outputs": [],
   "source": [
    "immutable HashString <: DiscreteUnivariateDistribution\n",
    "    bit::UInt\n",
    "end"
   ]
  },
  {
   "cell_type": "code",
   "execution_count": 121,
   "metadata": {
    "collapsed": false
   },
   "outputs": [],
   "source": [
    "Distributions.rand(d::HashString) = string(\"0x\", [hex(rand(0x0:0xF)) for _ in 1:div(d.bit, 4)]...)\n",
    "function Distributions.logpdf(d::HashString, x::String)\n",
    "    matches = match(r\"^0x([0-9,a-f]+)$\", x)\n",
    "    if matches === nothing || length(matches.captures[1]) * 4 != d.bit\n",
    "        0.\n",
    "    else\n",
    "        -Int(d.bit)*log(2)\n",
    "    end\n",
    "end"
   ]
  },
  {
   "cell_type": "code",
   "execution_count": 122,
   "metadata": {
    "collapsed": true
   },
   "outputs": [],
   "source": [
    "Distributions.rand(d::HashString, n::Int) = Vector([rand(d) for _ in 1:n])\n",
    "Distributions.logpdf(d::HashString, xs::Vector{String}) = sum(logpdf(d, x) for x in xs)"
   ]
  },
  {
   "cell_type": "code",
   "execution_count": 123,
   "metadata": {
    "collapsed": true
   },
   "outputs": [],
   "source": [
    "immutable DataString <: DiscreteUnivariateDistribution\n",
    "    maxbytes::UInt\n",
    "end"
   ]
  },
  {
   "cell_type": "code",
   "execution_count": 124,
   "metadata": {
    "collapsed": true
   },
   "outputs": [],
   "source": [
    "Distributions.rand(d::DataString) = rand(HashString(rand(8:8*d.maxbytes)))\n",
    "function Distributions.logpdf(d::DataString, x::String)\n",
    "    l = length(x) - 2\n",
    "    logpdf(DiscreteUniform(1, d.maxbytes), div(l, 2)) + logpdf(HashString(l * 4), x)\n",
    "end\n",
    "Distributions.rand(d::DataString, n::Int) = Vector([rand(d) for _ in 1:n])\n",
    "Distributions.logpdf(d::DataString, xs::Vector{String}) = sum(logpdf(d, x) for x in xs)"
   ]
  },
  {
   "cell_type": "code",
   "execution_count": 158,
   "metadata": {
    "collapsed": false
   },
   "outputs": [
    {
     "data": {
      "text/plain": [
       "generate (generic function with 1 method)"
      ]
     },
     "execution_count": 158,
     "metadata": {},
     "output_type": "execute_result"
    }
   ],
   "source": [
    "function generate(history)\n",
    "    number = history[end][\"number\"] + 1\n",
    "    author = rand(HashString(160))\n",
    "    timediff = rand(Poisson(14))\n",
    "    difficulty = newdifficulty(history[end], number, timediff)\n",
    "    gaslimit = newgaslimit(history[end][\"gasLimit\"])\n",
    "    gasused = rand(DiscreteUniform(0, gaslimit))\n",
    "    mixhash = rand(HashString(256))\n",
    "    nonce = rand(HashString(64))\n",
    "\n",
    "    Dict(\n",
    "    \"totalDifficulty\" => history[end][\"totalDifficulty\"] + difficulty,\n",
    "    \"extraData\" => rand(DataString(32)),\n",
    "    \"number\" => number,\n",
    "    \"difficulty\" => difficulty,\n",
    "    \"miner\" => author,\n",
    "    \"logsBloom\" => 0,\n",
    "    \"transactionsRoot\" => rand(HashString(256)),\n",
    "    \"author\" => author,\n",
    "    \"sealFields\" => [string(\"0xa0\", mixhash[3:end]), string(\"0x88\", nonce[3:end])],\n",
    "    \"sha3Uncles\" => rand(HashString(256)),\n",
    "    \"parentHash\" => history[end-1][\"hash\"],\n",
    "    \"gasLimit\" => gaslimit,\n",
    "    \"hash\" => rand(HashString(256)),\n",
    "    \"size\" => rand(DiscreteUniform(0, 100000)),\n",
    "    \"mixHash\" => mixhash,\n",
    "    \"receiptsRoot\" => rand(HashString(256)),\n",
    "    \"stateRoot\" => rand(HashString(256)),\n",
    "    \"gasUsed\" => gasused,\n",
    "    \"transactions\" => rand(HashString(256), div(gasused, rand(DiscreteUniform(21000, gasused)))),\n",
    "    \"timestamp\" => history[end][\"timestamp\"] + timediff,\n",
    "    \"uncles\" => rand(HashString(256), rand(DiscreteUniform(0, 2))),\n",
    "    \"nonce\" => nonce\n",
    "    )\n",
    "end"
   ]
  },
  {
   "cell_type": "code",
   "execution_count": 159,
   "metadata": {
    "collapsed": false
   },
   "outputs": [
    {
     "data": {
      "text/plain": [
       "Dict{String,Any} with 22 entries:\n",
       "  \"totalDifficulty\"  => 1.29226e17\n",
       "  \"extraData\"        => \"0x59425d6\"\n",
       "  \"number\"           => 88768\n",
       "  \"difficulty\"       => 3.24895e12\n",
       "  \"miner\"            => \"0x4715f1c77139e4fe93ccffca898d05f77ba8010e\"\n",
       "  \"logsBloom\"        => 0\n",
       "  \"transactionsRoot\" => \"0x0d32de78ee3709e133191159facd84f717c447cd03324b15f8d1…\n",
       "  \"author\"           => \"0x4715f1c77139e4fe93ccffca898d05f77ba8010e\"\n",
       "  \"sealFields\"       => String[\"0xa084d4205773d73901a6228c486d1bac11143cf28bb6f…\n",
       "  \"sha3Uncles\"       => \"0x82b1152691139dec024be249e4d14e2acd46b6c08ebc25d0c487…\n",
       "  \"parentHash\"       => \"0x93e301c900c27ed800e7437055999eb1f0df1b4962fbc715a2f1…\n",
       "  \"gasLimit\"         => 3143905\n",
       "  \"hash\"             => \"0x283ecbd19dbfac7d0d439bae8a30a5848cf76b36a59f21dd7076…\n",
       "  \"size\"             => 32244\n",
       "  \"mixHash\"          => \"0x84d4205773d73901a6228c486d1bac11143cf28bb6f49ae8df5e…\n",
       "  \"receiptsRoot\"     => \"0xd90d0cc61f18b6f783d885d0b3107b00675bcdbbca6793f2f487…\n",
       "  \"stateRoot\"        => \"0x2329da4fb795c68b5246334324512c5a7b4b225ff2c64f3a4909…\n",
       "  \"gasUsed\"          => 1057848\n",
       "  \"transactions\"     => String[\"0xc5381f4b364e91ee5b568d44ab6bd0bf0f7d551afdc95…\n",
       "  \"timestamp\"        => 1439613099\n",
       "  \"uncles\"           => String[]\n",
       "  \"nonce\"            => \"0xeff4a1e0f3ec5ce8\""
      ]
     },
     "execution_count": 159,
     "metadata": {},
     "output_type": "execute_result"
    }
   ],
   "source": [
    "generate(blocks)"
   ]
  },
  {
   "cell_type": "code",
   "execution_count": 162,
   "metadata": {
    "collapsed": false
   },
   "outputs": [
    {
     "ename": "LoadError",
     "evalue": "UndefVarError: @model not defined",
     "output_type": "error",
     "traceback": [
      "UndefVarError: @model not defined",
      ""
     ]
    }
   ],
   "source": [
    "@model block() = begin\n",
    "    author ~ rand(HashString(160))\n",
    "    return author\n",
    "end"
   ]
  },
  {
   "cell_type": "code",
   "execution_count": 49,
   "metadata": {
    "collapsed": false
   },
   "outputs": [
    {
     "data": {
      "text/plain": [
       "2-element Array{String,1}:\n",
       " \"0xa09deec045d9b6b23e8df35f0968bf22c063700431b630661ec222b1161e584fe7\"\n",
       " \"0x882c363c836b7cb340\"                                                "
      ]
     },
     "execution_count": 49,
     "metadata": {},
     "output_type": "execute_result"
    }
   ],
   "source": [
    "Any([\"0xa09deec045d9b6b23e8df35f0968bf22c063700431b630661ec222b1161e584fe7\",\n",
    "    \"0x882c363c836b7cb340\"])"
   ]
  },
  {
   "cell_type": "code",
   "execution_count": 23,
   "metadata": {
    "collapsed": false
   },
   "outputs": [
    {
     "data": {
      "text/html": [
       "<script src=\"/home/keorn/.julia/v0.5/Plots/src/backends/../../deps/plotly-latest.min.js\"></script>    <div id=\"85c5bae5-0523-4275-a10a-4bc6a5b92cd8\" style=\"width:600px;height:400px;\"></div>\n",
       "    <script>\n",
       "    PLOT = document.getElementById('85c5bae5-0523-4275-a10a-4bc6a5b92cd8');\n",
       "    Plotly.plot(PLOT, [{\"yaxis\":\"y\",\"y\":[228.0,217.0,178.0,114.0,95.0,56.0,38.0,30.0,13.0,13.0,6.0,2.0,3.0,3.0,1.0,0.0,1.0,1.0],\"showlegend\":true,\"name\":\"y1\",\"type\":\"bar\",\"xaxis\":\"x\",\"orientation\":\"v\",\"colorbar\":{\"title\":\"\"},\"x\":[2.5,7.5,12.5,17.5,22.5,27.5,32.5,37.5,42.5,47.5,52.5,57.5,62.5,67.5,72.5,77.5,82.5,87.5],\"marker\":{\"color\":\"rgba(0, 154, 250, 1.000)\"}}], {\"yaxis\":{\"type\":\"-\",\"titlefont\":{\"size\":15,\"color\":\"rgba(0, 0, 0, 1.000)\",\"family\":\"sans-serif\"},\"title\":\"\",\"tickfont\":{\"size\":11,\"color\":\"rgba(0, 0, 0, 1.000)\",\"family\":\"sans-serif\"},\"ticks\":\"inside\",\"tickmode\":\"array\",\"showgrid\":true,\"tickvals\":[0.0,50.0,100.0,150.0,200.0],\"domain\":[0.03762029746281716,0.9901574803149606],\"ticktext\":[\"0\",\"50\",\"100\",\"150\",\"200\"],\"tickangle\":0,\"zeroline\":false,\"linecolor\":\"rgba(0, 0, 0, 1.000)\",\"tickcolor\":\"rgba(0, 0, 0, 1.000)\",\"anchor\":\"x\"},\"annotations\":[],\"width\":600,\"plot_bgcolor\":\"rgba(255, 255, 255, 1.000)\",\"showlegend\":true,\"legend\":{\"bgcolor\":\"rgba(255, 255, 255, 1.000)\",\"y\":1.0,\"font\":{\"size\":11,\"color\":\"rgba(0, 0, 0, 1.000)\",\"family\":\"sans-serif\"},\"bordercolor\":\"rgba(0, 0, 0, 1.000)\",\"x\":1.0},\"xaxis\":{\"type\":\"-\",\"titlefont\":{\"size\":15,\"color\":\"rgba(0, 0, 0, 1.000)\",\"family\":\"sans-serif\"},\"title\":\"\",\"tickfont\":{\"size\":11,\"color\":\"rgba(0, 0, 0, 1.000)\",\"family\":\"sans-serif\"},\"ticks\":\"inside\",\"tickmode\":\"array\",\"showgrid\":true,\"tickvals\":[0.0,25.0,50.0,75.0],\"domain\":[0.05100612423447069,0.9934383202099737],\"ticktext\":[\"0\",\"25\",\"50\",\"75\"],\"tickangle\":0,\"zeroline\":false,\"linecolor\":\"rgba(0, 0, 0, 1.000)\",\"tickcolor\":\"rgba(0, 0, 0, 1.000)\",\"anchor\":\"y\"},\"paper_bgcolor\":\"rgba(255, 255, 255, 1.000)\",\"height\":400,\"margin\":{\"r\":0,\"l\":0,\"b\":20,\"t\":20}});\n",
       "    </script>\n"
      ]
     },
     "execution_count": 23,
     "metadata": {},
     "output_type": "execute_result"
    }
   ],
   "source": [
    "timestamps = [b[\"timestamp\"] for b in blocks]\n",
    "times = [times[i]-times[i-1] for i in 2:length(times)]\n",
    "histogram(times)"
   ]
  },
  {
   "cell_type": "code",
   "execution_count": 27,
   "metadata": {
    "collapsed": false
   },
   "outputs": [
    {
     "data": {
      "text/html": [
       "<script src=\"/home/keorn/.julia/v0.5/Plots/src/backends/../../deps/plotly-latest.min.js\"></script>    <div id=\"9b6acaca-a6d7-4dc1-aae0-27dbf0be5444\" style=\"width:600px;height:400px;\"></div>\n",
       "    <script>\n",
       "    PLOT = document.getElementById('9b6acaca-a6d7-4dc1-aae0-27dbf0be5444');\n",
       "    Plotly.plot(PLOT, [{\"yaxis\":\"y\",\"y\":[4.0,6.0,21.0,29.0,44.0,68.0,65.0,97.0,122.0,113.0,90.0,74.0,80.0,49.0,39.0,37.0,28.0,14.0,8.0,5.0,3.0,1.0,1.0,1.0],\"showlegend\":true,\"name\":\"y1\",\"type\":\"bar\",\"xaxis\":\"x\",\"orientation\":\"v\",\"colorbar\":{\"title\":\"\"},\"x\":[5.5,6.5,7.5,8.5,9.5,10.5,11.5,12.5,13.5,14.5,15.5,16.5,17.5,18.5,19.5,20.5,21.5,22.5,23.5,24.5,25.5,26.5,27.5,28.5],\"marker\":{\"color\":\"rgba(0, 154, 250, 1.000)\"}}], {\"yaxis\":{\"type\":\"-\",\"titlefont\":{\"size\":15,\"color\":\"rgba(0, 0, 0, 1.000)\",\"family\":\"sans-serif\"},\"title\":\"\",\"tickfont\":{\"size\":11,\"color\":\"rgba(0, 0, 0, 1.000)\",\"family\":\"sans-serif\"},\"ticks\":\"inside\",\"tickmode\":\"array\",\"showgrid\":true,\"tickvals\":[0.0,25.0,50.0,75.0,100.0],\"domain\":[0.03762029746281716,0.9901574803149606],\"ticktext\":[\"0\",\"25\",\"50\",\"75\",\"100\"],\"tickangle\":0,\"zeroline\":false,\"linecolor\":\"rgba(0, 0, 0, 1.000)\",\"tickcolor\":\"rgba(0, 0, 0, 1.000)\",\"anchor\":\"x\"},\"annotations\":[],\"width\":600,\"plot_bgcolor\":\"rgba(255, 255, 255, 1.000)\",\"showlegend\":true,\"legend\":{\"bgcolor\":\"rgba(255, 255, 255, 1.000)\",\"y\":1.0,\"font\":{\"size\":11,\"color\":\"rgba(0, 0, 0, 1.000)\",\"family\":\"sans-serif\"},\"bordercolor\":\"rgba(0, 0, 0, 1.000)\",\"x\":1.0},\"xaxis\":{\"type\":\"-\",\"titlefont\":{\"size\":15,\"color\":\"rgba(0, 0, 0, 1.000)\",\"family\":\"sans-serif\"},\"title\":\"\",\"tickfont\":{\"size\":11,\"color\":\"rgba(0, 0, 0, 1.000)\",\"family\":\"sans-serif\"},\"ticks\":\"inside\",\"tickmode\":\"array\",\"showgrid\":true,\"tickvals\":[10.0,20.0],\"domain\":[0.05100612423447069,0.9934383202099737],\"ticktext\":[\"10\",\"20\"],\"tickangle\":0,\"zeroline\":false,\"linecolor\":\"rgba(0, 0, 0, 1.000)\",\"tickcolor\":\"rgba(0, 0, 0, 1.000)\",\"anchor\":\"y\"},\"paper_bgcolor\":\"rgba(255, 255, 255, 1.000)\",\"height\":400,\"margin\":{\"r\":0,\"l\":0,\"b\":20,\"t\":20}});\n",
       "    </script>\n"
      ]
     },
     "execution_count": 27,
     "metadata": {},
     "output_type": "execute_result"
    }
   ],
   "source": [
    "histogram([rand(Poisson(14)) for _ in 1:999])"
   ]
  },
  {
   "cell_type": "code",
   "execution_count": 84,
   "metadata": {
    "collapsed": false
   },
   "outputs": [
    {
     "data": {
      "text/plain": [
       "1000-element Array{Int64,1}:\n",
       "  544\n",
       "  549\n",
       "  544\n",
       "  547\n",
       "  544\n",
       "  689\n",
       "  544\n",
       "  547\n",
       "  660\n",
       "  547\n",
       "  549\n",
       "  522\n",
       " 1856\n",
       "    ⋮\n",
       "  773\n",
       "  517\n",
       "  544\n",
       " 1085\n",
       "  720\n",
       "  663\n",
       "  549\n",
       "  517\n",
       "  547\n",
       "  517\n",
       "  663\n",
       "  544"
      ]
     },
     "execution_count": 84,
     "metadata": {},
     "output_type": "execute_result"
    }
   ],
   "source": [
    "[b[\"size\"] for b in blocks]"
   ]
  },
  {
   "cell_type": "code",
   "execution_count": 21,
   "metadata": {
    "collapsed": false
   },
   "outputs": [
    {
     "ename": "LoadError",
     "evalue": "In convertToAnyVector, could not handle the argument types: (Distributions.Poisson{Float64},)",
     "output_type": "error",
     "traceback": [
      "In convertToAnyVector, could not handle the argument types: (Distributions.Poisson{Float64},)",
      "",
      " in macro expansion at /home/keorn/.julia/v0.5/Plots/src/series.jl:129 [inlined]",
      " in apply_recipe(::Dict{Symbol,Any}, ::Type{Plots.SliceIt}, ::Void, ::Distributions.Poisson{Float64}, ::Void) at /home/keorn/.julia/v0.5/RecipesBase/src/RecipesBase.jl:238",
      " in _process_userrecipes(::Plots.Plot{Plots.PlotlyBackend}, ::Dict{Symbol,Any}, ::Tuple{Distributions.Poisson{Float64}}) at /home/keorn/.julia/v0.5/Plots/src/pipeline.jl:73",
      " in _plot!(::Plots.Plot{Plots.PlotlyBackend}, ::Dict{Symbol,Any}, ::Tuple{Distributions.Poisson{Float64}}) at /home/keorn/.julia/v0.5/Plots/src/plot.jl:171",
      " in plot(::Distributions.Poisson{Float64}) at /home/keorn/.julia/v0.5/Plots/src/plot.jl:46"
     ]
    }
   ],
   "source": [
    "plot(Poisson(14.17017017017017))"
   ]
  },
  {
   "cell_type": "code",
   "execution_count": null,
   "metadata": {
    "collapsed": true
   },
   "outputs": [],
   "source": []
  }
 ],
 "metadata": {
  "kernelspec": {
   "display_name": "Julia 0.5.2",
   "language": "julia",
   "name": "julia-0.5"
  },
  "language_info": {
   "file_extension": ".jl",
   "mimetype": "application/julia",
   "name": "julia",
   "version": "0.5.2"
  }
 },
 "nbformat": 4,
 "nbformat_minor": 1
}
