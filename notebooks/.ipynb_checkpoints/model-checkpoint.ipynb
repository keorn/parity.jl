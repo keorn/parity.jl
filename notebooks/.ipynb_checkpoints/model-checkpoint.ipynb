{
 "cells": [
  {
   "cell_type": "markdown",
   "metadata": {
    "collapsed": false
   },
   "source": [
    "### using Plots,Turing, Distributions\n",
    "include(\"../rpc.jl\")"
   ]
  },
  {
   "cell_type": "code",
   "execution_count": 2,
   "metadata": {
    "collapsed": false
   },
   "outputs": [
    {
     "data": {
      "text/plain": [
       "Base.PipeEndpoint(open, 0 bytes waiting)"
      ]
     },
     "execution_count": 2,
     "metadata": {},
     "output_type": "execute_result"
    }
   ],
   "source": [
    "ipc = connect(\"/home/keorn/.local/share/io.parity.ethereum/jsonrpc.ipc\")"
   ]
  },
  {
   "cell_type": "code",
   "execution_count": 3,
   "metadata": {
    "collapsed": false
   },
   "outputs": [],
   "source": [
    "blocks = latestblocks(ipc, 1000);"
   ]
  },
  {
   "cell_type": "code",
   "execution_count": 4,
   "metadata": {
    "collapsed": false
   },
   "outputs": [
    {
     "data": {
      "text/plain": [
       "newdifficulty (generic function with 1 method)"
      ]
     },
     "execution_count": 4,
     "metadata": {},
     "output_type": "execute_result"
    }
   ],
   "source": [
    "NH = 1150000\n",
    "D0 = 131072\n",
    "function newdifficulty(parent, number, timediff)\n",
    "    x = floor(parent[\"difficulty\"]/2048)\n",
    "    ϵ = floor(2^(floor(number/100000) - 2))\n",
    "    ζ = if number < NH\n",
    "         timediff < 13 ? 1 : -1\n",
    "        else\n",
    "         max(1 - floor((timediff)/10), -99)\n",
    "    end\n",
    "    max(D0, parent[\"difficulty\"] + x* ζ + ϵ)\n",
    "end"
   ]
  },
  {
   "cell_type": "code",
   "execution_count": 5,
   "metadata": {
    "collapsed": false
   },
   "outputs": [
    {
     "data": {
      "text/plain": [
       "newgaslimit (generic function with 1 method)"
      ]
     },
     "execution_count": 5,
     "metadata": {},
     "output_type": "execute_result"
    }
   ],
   "source": [
    "function newgaslimit(parentgaslimit)\n",
    "    maxchange = floor(parentgaslimit / 1024)\n",
    "    DiscreteUniform(max(125000, parentgaslimit - maxchange), parentgaslimit + maxchange)\n",
    "end"
   ]
  },
  {
   "cell_type": "code",
   "execution_count": 6,
   "metadata": {
    "collapsed": true
   },
   "outputs": [],
   "source": [
    "abstract StringDistribution <: DiscreteUnivariateDistribution"
   ]
  },
  {
   "cell_type": "code",
   "execution_count": 7,
   "metadata": {
    "collapsed": false
   },
   "outputs": [],
   "source": [
    "immutable HashString <: StringDistribution\n",
    "    bit::UInt\n",
    "end"
   ]
  },
  {
   "cell_type": "code",
   "execution_count": 8,
   "metadata": {
    "collapsed": false
   },
   "outputs": [],
   "source": [
    "Distributions.rand(d::HashString) = string([hex(rand(0x0:0xF)) for _ in 1:div(d.bit, 4)]...)\n",
    "function Distributions.logpdf(d::HashString, x::String)\n",
    "    if ismatch(r\"^[0-9,a-f]+$\", x) && length(x) * 4 == d.bit\n",
    "        -Int(d.bit)*log(2)\n",
    "    else\n",
    "        -Inf\n",
    "    end\n",
    "end"
   ]
  },
  {
   "cell_type": "code",
   "execution_count": 9,
   "metadata": {
    "collapsed": true
   },
   "outputs": [],
   "source": [
    "Distributions.rand(d::HashString, n::Int) = Vector([rand(d) for _ in 1:n])\n",
    "Distributions.logpdf(d::HashString, xs::Vector{String}) = sum(logpdf(d, x) for x in xs)"
   ]
  },
  {
   "cell_type": "code",
   "execution_count": 10,
   "metadata": {
    "collapsed": false
   },
   "outputs": [],
   "source": [
    "immutable VectorDistribution <: DiscreteUnivariateDistribution\n",
    "    inner::Distribution\n",
    "    maxelements::Int\n",
    "end"
   ]
  },
  {
   "cell_type": "code",
   "execution_count": 11,
   "metadata": {
    "collapsed": false
   },
   "outputs": [],
   "source": [
    "Distributions.rand(d::VectorDistribution) = rand(d.inner, rand(0:d.maxelements))\n",
    "function Distributions.logpdf(d::VectorDistribution, v::Vector)\n",
    "    l = length(x)\n",
    "    logpdf(DiscreteUniform(1, d.maxelements), l) + sum(logpdf(d.inner, i) for i in v)\n",
    "end\n",
    "Distributions.rand(d::VectorDistribution, n::Int) = Vector([rand(d) for _ in 1:n])\n",
    "Distributions.logpdf(d::VectorDistribution, xs::Vector{Vector}) = sum(logpdf(d, x) for x in xs)"
   ]
  },
  {
   "cell_type": "code",
   "execution_count": 12,
   "metadata": {
    "collapsed": false
   },
   "outputs": [],
   "source": [
    "immutable DataString <: StringDistribution\n",
    "    maxbytes::UInt\n",
    "end\n",
    "Distributions.rand(d::DataString) = rand(HashString(rand(8:8*d.maxbytes)))\n",
    "function Distributions.logpdf(d::DataString, x::String)\n",
    "    l = length(x)\n",
    "    logpdf(DiscreteUniform(1, d.maxbytes), div(l, 2)) + logpdf(HashString(l * 4), x)\n",
    "end\n",
    "Distributions.rand(d::DataString, n::Int) = Vector([rand(d) for _ in 1:n])\n",
    "Distributions.logpdf(d::DataString, xs::Vector{String}) = sum(logpdf(d, x) for x in xs)"
   ]
  },
  {
   "cell_type": "code",
   "execution_count": 13,
   "metadata": {
    "collapsed": false
   },
   "outputs": [],
   "source": [
    "Kronecker(a) = DiscreteUniform(a, a)\n",
    "immutable PrefixedString <: StringDistribution\n",
    "    prefix::String\n",
    "    inner::StringDistribution\n",
    "end\n",
    "Distributions.rand(d::PrefixedString) = d.prefix * rand(d.inner)\n",
    "function Distributions.logpdf(d::PrefixedString, x::String)\n",
    "    matches = match(Regex(\"^\" * d.prefix * \"(.*)\\$\"), x)\n",
    "    matches === nothing ? -Inf : logpdf(d.inner, matches.captures[1])\n",
    "end\n",
    "Distributions.rand(d::PrefixedString, n::Int) = Vector([rand(d) for _ in 1:n])\n",
    "Distributions.logpdf(d::PrefixedString, xs::Vector{String}) = sum(logpdf(d, x) for x in xs)"
   ]
  },
  {
   "cell_type": "code",
   "execution_count": 12,
   "metadata": {
    "collapsed": false
   },
   "outputs": [
    {
     "data": {
      "text/plain": [
       "blockdistributions (generic function with 1 method)"
      ]
     },
     "execution_count": 12,
     "metadata": {},
     "output_type": "execute_result"
    }
   ],
   "source": [
    "function blockdistributions(history)\n",
    "    number = history[end][\"number\"] + 1\n",
    "    author = PrefixedString(\"0x\", HashString(160))\n",
    "    timediff = rand(Poisson(14))\n",
    "    difficulty = newdifficulty(history[end], number, timediff)\n",
    "    gaslimit = newgaslimit(history[end][\"gasLimit\"])\n",
    "    gasused = DiscreteUniform(0, rand(gaslimit))\n",
    "    mixhash = HashString(256)\n",
    "    nonce = HashString(64)\n",
    "\n",
    "    Dict(\n",
    "    \"totalDifficulty\" => Kronecker(history[end][\"totalDifficulty\"] + difficulty),\n",
    "    \"extraData\" => PrefixedString(\"0x\", DataString(32)),\n",
    "    \"number\" => Kronecker(number),\n",
    "    \"difficulty\" => Kronecker(difficulty),\n",
    "    \"miner\" => author,\n",
    "    \"logsBloom\" => Kronecker(0),\n",
    "    \"transactionsRoot\" => PrefixedString(\"0x\", HashString(256)),\n",
    "    \"author\" => author,\n",
    "    \"sealFields\" => [PrefixedString(\"0xa0\", mixhash), PrefixedString(\"0x88\", nonce)],\n",
    "    \"sha3Uncles\" => PrefixedString(\"0x\", HashString(256)),\n",
    "    \"parentHash\" => Kronecker(history[end-1][\"hash\"]),\n",
    "    \"gasLimit\" => gaslimit,\n",
    "    \"hash\" => PrefixedString(\"0x\", HashString(256)),\n",
    "    \"size\" => DiscreteUniform(0, 100000),\n",
    "    \"mixHash\" => PrefixedString(\"0x\", mixhash),\n",
    "    \"receiptsRoot\" => PrefixedString(\"0x\", HashString(256)),\n",
    "    \"stateRoot\" => PrefixedString(\"0x\", HashString(256)),\n",
    "    \"gasUsed\" => gasused,\n",
    "    \"transactions\" => VectorDistribution(PrefixedString(\"0x\", HashString(256)), div(rand(gasused), rand(DiscreteUniform(21000, rand(gasused))))),\n",
    "    \"timestamp\" => history[end][\"timestamp\"] + timediff,\n",
    "    \"uncles\" => VectorDistribution(PrefixedString(\"0x\", HashString(256)), 2),\n",
    "    \"nonce\" => PrefixedString(\"0x\", nonce)\n",
    "    )\n",
    "end"
   ]
  },
  {
   "cell_type": "code",
   "execution_count": 28,
   "metadata": {
    "collapsed": false
   },
   "outputs": [
    {
     "ename": "LoadError",
     "evalue": "MethodError: no method matching Distributions.DiscreteUniform(::String, ::String)\u001b[0m\nClosest candidates are:\n  Distributions.DiscreteUniform{T}(::Any) at sysimg.jl:53\u001b[0m",
     "output_type": "error",
     "traceback": [
      "MethodError: no method matching Distributions.DiscreteUniform(::String, ::String)\u001b[0m\nClosest candidates are:\n  Distributions.DiscreteUniform{T}(::Any) at sysimg.jl:53\u001b[0m",
      "",
      " in blockdistributions(::Array{Dict{String,Any},1}) at ./In[27]:11"
     ]
    }
   ],
   "source": [
    "blockdistributions(blocks)"
   ]
  },
  {
   "cell_type": "code",
   "execution_count": 14,
   "metadata": {
    "collapsed": false
   },
   "outputs": [
    {
     "data": {
      "text/plain": [
       "block (generic function with 2 methods)"
      ]
     },
     "execution_count": 14,
     "metadata": {},
     "output_type": "execute_result"
    }
   ],
   "source": [
    "@model block(history) = begin\n",
    "    number = history[end][\"number\"] + 1\n",
    "    author ~ PrefixedString(\"0x\", HashString(160))\n",
    "    timediff ~ Poisson(14)\n",
    "    difficulty = newdifficulty(history[end], number, timediff)\n",
    "    gaslimit ~ newgaslimit(history[end][\"gasLimit\"])\n",
    "    gasused ~ DiscreteUniform(0, gaslimit)\n",
    "    mixhash ~ HashString(256)\n",
    "    nonce ~ HashString(64)\n",
    "    extradata ~ PrefixedString(\"0x\", DataString(32))\n",
    "    transactionsroot ~ PrefixedString(\"0x\", HashString(256))\n",
    "    sha3uncles ~ PrefixedString(\"0x\", HashString(256))\n",
    "    hash ~ PrefixedString(\"0x\", HashString(256))\n",
    "    size ~ DiscreteUniform(0, 100000)\n",
    "    receiptsroot ~ PrefixedString(\"0x\", HashString(256))\n",
    "    stateroot ~ PrefixedString(\"0x\", HashString(256))\n",
    "    averagetxgas ~ DiscreteUniform(21000, max(21000, gasused))\n",
    "    transactions ~ VectorDistribution(PrefixedString(\"0x\", HashString(256)), div(gasused, averagetxgas))\n",
    "    uncles ~ VectorDistribution(PrefixedString(\"0x\", HashString(256)), 2)\n",
    "\n",
    "    Dict(\n",
    "    \"totalDifficulty\" => history[end][\"totalDifficulty\"] + difficulty,\n",
    "    \"extraData\" => extradata,\n",
    "    \"number\" => number,\n",
    "    \"difficulty\" => difficulty,\n",
    "    \"miner\" => author,\n",
    "    \"logsBloom\" => 0,\n",
    "    \"transactionsRoot\" => transactionsroot,\n",
    "    \"author\" => author,\n",
    "    \"sealFields\" => [string(\"0xa0\", mixhash), string(\"0x88\", nonce)],\n",
    "    \"sha3Uncles\" => sha3uncles,\n",
    "    \"parentHash\" => history[end-1][\"hash\"],\n",
    "    \"gasLimit\" => gaslimit,\n",
    "    \"hash\" => hash,\n",
    "    \"size\" => size,\n",
    "    \"mixHash\" => string(\"0x\", mixhash),\n",
    "    \"receiptsRoot\" => receiptsroot,\n",
    "    \"stateRoot\" => stateroot,\n",
    "    \"gasUsed\" => gasused,\n",
    "    \"transactions\" => transactions,\n",
    "    \"timestamp\" => history[end][\"timestamp\"] + timediff,\n",
    "    \"uncles\" => uncles,\n",
    "    \"nonce\" => string(\"0x\", nonce)\n",
    "    )\n",
    "end"
   ]
  },
  {
   "cell_type": "code",
   "execution_count": 18,
   "metadata": {
    "collapsed": false
   },
   "outputs": [
    {
     "name": "stdout",
     "output_type": "stream",
     "text": [
      "[Turing]: Assume - `author` is a parameter\n",
      "[Turing]: Assume - `timediff` is a parameter\n",
      "[Turing]: Assume - `gaslimit` is a parameter\n",
      "[Turing]: Assume - `gasused` is a parameter\n",
      "[Turing]: Assume - `mixhash` is a parameter\n",
      "[Turing]: Assume - `nonce` is a parameter\n",
      "[Turing]: Assume - `extradata` is a parameter\n",
      "[Turing]: Assume - `transactionsroot` is a parameter\n",
      "[Turing]: Assume - `sha3uncles` is a parameter\n",
      "[Turing]: Assume - `hash` is a parameter (ignoring `hash` found in global scope)\n",
      "[Turing]: Assume - `size` is a parameter (ignoring `size` found in global scope)\n",
      "[Turing]: Assume - `receiptsroot` is a parameter\n",
      "[Turing]: Assume - `stateroot` is a parameter\n",
      "[Turing]: Assume - `averagetxgas` is a parameter\n",
      "[Turing]: Assume - `transactions` is a parameter\n",
      "[Turing]: Assume - `uncles` is a parameter\n"
     ]
    },
    {
     "name": "stderr",
     "output_type": "stream",
     "text": [
      "WARNING: Method definition block_model_##295() in module Main at In[14]:2 overwritten at In[14]:2.\n",
      "WARNING: Method definition #block_model_##295(Array{Any, 1}, Main.#block_model_##295) in module Main overwritten.\n"
     ]
    },
    {
     "ename": "LoadError",
     "evalue": "UndefVarError: LMH not defined",
     "output_type": "error",
     "traceback": [
      "UndefVarError: LMH not defined",
      ""
     ]
    }
   ],
   "source": [
    "c1 = sample(block(blocks), LMH(10))"
   ]
  },
  {
   "cell_type": "code",
   "execution_count": 22,
   "metadata": {
    "collapsed": false
   },
   "outputs": [
    {
     "data": {
      "text/plain": [
       "2"
      ]
     },
     "execution_count": 22,
     "metadata": {},
     "output_type": "execute_result"
    }
   ],
   "source": [
    "[1, 2][length([1, 2])]"
   ]
  },
  {
   "cell_type": "code",
   "execution_count": 20,
   "metadata": {
    "collapsed": false
   },
   "outputs": [
    {
     "data": {
      "text/plain": [
       "Object of type \"Turing.Chain\"\n",
       "\n",
       "Iterations = 1:10\n",
       "Thinning interval = 1\n",
       "Chains = 1\n",
       "Samples per chain = 10\n",
       "\n",
       "[0.0 6.79645e18 0.0; 0.0 6.33299e18 0.0; … ; 0.0 1.47219e18 0.0; 0.0 3.83103e18 0.0]"
      ]
     },
     "execution_count": 20,
     "metadata": {},
     "output_type": "execute_result"
    }
   ],
   "source": [
    "c1"
   ]
  },
  {
   "cell_type": "code",
   "execution_count": 17,
   "metadata": {
    "collapsed": false
   },
   "outputs": [
    {
     "data": {
      "text/plain": [
       "\"ab\""
      ]
     },
     "execution_count": 17,
     "metadata": {},
     "output_type": "execute_result"
    }
   ],
   "source": [
    "\"a\" * \"b\""
   ]
  },
  {
   "cell_type": "code",
   "execution_count": 23,
   "metadata": {
    "collapsed": false
   },
   "outputs": [
    {
     "data": {
      "text/html": [
       "<script src=\"/home/keorn/.julia/v0.5/Plots/src/backends/../../deps/plotly-latest.min.js\"></script>    <div id=\"85c5bae5-0523-4275-a10a-4bc6a5b92cd8\" style=\"width:600px;height:400px;\"></div>\n",
       "    <script>\n",
       "    PLOT = document.getElementById('85c5bae5-0523-4275-a10a-4bc6a5b92cd8');\n",
       "    Plotly.plot(PLOT, [{\"yaxis\":\"y\",\"y\":[228.0,217.0,178.0,114.0,95.0,56.0,38.0,30.0,13.0,13.0,6.0,2.0,3.0,3.0,1.0,0.0,1.0,1.0],\"showlegend\":true,\"name\":\"y1\",\"type\":\"bar\",\"xaxis\":\"x\",\"orientation\":\"v\",\"colorbar\":{\"title\":\"\"},\"x\":[2.5,7.5,12.5,17.5,22.5,27.5,32.5,37.5,42.5,47.5,52.5,57.5,62.5,67.5,72.5,77.5,82.5,87.5],\"marker\":{\"color\":\"rgba(0, 154, 250, 1.000)\"}}], {\"yaxis\":{\"type\":\"-\",\"titlefont\":{\"size\":15,\"color\":\"rgba(0, 0, 0, 1.000)\",\"family\":\"sans-serif\"},\"title\":\"\",\"tickfont\":{\"size\":11,\"color\":\"rgba(0, 0, 0, 1.000)\",\"family\":\"sans-serif\"},\"ticks\":\"inside\",\"tickmode\":\"array\",\"showgrid\":true,\"tickvals\":[0.0,50.0,100.0,150.0,200.0],\"domain\":[0.03762029746281716,0.9901574803149606],\"ticktext\":[\"0\",\"50\",\"100\",\"150\",\"200\"],\"tickangle\":0,\"zeroline\":false,\"linecolor\":\"rgba(0, 0, 0, 1.000)\",\"tickcolor\":\"rgba(0, 0, 0, 1.000)\",\"anchor\":\"x\"},\"annotations\":[],\"width\":600,\"plot_bgcolor\":\"rgba(255, 255, 255, 1.000)\",\"showlegend\":true,\"legend\":{\"bgcolor\":\"rgba(255, 255, 255, 1.000)\",\"y\":1.0,\"font\":{\"size\":11,\"color\":\"rgba(0, 0, 0, 1.000)\",\"family\":\"sans-serif\"},\"bordercolor\":\"rgba(0, 0, 0, 1.000)\",\"x\":1.0},\"xaxis\":{\"type\":\"-\",\"titlefont\":{\"size\":15,\"color\":\"rgba(0, 0, 0, 1.000)\",\"family\":\"sans-serif\"},\"title\":\"\",\"tickfont\":{\"size\":11,\"color\":\"rgba(0, 0, 0, 1.000)\",\"family\":\"sans-serif\"},\"ticks\":\"inside\",\"tickmode\":\"array\",\"showgrid\":true,\"tickvals\":[0.0,25.0,50.0,75.0],\"domain\":[0.05100612423447069,0.9934383202099737],\"ticktext\":[\"0\",\"25\",\"50\",\"75\"],\"tickangle\":0,\"zeroline\":false,\"linecolor\":\"rgba(0, 0, 0, 1.000)\",\"tickcolor\":\"rgba(0, 0, 0, 1.000)\",\"anchor\":\"y\"},\"paper_bgcolor\":\"rgba(255, 255, 255, 1.000)\",\"height\":400,\"margin\":{\"r\":0,\"l\":0,\"b\":20,\"t\":20}});\n",
       "    </script>\n"
      ]
     },
     "execution_count": 23,
     "metadata": {},
     "output_type": "execute_result"
    }
   ],
   "source": [
    "timestamps = [b[\"timestamp\"] for b in blocks]\n",
    "times = [times[i]-times[i-1] for i in 2:length(times)]\n",
    "histogram(times)"
   ]
  },
  {
   "cell_type": "code",
   "execution_count": 27,
   "metadata": {
    "collapsed": false
   },
   "outputs": [
    {
     "data": {
      "text/html": [
       "<script src=\"/home/keorn/.julia/v0.5/Plots/src/backends/../../deps/plotly-latest.min.js\"></script>    <div id=\"9b6acaca-a6d7-4dc1-aae0-27dbf0be5444\" style=\"width:600px;height:400px;\"></div>\n",
       "    <script>\n",
       "    PLOT = document.getElementById('9b6acaca-a6d7-4dc1-aae0-27dbf0be5444');\n",
       "    Plotly.plot(PLOT, [{\"yaxis\":\"y\",\"y\":[4.0,6.0,21.0,29.0,44.0,68.0,65.0,97.0,122.0,113.0,90.0,74.0,80.0,49.0,39.0,37.0,28.0,14.0,8.0,5.0,3.0,1.0,1.0,1.0],\"showlegend\":true,\"name\":\"y1\",\"type\":\"bar\",\"xaxis\":\"x\",\"orientation\":\"v\",\"colorbar\":{\"title\":\"\"},\"x\":[5.5,6.5,7.5,8.5,9.5,10.5,11.5,12.5,13.5,14.5,15.5,16.5,17.5,18.5,19.5,20.5,21.5,22.5,23.5,24.5,25.5,26.5,27.5,28.5],\"marker\":{\"color\":\"rgba(0, 154, 250, 1.000)\"}}], {\"yaxis\":{\"type\":\"-\",\"titlefont\":{\"size\":15,\"color\":\"rgba(0, 0, 0, 1.000)\",\"family\":\"sans-serif\"},\"title\":\"\",\"tickfont\":{\"size\":11,\"color\":\"rgba(0, 0, 0, 1.000)\",\"family\":\"sans-serif\"},\"ticks\":\"inside\",\"tickmode\":\"array\",\"showgrid\":true,\"tickvals\":[0.0,25.0,50.0,75.0,100.0],\"domain\":[0.03762029746281716,0.9901574803149606],\"ticktext\":[\"0\",\"25\",\"50\",\"75\",\"100\"],\"tickangle\":0,\"zeroline\":false,\"linecolor\":\"rgba(0, 0, 0, 1.000)\",\"tickcolor\":\"rgba(0, 0, 0, 1.000)\",\"anchor\":\"x\"},\"annotations\":[],\"width\":600,\"plot_bgcolor\":\"rgba(255, 255, 255, 1.000)\",\"showlegend\":true,\"legend\":{\"bgcolor\":\"rgba(255, 255, 255, 1.000)\",\"y\":1.0,\"font\":{\"size\":11,\"color\":\"rgba(0, 0, 0, 1.000)\",\"family\":\"sans-serif\"},\"bordercolor\":\"rgba(0, 0, 0, 1.000)\",\"x\":1.0},\"xaxis\":{\"type\":\"-\",\"titlefont\":{\"size\":15,\"color\":\"rgba(0, 0, 0, 1.000)\",\"family\":\"sans-serif\"},\"title\":\"\",\"tickfont\":{\"size\":11,\"color\":\"rgba(0, 0, 0, 1.000)\",\"family\":\"sans-serif\"},\"ticks\":\"inside\",\"tickmode\":\"array\",\"showgrid\":true,\"tickvals\":[10.0,20.0],\"domain\":[0.05100612423447069,0.9934383202099737],\"ticktext\":[\"10\",\"20\"],\"tickangle\":0,\"zeroline\":false,\"linecolor\":\"rgba(0, 0, 0, 1.000)\",\"tickcolor\":\"rgba(0, 0, 0, 1.000)\",\"anchor\":\"y\"},\"paper_bgcolor\":\"rgba(255, 255, 255, 1.000)\",\"height\":400,\"margin\":{\"r\":0,\"l\":0,\"b\":20,\"t\":20}});\n",
       "    </script>\n"
      ]
     },
     "execution_count": 27,
     "metadata": {},
     "output_type": "execute_result"
    }
   ],
   "source": [
    "histogram([rand(Poisson(14)) for _ in 1:999])"
   ]
  },
  {
   "cell_type": "code",
   "execution_count": 84,
   "metadata": {
    "collapsed": false
   },
   "outputs": [
    {
     "data": {
      "text/plain": [
       "1000-element Array{Int64,1}:\n",
       "  544\n",
       "  549\n",
       "  544\n",
       "  547\n",
       "  544\n",
       "  689\n",
       "  544\n",
       "  547\n",
       "  660\n",
       "  547\n",
       "  549\n",
       "  522\n",
       " 1856\n",
       "    ⋮\n",
       "  773\n",
       "  517\n",
       "  544\n",
       " 1085\n",
       "  720\n",
       "  663\n",
       "  549\n",
       "  517\n",
       "  547\n",
       "  517\n",
       "  663\n",
       "  544"
      ]
     },
     "execution_count": 84,
     "metadata": {},
     "output_type": "execute_result"
    }
   ],
   "source": [
    "[b[\"size\"] for b in blocks]"
   ]
  },
  {
   "cell_type": "code",
   "execution_count": 17,
   "metadata": {
    "collapsed": false
   },
   "outputs": [
    {
     "data": {
      "text/html": [
       "<script src=\"/home/keorn/.julia/v0.5/Plots/src/backends/../../deps/plotly-latest.min.js\"></script>    <div id=\"792a642f-9058-420c-97ea-91cabc801f4e\" style=\"width:600px;height:400px;\"></div>\n",
       "    <script>\n",
       "    PLOT = document.getElementById('792a642f-9058-420c-97ea-91cabc801f4e');\n",
       "    Plotly.plot(PLOT, [{\"yaxis\":\"y\",\"y\":[3.0,155.0,0.0,0.0,0.0,0.0,0.0,0.0,0.0,0.0,0.0,0.0,0.0,0.0,0.0,0.0,0.0,0.0,0.0,0.0,0.0,0.0,0.0,0.0,0.0,49.0,141.0,8.0,192.0,0.0,0.0,30.0,0.0,422.0],\"showlegend\":true,\"name\":\"y1\",\"type\":\"bar\",\"xaxis\":\"x\",\"orientation\":\"v\",\"colorbar\":{\"title\":\"\"},\"x\":[1.0,3.0,5.0,7.0,9.0,11.0,13.0,15.0,17.0,19.0,21.0,23.0,25.0,27.0,29.0,31.0,33.0,35.0,37.0,39.0,41.0,43.0,45.0,47.0,49.0,51.0,53.0,55.0,57.0,59.0,61.0,63.0,65.0,67.0],\"marker\":{\"color\":\"rgba(0, 154, 250, 1.000)\"}}], {\"yaxis\":{\"type\":\"-\",\"titlefont\":{\"size\":15,\"color\":\"rgba(0, 0, 0, 1.000)\",\"family\":\"sans-serif\"},\"title\":\"\",\"tickfont\":{\"size\":11,\"color\":\"rgba(0, 0, 0, 1.000)\",\"family\":\"sans-serif\"},\"ticks\":\"inside\",\"tickmode\":\"array\",\"showgrid\":true,\"tickvals\":[0.0,100.0,200.0,300.0,400.0],\"domain\":[0.03762029746281716,0.9901574803149606],\"ticktext\":[\"0\",\"100\",\"200\",\"300\",\"400\"],\"tickangle\":0,\"zeroline\":false,\"linecolor\":\"rgba(0, 0, 0, 1.000)\",\"tickcolor\":\"rgba(0, 0, 0, 1.000)\",\"anchor\":\"x\"},\"annotations\":[],\"width\":600,\"plot_bgcolor\":\"rgba(255, 255, 255, 1.000)\",\"showlegend\":true,\"legend\":{\"bgcolor\":\"rgba(255, 255, 255, 1.000)\",\"y\":1.0,\"font\":{\"size\":11,\"color\":\"rgba(0, 0, 0, 1.000)\",\"family\":\"sans-serif\"},\"bordercolor\":\"rgba(0, 0, 0, 1.000)\",\"x\":1.0},\"xaxis\":{\"type\":\"-\",\"titlefont\":{\"size\":15,\"color\":\"rgba(0, 0, 0, 1.000)\",\"family\":\"sans-serif\"},\"title\":\"\",\"tickfont\":{\"size\":11,\"color\":\"rgba(0, 0, 0, 1.000)\",\"family\":\"sans-serif\"},\"ticks\":\"inside\",\"tickmode\":\"array\",\"showgrid\":true,\"tickvals\":[0.0,20.0,40.0,60.0],\"domain\":[0.05100612423447069,0.9934383202099737],\"ticktext\":[\"0\",\"20\",\"40\",\"60\"],\"tickangle\":0,\"zeroline\":false,\"linecolor\":\"rgba(0, 0, 0, 1.000)\",\"tickcolor\":\"rgba(0, 0, 0, 1.000)\",\"anchor\":\"y\"},\"paper_bgcolor\":\"rgba(255, 255, 255, 1.000)\",\"height\":400,\"margin\":{\"r\":0,\"l\":0,\"b\":20,\"t\":20}});\n",
       "    </script>\n"
      ]
     },
     "execution_count": 17,
     "metadata": {},
     "output_type": "execute_result"
    }
   ],
   "source": [
    "histogram([length(b[\"extraData\"]) for b in blocks])"
   ]
  },
  {
   "cell_type": "code",
   "execution_count": 9,
   "metadata": {
    "collapsed": false
   },
   "outputs": [
    {
     "data": {
      "text/html": [
       "<script src=\"/home/keorn/.julia/v0.5/Plots/src/backends/../../deps/plotly-latest.min.js\"></script>    <div id=\"c4337084-c03b-4261-9231-766f41211a37\" style=\"width:600px;height:400px;\"></div>\n",
       "    <script>\n",
       "    PLOT = document.getElementById('c4337084-c03b-4261-9231-766f41211a37');\n",
       "    Plotly.plot(PLOT, [{\"yaxis\":\"y\",\"y\":[15705.513354693636,15421.687449477535,15147.953680636163,14883.783174346601,14628.683376208282,14382.19498615466,14143.889198617364,13913.365213055115,13408.248339786218,12938.584049030811,12500.766425022508,12091.662531090853,11348.992423690834,10692.440602698367,10107.848833744405,9584.00120861102,9111.897561524298,8684.232060942642,8295.012420500625,7939.277387924203,7772.644709342229,7612.88414029814,7459.579150176013,7312.346203922183,7170.831558303314,7034.708424338852,6903.674447993012,6777.44946824544,6538.405034668939,6315.706818946972,6067.397900064638,5837.947268627558,5625.285177922111,5427.634071874394,5243.458781292224,5071.426571119768,4910.37483800726,4759.284801986208,4524.001481800882,4310.997055634717,4117.250196819928,3940.262262630056,3764.5729315746617,3603.9738504720335,3456.6008859443527,3320.8848024059853,3204.9422040352442,3096.8796561699296,2995.9202088973943,2901.385802202881,2717.6687611148427,2556.01107745013,2391.4087463298847,2246.9086504367515,2188.2145631350627,2132.5416033863416,2079.6623665417496,2029.3717121040625,1987.2547369660351,1946.8713063189546,1908.1165487863702,1870.8938847611619,1724.4000627797295,1598.7609569345277,1479.8412594368474,1382.2581269473872,1336.5238537552411,1293.7712413963343,1259.885623448577,1227.7629181135544,1155.929543254919,1095.812035912412,1011.7756487375077],\"showlegend\":true,\"name\":\"y1\",\"type\":\"scatter\",\"xaxis\":\"x\",\"line\":{\"width\":1,\"dash\":\"solid\",\"color\":\"rgba(0, 154, 250, 1.000)\",\"shape\":\"linear\"},\"colorbar\":{\"title\":\"\"},\"x\":[0.029297457059364394,0.05859491411872879,0.08789237117809318,0.11718982823745758,0.14648728529682198,0.17578474235618635,0.20508219941555075,0.23437965647491515,0.30210398008635364,0.3698283036977922,0.4375526273092307,0.5052769509206693,0.6407255981435462,0.7761742453664233,0.9116228925893004,1.0470715398121775,1.1825201870350543,1.3179688342579314,1.4534174814808085,1.5888661287036854,1.656590452315124,1.7243147759265625,1.792039099538001,1.8597634231494395,1.9274877467608782,1.9952120703723166,2.062936393983755,2.1306607175951937,2.266109364818071,2.401558012040948,2.564355994452701,2.727153976864454,2.8899519592762073,3.0527499416879604,3.2155479240997136,3.3783459065114667,3.54114388892322,3.703941871334973,3.9792291157958237,4.254516360256675,4.529803604717526,4.805090849178377,5.104129957082091,5.403169064985805,5.70220817288952,6.001247280793234,6.276934887802694,6.552622494812155,6.828310101821616,7.103997708831076,7.695130211293417,8.286262713755757,8.971147688940267,9.656032664124774,9.960355134759709,10.264677605394645,10.569000076029582,10.873322546664516,11.140185929239706,11.407049311814898,11.67391269439009,11.94077607696528,13.104586959727666,14.275314690067491,15.569703902985703,16.801282577876243,17.44156061107433,18.081838644272413,18.62081636613835,19.159794088004283,20.475855503672737,21.712992051089007,23.69498073638544],\"mode\":\"lines\"}], {\"yaxis\":{\"type\":\"-\",\"titlefont\":{\"size\":15,\"color\":\"rgba(0, 0, 0, 1.000)\",\"family\":\"sans-serif\"},\"title\":\"\",\"tickfont\":{\"size\":11,\"color\":\"rgba(0, 0, 0, 1.000)\",\"family\":\"sans-serif\"},\"ticks\":\"inside\",\"tickmode\":\"array\",\"showgrid\":true,\"tickvals\":[5000.0,10000.0,15000.0],\"domain\":[0.03762029746281716,0.9901574803149606],\"ticktext\":[\"5000\",\"10000\",\"15000\"],\"tickangle\":0,\"zeroline\":false,\"linecolor\":\"rgba(0, 0, 0, 1.000)\",\"tickcolor\":\"rgba(0, 0, 0, 1.000)\",\"anchor\":\"x\"},\"annotations\":[],\"width\":600,\"plot_bgcolor\":\"rgba(255, 255, 255, 1.000)\",\"showlegend\":true,\"legend\":{\"bgcolor\":\"rgba(255, 255, 255, 1.000)\",\"y\":1.0,\"font\":{\"size\":11,\"color\":\"rgba(0, 0, 0, 1.000)\",\"family\":\"sans-serif\"},\"bordercolor\":\"rgba(0, 0, 0, 1.000)\",\"x\":1.0},\"xaxis\":{\"type\":\"-\",\"titlefont\":{\"size\":15,\"color\":\"rgba(0, 0, 0, 1.000)\",\"family\":\"sans-serif\"},\"title\":\"\",\"tickfont\":{\"size\":11,\"color\":\"rgba(0, 0, 0, 1.000)\",\"family\":\"sans-serif\"},\"ticks\":\"inside\",\"tickmode\":\"array\",\"showgrid\":true,\"tickvals\":[5.0,10.0,15.0,20.0],\"domain\":[0.08063575386410031,0.9934383202099737],\"ticktext\":[\"5\",\"10\",\"15\",\"20\"],\"tickangle\":0,\"zeroline\":false,\"linecolor\":\"rgba(0, 0, 0, 1.000)\",\"tickcolor\":\"rgba(0, 0, 0, 1.000)\",\"anchor\":\"y\"},\"paper_bgcolor\":\"rgba(255, 255, 255, 1.000)\",\"height\":400,\"margin\":{\"r\":0,\"l\":0,\"b\":20,\"t\":20}});\n",
       "    </script>\n"
      ]
     },
     "execution_count": 9,
     "metadata": {},
     "output_type": "execute_result"
    }
   ],
   "source": [
    "Plots.plot(t->24921 / (t + 1.56) + 25, 0, 24)"
   ]
  },
  {
   "cell_type": "code",
   "execution_count": 23,
   "metadata": {
    "collapsed": false
   },
   "outputs": [
    {
     "name": "stdout",
     "output_type": "stream",
     "text": [
      "wei per indivisible token part\n"
     ]
    },
    {
     "data": {
      "text/html": [
       "<script src=\"/home/keorn/.julia/v0.5/Plots/src/backends/../../deps/plotly-latest.min.js\"></script>    <div id=\"d5082f6d-62c8-45e7-a160-b86501c0cff5\" style=\"width:600px;height:400px;\"></div>\n",
       "    <script>\n",
       "    PLOT = document.getElementById('d5082f6d-62c8-45e7-a160-b86501c0cff5');\n",
       "    Plotly.plot(PLOT, [{\"yaxis\":\"y\",\"y\":[15.975000000000001,13.608136094674558,11.851288659793815,10.49554794520548,9.417622950819673,8.540055762081785,7.811734693877551,7.197570532915361,6.672674418604652,6.218902439024391,5.822715736040609,5.473806682577566,5.16418918918919,4.887579957356078,4.6389676113360325,4.414306358381503,4.210294117647059,4.02420913884007,3.853787878787879,3.6971324717285947,3.552639751552795,3.4189461883408074,3.294884726224784,3.179450625869263,3.0717741935483875,2.9710988296488945,2.8767632241813605,2.7881868131868135,2.7048578199052136,2.62632336018412,2.5521812080536916,2.482072905331883,2.415677966101695,2.352708978328174,2.292907444668008,2.236040235525025,2.181896551724138,2.130285313376988,2.081032906764168,2.033981233243968,1.988986013986014,1.9459153122326776,1.9046482412060302,1.8650738310090238,1.827090032154341,1.790602836879433,1.7555255023183927,1.7217778620166795,1.6892857142857143,1.6579802775748722,1.6277977044476328,1.598678646934461,1.570567867036011,1.543413886997958,1.5171686746987953,1.4917873601053326,1.4672279792746115,1.4434512428298278,1.4204203262233375,1.398100679431748,1.3764598540145987,1.3554673457159978,1.335094451003542,1.3153141361256546,1.2961009174311926,1.2774307518371961,1.2592809364548496,1.2416300164925784,1.2244577006507593,1.207744783306581,1.1914730728616685,1.1756253256904639,1.1601851851851854,1.145137125444388,1.1304663991975927,1.1161589895988113,1.10220156555773,1.0885814403093281,1.0752865329512895,1.0623053327041059,1.0496268656716419,1.037240663900415,1.025136736554239,1.0133055430374043,1.0017379679144387,0.9904252974878801,0.9793591979075851,0.9685316946959897,0.9579351535836179,0.9475622625580414,0.937406015037594,0.9274596940884664,0.9177168576104747,0.9081713244228433,0.8988171611868484,0.8896486701071855,0.8806603773584907,0.8718470221876217,0.8632035466461064,0.854725085910653,0.846406959152799,0.8382446609216936,0.8302338530066815,0.8223703567488048,0.8146501457725949,0.8070693391115926,0.799624194702935,0.7923111032280952,0.7851265822784811,0.7780672708260719,0.7711299239806496,0.764311408016444,0.757608695652174,0.751018861569552,0.7445390781563126,0.7381666114607486,0.731898817345598,0.7257331378299121,0.7196670976082741,0.7136983007374159,0.707824427480916,0.7020432313032502,0.6963525360050095,0.6907502329916123,0.6852342786683109,0.6798026919547263,0.6744535519125684,0.6691849954805664,0.6639952153110048,0.6588824577025825,0.6538450206246317,0.6488812518280199,0.6439895470383276,0.6391683482271548,0.6344161419576417,0.6297314578005115,0.6251128668171557,0.6205589801064725,0.616068447412354,0.611639955788892,0.6072722283205269,0.6029640228945218,0.5987141310232811,0.5945213767141705,0.5903846153846155,0.5863027328203767,0.5822746441750132,0.578299293008641,0.5743756503642039,0.5705027138795555,0.5666795069337442,0.5629050778259761,0.5591784989858013,0.5554988662131519,0.5518652979469204,0.548276934560836,0.54473293768546,0.5412324895551733,0.5377747923790913,0.5343590677348872,0.530984555984556,0.5276505157112018,0.5243562231759658,0.5211009717942641,0.5178840716305373,0.514704848910752,0.511562645551933,0.5084568187080343,0.5053867403314918,0.5023517967498284,0.49935138825671377,0.4963849287169043,0.4934518451845185,0.490551577534124,0.4876835781041389,0.4848473113520691,0.48204225352112684,0.4792678923177939,0.476523726599913,0.473809266074908,0.47112403100775196,0.4684675519383166,0.4658393694077546,0.46323903369357916,0.4606661045531198,0.4581201509750472,0.45560075093867336,0.45310749118074295,0.45063996696944675,0.4481977818853975,0.4457805476093175,0.4433878837162025,0.44101941747572815,0.4386747836586839,0.4363536243492191,0.4340555887627018,0.4317803330689929,0.42952752022095086,0.4272968197879859,0.4250879077944912,0.422900466562986,0.42073418456181083,0.41858875625721986,0.41646388196972606,0.41435926773455384,0.41227462516606567,0.4102096713260295,0.40816412859560075,0.4061377245508982,0.4041301918420563,0.40214126807563966,0.40017069570031377,0.39821822189566497,0.39628359846407024,0.39436658172551875,0.3924669324152926,0.39058441558441565,0.38871880050278335,0.386869860564891,0.38503737319807796,0.38322111977321055,0.381420885517728,0.37963645943098,0.3778676342017836,0.37611420612813373,0.37437597503900155,0.37265274421815675,0.3709443203299536,0.36925051334702264,0.36757113647980916,0.3659060061079064,0.3642549417131273,0.3626177658142665,0.36099430390350146,0.3593843843843844,0.35778783851138063,0.3562045003309067,0.354634206623826,0.35307679684936005,0.3515321130903743,0.35000000000000003,0.34848030474955427,0.3469728769777204,0.34547756874095514,0.3439942344650865,0.3425227308980699,0.3410629170638704,0.3396146542174395,0.3381778058007566,0.33675223739990584,0.33533781670315926,0.33393441346004055,0.3325418994413408,0.33116014840006186,0.32978903603326154,0.32842843994477683,0.327078239608802,0.3257383163342975,0.3244085532302093,0.3230888351714761,0.3217790487658037,0.3204790823211876,0.31918882581416197,0.3179081708587587,0.3166370106761566,0.3153752400650023,0.31412275537238743,0.31287945446546417,0.31164523670368205,0.310420002911632,0.30920365535248046,0.30799609770198005,0.3067972350230415,0.3056069737408524,0.3044252216185302,0.30325188773329537,0.30208688245315163,0.3009301174140614,0.29978150549760363,0.2986409608091024,0.297508398656215,0.29638373552796765,0.29526688907422854,0.29415777808560745,0.2930563224737714,0.29196244325216675,0.2908760625171374,0.28979710342943027,0.2887254901960784,0.287661148052653,0.28660400324587504,0.2855539830165791,0.2845110155830199,0.2834750301245147,0.2824459567654124,0.2814237265593829,0.2804082714740191,0.27939952437574317,0.27839741901501186,0.2774018900118126,0.27641287284144433,0.2754303038205763,0.2744541200935794,0.2734842596191217,0.2725206611570248,0.27156326425537397,0.27061200923787526,0.26966683719145673,0.26872768995410506,0.2677945101029356,0.266867240942488,0.2659458264932441,0.2650302114803626,0.2641203413226252,0.2632161621215912,0.262317620650954,0.2614246643460965,0.26053724129384065,0.259655300222387,0.25877879049143987,0.25790766208251475,0.25704186558942343,0.2561813522089334,0.25532607373159755,0.2544759825327511,0.25363103156367156,0.2527911743428985,0.25195636494771007,0.2511265580057527,0.25030170868682045,0.249481772694782,0.2486667062596508,0.24785646612979634,0.24705100956429332,0.24625029432540618,0.24545427867120556,0.2446629213483146,0.2438761815847824,0.24309401908308123,0.2423163940132266,0.24154326700601575,0.2407745991463837,0.2400103519668737,0.23925048744122035,0.2384949679780421,0.23774375641464252,0.23699681601091657,0.23625411044336095,0.2355156037991859,0.2347812605705266,0.23405104564875198,0.23332492431886984,0.23260286225402507,0.23188482551009032,0.23117078052034692,0.23046069409025394,0.2297545333923043,0.22905226596096592,0.2283538596877062,0.2276592828160983,0.22696850393700788,0.22628149198385866,0.22559821622797477,0.22491864627399938,0.22424275205538727,0.2235705038299709,0.22290187217559718,0.2222368279858354,0.22157534246575344,0.22091738712776177,0.22026293378752396,0.21961195455993207,0.21896442185514614,0.2183203083746964,0.21767958710764695,0.21704223132682005,0.21640821458507964,0.21577751071167314,0.21515009380863043,0.21452593824721905,0.2139050186644546,0.2132873099596649,0.21267278729110792,0.21206142607264122,0.21145320197044337,0.21084809089978504,0.21024606902185014,0.20964711274060496,0.20905119869971556,0.20845830377951163,0.20786840509399637,0.20728147998790203,0.20669750603378922,0.2061164610291905,0.2055383229937963,0.2049630701666833,0.20439068100358423,0.20382113417419806,0.20325440855954033,0.20269048324933295,0.2021293375394322,0.20157095092929492,0.20101530311948207,0.20046237400919859,0.1999121436938696,0.19936459246275198,0.19881970079658057,0.1982774493652486,0.19773781902552207,0.1972007908187868,0.19666634596882818,0.19613446587964295,0.1956051321332823,0.1950783264877257,0.19455403087478562,0.19403222739804166,0.19351289833080426,0.19299602611410732,0.1924815933547291,0.19196958282324136,0.1914599774520857,0.19095276033367703,0.19044791471853378,0.1899454240134341,0.18944527177959794,0.18894744173089426,0.1884519177320734,0.18795868379702377,0.18746772408705276,0.18697902290919127,0.18649256471452177,0.186008334096529,0.1855263157894737,0.18504649466678824,0.18456885573949428,0.184093384154642,0.1836200651937704,0.1831488842713886,0.1826798269334776,0.18221287885601223,0.18174802584350325,0.18128525382755845,0.18082454886546367,0.18036589713878246,0.17990928495197442,0.17945469873103204,0.17900212502213567,0.17855155049032603,0.17810296191819466,0.17765634620459145,0.17721169036334913,0.17676898152202472,0.17632820692065712,0.17588935391054147,0.175452409953019,0.17501736261828285,0.1745841995841996,0.17415290863514565,0.17372347766085908,0.17329589465530595,0.17287014771556167,0.17244622504070617,0.17202411493073372,0.1716038057854766,0.17118528610354225,0.17076854448126436,0.17035356961166695,0.16994035028344193,0.16952887537993921,0.16911913387817004,0.16871111484782245,0.16830480745028945,0.16790020093770933,0.16749728465201774,0.167096048024012,0.16669648057242697,0.16629857190302225,0.16590231170768086,0.16550768976351912,0.1651146959320076,0.16472332015810276,0.16433355246938947,0.16394538297523373,0.16355880186594648,0.16317379941195687,0.16279036596299618,0.16240849194729137,0.16202816787076874,0.16164938431626702,0.16127213194276013,0.16089640148458934,0.1605221837507046,0.16014946962391516,0.1597782500601492,0.15940851608772214,0.15904025880661396,0.15867346938775512,0.1583081390723208,0.15794425917103383,0.15758182106347574,0.1572208161974059,0.15686123608808902,0.1565030723176304,0.15614631653431874,0.1557909604519774,0.1554369958493226,0.1550844145693294,0.1547332085186052,0.15438336966677046,0.15403489004584664,0.15368776174965101,0.15334197693319918,0.15299752781211373,0.15265440666204028,0.1523126058180699,0.15197211767416852,0.1516329346826127,0.1512950493534318,0.15095845425385673,0.150623142007775,0.1502891052951917,0.14995633685169715,0.14962482946793998,0.14929457598910661,0.14896556931440655,0.14863780239656343,0.14831126824131188,0.14798595990689992,0.14766187050359714,0.14733899319320817,0.14701732118859193,0.1466968477531858,0.14637756620053557,0.14605946989383028,0.14574255224544244,0.14542680671647312,0.14511222681630245,0.14479880610214463,0.14448653817860824,0.1441754166972612,0.1438654353562005,0.1435565878996269,0.14324886811742368,0.1429422698447409,0.14263678696158322,0.14233241339240324,0.14202914310569817,0.14172697011361168,0.14142588847154003,0.14112589227774172,0.14082697567295235,0.1405291328400029,0.14023235800344236,0.1399366454291646,0.13964198942403888,0.1393483843355446,0.13905582455140986,0.13876430449925367,0.13847381864623245,0.1381843614986897,0.13789592760180996,0.1376085115392759,0.13732210793292943,0.1370367114424362,0.13675231676495367,0.13646891863480273,0.1361865118231426,0.1359050911376493,0.13562465142219746,0.13534518755654534,0.13506669445602335,0.13478916707122549,0.13451260038770424,0.13423698942566867,0.13396232923968537,0.13368861491838283,0.13341584158415842,0.13314400439288904,0.13287309853364399,0.13260311922840143,0.13233406173176726,0.1320659213306974,0.13179869334422215,0.13153237312317415,0.13126695604991864,0.13100243753808655,0.1307388130323104,0.13047607800796276,0.13021422797089735,0.12995325845719286,0.12969316503289918,0.12943394329378644,0.12917558886509636,0.128918097401296,0.12866146458583436,0.12840568613090086,0.12815075777718693,0.12789667529364923,0.12764343447727575,0.12739103115285402,0.12713946117274166,0.1268887204166392,0.12663880479136502,0.12638971023063278,0.12614143269483077,0.1258939681708036,0.12564731267163595,0.12540146223643842,0.12515641293013557,0.12491216084325592,0.12466870209172408,0.12442603281665479,0.12418414918414919,0.12394304738509278,0.12370272363495546,0.12346317417359368,0.12322439526505406,0.1229863831973794,0.12274913428241632,0.12251264485562455,0.12227691127588852,0.12204192992533028,0.12180769720912452,0.12157420955531524,0.12134146341463416,0.12110945526032091,0.1208781815879448,0.12064763891522852,0.1204178237818733,0.1201887327493856,0.11996036240090602,0.11973270934103902,0.11950577019568491,0.119279541611873,0.11905402025759661,0.1188292028216493,0.11860508601346298,0.11838166656294731,0.11815894122033056,0.11793690675600225,0.11771555996035679,0.11749489764363906,0.11727491663579105,0.11705561378630003,0.11683698596404826,0.11661903005716394,0.11640174297287346,0.11618512163735524,0.11596916299559473,0.11575386401124076,0.11553922166646335,0.11532523296181253,0.11511189491607883,0.1148992045661546,0.11468715896689706,0.1144757551909922,0.11426499032882012,0.11405486148832157,0.11384536579486562,0.1136365003911186,0.11342826243691422,0.11322064910912473,0.1130136576015335,0.11280728512470842,0.11260152890587674,0.11239638618880078,0.1121918542336549,0.11198793031690352,0.11178461173118025,0.11158189578516807,0.11137977980348053,0.11117826112654414,0.11097733711048159,0.1107770051269963,0.11057726256325763,0.11037810682178742,0.11017953532034735,0.1099815454918273,0.10978413478413479,0.10958730066008529,0.10939104059729353,0.1091953520880657,0.10900023263929279,0.10880567977234451,0.10861169102296452,0.10841826394116626,0.10822539609112988,0.10803308505109996,0.10784132841328413,0.10765012378375266,0.10745946878233874,0.10726936104253977,0.1070797982114194,0.10689077794951057,0.10670229793071911,0.10651435584222844,0.10632694938440494,0.10614007627070408,0.10595373422757759,0.10576792099438108,0.10558263432328271,0.10539787197917257,0.10521363173957274,0.10502991139454823,0.10484670874661858,0.10466402161067027,0.10448184781386985,0.10430018519557777,0.10411903160726295,0.10393838491241816,0.10375824298647593,0.10357860371672527,0.10339946500222916,0.10322082475374257,0.10304268089363122,0.10286503135579111,0.10268787408556862,0.10251120703968122,0.10233502818613906,0.1021593355041669,0.101984126984127,0.10180940062744236,0.10163515444652084,0.10146138646467974,0.10128809471607104,0.10111527724560732,0.10094293210888816,0.1007710573721273,0.10059965111208025,0.10042871141597257,0.10025823638142872,0.10008822411640154,0.09991867273910215,0.0997495803779306,0.09958094517140695,0.09941276526810303,0.09924503882657465,0.0990777640152943,0.09891093901258471,0.09874456200655246,0.09857863119502254,0.09841314478547325,0.09824810099497165,0.09808349805010953,0.09791933418693984,0.09775560765091375,0.09759231669681813,0.09742945958871355,0.09726703459987265,0.09710504001271929,0.09694347411876786,0.09678233521856335,0.09662162162162162,0.09646133164637041,0.09630146362009057,0.096142015878858,0.09598298676748583,0.0958243746394672,0.0956661778569184,0.09550839479052252,0.09535102381947348,0.09519406333142054,0.09503751172241326,0.09488136739684687,0.09472562876740802,0.09457029425502103,0.09441536228879445,0.09426083130596823,0.09410669975186105,0.09395296607981828,0.09379962875116017,0.09364668623513055,0.09349413700884593,0.09334197955724485,0.09319021237303786,0.09303883395665763,0.09288784281620958,0.09273723746742296,0.09258701643360213,0.09243717824557827,0.09228772144166159,0.09213864456759369,0.09198994617650047,0.09184162482884528,0.0916936790923825,0.0915461075421114,0.09139890876023038,0.09125208133609164,0.09110562386615602,0.09095953495394837,0.09081381321001308,0.09066845725187009,0.09052346570397113,0.09037883719765638,0.09023457037111134,0.09009066386932416,0.08994711634404311,0.08980392645373461,0.08966109286354136,0.08951861424524082,0.08937648927720414,0.0892347166443552,0.08909329503813015,0.08895222315643701,0.08881149970361589,0.08867112339039915,0.08853109293387208,0.08839140705743394,0.08825206449075895,0.08811306396975797,0.08797440423654017,0.0878360840393751,0.08769810213265507,0.08756045727685768,0.08742314823850884,0.08728617379014572,0.08714953271028038,0.08701322378336332,0.08687724579974751,0.08674159755565257,0.08660627785312924,0.0864712855000242,0.08633661930994492,0.08620227810222501,0.0860682607018897,0.08593456593962155,0.08580119265172648,0.08566813968009991,0.08553540587219345,0.08540299008098137,0.08527089116492774,0.08513910798795354,0.08500763941940413,0.08487648433401689,0.0847456416118891,0.08461511013844616,0.08448488880440981,0.08435497650576677,0.08422537214373756,0.0840960746247455,0.08396708286038593,0.08383839576739574,0.08371001226762292,0.08358193128799661,0.0834541517604971,0.0833266726221261,0.08319949281487743,0.08307261128570759,0.08294602698650676,0.08281973887406993,0.08269374591006824,0.0825680470610206,0.08244264129826526,0.08231752759793191,0.08219270494091376,0.08206817231283982,0.08194392870404754,0.08181997310955538,0.08169630452903584,0.08157292196678849,0.08144982443171318,0.08132701093728369,0.08120448050152115,0.08108223214696811,0.08096026490066226,0.0808385777941109,0.08071716986326513,0.08059604014849443,0.08047518769456144,0.08035461155059674,0.08023431077007401,0.08011428441078518,0.0799945315348159,0.0798750512085211,0.07975584250250069,0.07963690449157546,0.0795182362547632,0.07939983687525488,0.07928170544039106,0.07916384104163843,0.07904624277456648,0.07892890973882448,0.07881184103811842,0.07869503578018813,0.07857849307678476,0.07846221204364813,0.07834619180048444,0.07823043147094404,0.07811493018259937,0.07799968706692298,0.07788470125926587,0.07776997189883582,0.07765549812867581,0.07754127909564289,0.07742731395038677,0.07731360184732894,0.07720014194464159,0.07708693340422705,0.07697397539169691,0.07686126707635176,0.07674880763116058,0.07663659623274076,0.07652463206133779,0.07641291430080549,0.076301442138586,0.0761902147656902,0.07607923137667809,0.07596849116963933,0.07585799334617406,0.07574773711137348,0.07563772167380099,0.0755279462454732,0.07541841004184101,0.07530911228177109,0.07520005218752719,0.07509122898475173,0.0749826419024475,0.07487429017295938,0.07476617303195636,0.07465828971841343,0.07455063947459385,0.07444322154603134,0.07433603518151247,0.07422907963305914,0.0741223541559112,0.07401585800850917,0.07390959045247704,0.07380355075260517,0.07369773817683345,0.07359215199623433,0.07348679148499616,0.07338165592040652,0.0732767445828357,0.0731720567557203,0.07306759172554694,0.07296334878183597,0.07285932721712537,0.0727555263269549,0.07265194540984997,0.07254858376730598,0.07244544070377262,0.07234251552663823,0.07223980754621423,0.0721373160757199,0.07203504043126685,0.071932979931844,0.07183113389930236,0.07172950165834,0.07162808253648717,0.07152687586409151,0.07142588097430318,0.07132509720306035,0.07122452388907452,0.07112416037381618,0.07102400600150038,0.07092406011907242,0.07082432207619364,0.07072479122522747,0.0706254669212252,0.07052634852191218,0.07042743538767396,0.07032872688154247,0.07023022236918246,0.07013192121887775,0.0700338228015179,0.06993592649058471,0.0698382316621388,0.06974073769480653,0.06964344396976668,0.0695463498707374,0.06944945478396326,0.06935275809820222,0.06925625920471282,0.06915995749724141,0.06906385237200947,0.06896794322770096,0.06887222946544981,0.0687767104888274,0.06868138570383021,0.06858625451886755,0.06849131634474924,0.06839657059467348,0.06830201668421479,0.06820765403131196,0.06811348205625607,0.06801950018167871,0.06792570783254014,0.0678321044361175,0.06773868942199324,0.06764546222204351,0.06755242227042661,0.06745956900357157,0.06736690186016678,0.06727442028114863,0.06718212370969033,0.0670900115911907,0.06699808337326306,0.06690633850572421,0.06681477644058341,0.06672339663203154,0.06663219853643017,0.06654118161230085,0.06645034532031437,0.06635968912328007,0.06626921248613532,0.06617891487593495,0.06608879576184076,0.0659988546151112,0.06590909090909092,0.0658195041192006,0.06573009372292668,0.06564085919981118,0.0655518000314416,0.06546291570144097,0.06537420569545777,0.06528566950115601,0.06519730660820545,0.06510911650827174,0.06502109869500665,0.06493325266403842,0.0648455779129621,0.06475807394133003,0.06467074025064218,0.06458357634433687,0.06449658172778124,0.06440975590826188,0.06432309839497558,0.0642366086990201,0.06415028633338493,0.06406413081294213,0.06397814165443733,0.06389231837648059,0.06380666049953748,0.06372116754592014,0.06363583903977842,0.06355067450709098,0.06346567347565658,0.06338083547508534,0.06329616003679008,0.06321164669397757,0.06312729498164014,0.06304310443654706,0.06295907459723601,0.06287520500400474,0.06279149519890262,0.06270794472572234,0.06262455312999164,0.06254131995896502,0.06245824476161556,0.0623753270886268,0.06229256649238465,0.06220996252696924,0.062127514748147025,0.0620452227133628,0.06196308598173172,0.06188110411403146,0.06179927667269441,0.061717603221799845,0.06163608332706626,0.061554716555843575,0.06147350247710554,0.06139244066144213,0.061311530681051926,0.06123077210973465,0.06115016452288364,0.061069707497478434,0.06098940061207733,0.0609092434468101,0.0608292355833706,0.060749376605009495,0.06066966609652711,0.06059010364426613,0.06051068883610452,0.06043142126144834,0.06035230051122473,0.060273326177874835,0.060194497855346855,0.06011581513908899,0.060037277626042676,0.05995888491463549,0.05988063660477453,0.05980253229783946,0.05972457159667575,0.05964675410558802,0.05956907943033329,0.05949154717811434,0.05941415695757309,0.059336908378784005,0.059259801053247525,0.059182834593883585,0.059106008615025185,0.05902932273241183,0.05895277656318322,0.058876369725872804,0.05880010184040154,0.05872397252807152,0.058647981411559684,0.058572128114911685,0.05849641226353556,0.05842083348419567,0.05834539140500652,0.058270085655426664,0.058194915866252625,0.0581198816696129,0.05804498269896194,0.05797021858907415,0.057895588976038005,0.057821093497250085,0.05774673179140928,0.0576725034985109,0.05759840825984083,0.057524445717969844,0.05745061551674778,0.057376917301297875,0.057303350718011015,0.05722991541454013,0.057156611039794615,0.057083437243934596,0.057010393678365495,0.05693747999573242,0.05686469584991472,0.056792040896020454,0.05671951479038093,0.05664711719054538,0.05657484775527546,0.056502706144539956,0.05643069201950945,0.05635880504255095,0.05628704487722269,0.056215411188268886,0.05614390364161444,0.05607252190435976,0.0560012656447757,0.055930134532298295,0.0558591282375237,0.05578824643220309,0.05571748878923767,0.05564685498267352,0.055576344687696726,0.05550595758062826,0.05543569333891916,0.05536555164114549,0.05529553216700356,0.05522563459730493,0.05515585861397162,0.055086203900031286,0.05501667013961242,0.05494725701793956,0.05487796422132853,0.054808791437181766,0.054739738353983526,0.05467080466129535,0.054601990049751255,0.054533294211053206,0.054464716837966484,0.05439625762431511,0.05432791626497729,0.05425969245588084,0.05419158589399877,0.05412359627734469,0.05405572330496843,0.053987966676951556,0.05392032609440296,0.05385280125945447,0.053785391875256466,0.05371809764597356,0.05365091827678023,0.053583853473856545,0.05351690294438386,0.05345006639654058,0.05338334353949786,0.053316734083415473,0.053250237739437586,0.053183854219688485,0.0531175832372686,0.053051424506250215,0.052985377741673445,0.052919442659542085,0.05285361897681964,0.052787906411425105,0.052722304682229125,0.05265681350904986,0.05259143261264903,0.05252616171472796,0.05246100053792362,0.052395948805804705,0.0523310062428677,0.05226617257453301,0.05220144752714114,0.052136830827948705,0.05207232220512477,0.05200792138774692,0.051943628105797494,0.05187944209015983,0.05181536307261453,0.051751390785835634,0.05168752496338704,0.051623765339718644,0.05156011165016282,0.05149656363093064,0.05143312101910829,0.0513697835526534,0.051306550970391475,0.05124342301201231,0.0511803994180664,0.051117479929961344,0.051054664289958404,0.0509919522411689,0.050929343527550755,0.05086683789390498],\"showlegend\":true,\"name\":\"y1\",\"type\":\"scatter\",\"xaxis\":\"x\",\"line\":{\"width\":1,\"dash\":\"solid\",\"color\":\"rgba(0, 154, 250, 1.000)\",\"shape\":\"linear\"},\"colorbar\":{\"title\":\"\"},\"x\":[0,1000,2000,3000,4000,5000,6000,7000,8000,9000,10000,11000,12000,13000,14000,15000,16000,17000,18000,19000,20000,21000,22000,23000,24000,25000,26000,27000,28000,29000,30000,31000,32000,33000,34000,35000,36000,37000,38000,39000,40000,41000,42000,43000,44000,45000,46000,47000,48000,49000,50000,51000,52000,53000,54000,55000,56000,57000,58000,59000,60000,61000,62000,63000,64000,65000,66000,67000,68000,69000,70000,71000,72000,73000,74000,75000,76000,77000,78000,79000,80000,81000,82000,83000,84000,85000,86000,87000,88000,89000,90000,91000,92000,93000,94000,95000,96000,97000,98000,99000,100000,101000,102000,103000,104000,105000,106000,107000,108000,109000,110000,111000,112000,113000,114000,115000,116000,117000,118000,119000,120000,121000,122000,123000,124000,125000,126000,127000,128000,129000,130000,131000,132000,133000,134000,135000,136000,137000,138000,139000,140000,141000,142000,143000,144000,145000,146000,147000,148000,149000,150000,151000,152000,153000,154000,155000,156000,157000,158000,159000,160000,161000,162000,163000,164000,165000,166000,167000,168000,169000,170000,171000,172000,173000,174000,175000,176000,177000,178000,179000,180000,181000,182000,183000,184000,185000,186000,187000,188000,189000,190000,191000,192000,193000,194000,195000,196000,197000,198000,199000,200000,201000,202000,203000,204000,205000,206000,207000,208000,209000,210000,211000,212000,213000,214000,215000,216000,217000,218000,219000,220000,221000,222000,223000,224000,225000,226000,227000,228000,229000,230000,231000,232000,233000,234000,235000,236000,237000,238000,239000,240000,241000,242000,243000,244000,245000,246000,247000,248000,249000,250000,251000,252000,253000,254000,255000,256000,257000,258000,259000,260000,261000,262000,263000,264000,265000,266000,267000,268000,269000,270000,271000,272000,273000,274000,275000,276000,277000,278000,279000,280000,281000,282000,283000,284000,285000,286000,287000,288000,289000,290000,291000,292000,293000,294000,295000,296000,297000,298000,299000,300000,301000,302000,303000,304000,305000,306000,307000,308000,309000,310000,311000,312000,313000,314000,315000,316000,317000,318000,319000,320000,321000,322000,323000,324000,325000,326000,327000,328000,329000,330000,331000,332000,333000,334000,335000,336000,337000,338000,339000,340000,341000,342000,343000,344000,345000,346000,347000,348000,349000,350000,351000,352000,353000,354000,355000,356000,357000,358000,359000,360000,361000,362000,363000,364000,365000,366000,367000,368000,369000,370000,371000,372000,373000,374000,375000,376000,377000,378000,379000,380000,381000,382000,383000,384000,385000,386000,387000,388000,389000,390000,391000,392000,393000,394000,395000,396000,397000,398000,399000,400000,401000,402000,403000,404000,405000,406000,407000,408000,409000,410000,411000,412000,413000,414000,415000,416000,417000,418000,419000,420000,421000,422000,423000,424000,425000,426000,427000,428000,429000,430000,431000,432000,433000,434000,435000,436000,437000,438000,439000,440000,441000,442000,443000,444000,445000,446000,447000,448000,449000,450000,451000,452000,453000,454000,455000,456000,457000,458000,459000,460000,461000,462000,463000,464000,465000,466000,467000,468000,469000,470000,471000,472000,473000,474000,475000,476000,477000,478000,479000,480000,481000,482000,483000,484000,485000,486000,487000,488000,489000,490000,491000,492000,493000,494000,495000,496000,497000,498000,499000,500000,501000,502000,503000,504000,505000,506000,507000,508000,509000,510000,511000,512000,513000,514000,515000,516000,517000,518000,519000,520000,521000,522000,523000,524000,525000,526000,527000,528000,529000,530000,531000,532000,533000,534000,535000,536000,537000,538000,539000,540000,541000,542000,543000,544000,545000,546000,547000,548000,549000,550000,551000,552000,553000,554000,555000,556000,557000,558000,559000,560000,561000,562000,563000,564000,565000,566000,567000,568000,569000,570000,571000,572000,573000,574000,575000,576000,577000,578000,579000,580000,581000,582000,583000,584000,585000,586000,587000,588000,589000,590000,591000,592000,593000,594000,595000,596000,597000,598000,599000,600000,601000,602000,603000,604000,605000,606000,607000,608000,609000,610000,611000,612000,613000,614000,615000,616000,617000,618000,619000,620000,621000,622000,623000,624000,625000,626000,627000,628000,629000,630000,631000,632000,633000,634000,635000,636000,637000,638000,639000,640000,641000,642000,643000,644000,645000,646000,647000,648000,649000,650000,651000,652000,653000,654000,655000,656000,657000,658000,659000,660000,661000,662000,663000,664000,665000,666000,667000,668000,669000,670000,671000,672000,673000,674000,675000,676000,677000,678000,679000,680000,681000,682000,683000,684000,685000,686000,687000,688000,689000,690000,691000,692000,693000,694000,695000,696000,697000,698000,699000,700000,701000,702000,703000,704000,705000,706000,707000,708000,709000,710000,711000,712000,713000,714000,715000,716000,717000,718000,719000,720000,721000,722000,723000,724000,725000,726000,727000,728000,729000,730000,731000,732000,733000,734000,735000,736000,737000,738000,739000,740000,741000,742000,743000,744000,745000,746000,747000,748000,749000,750000,751000,752000,753000,754000,755000,756000,757000,758000,759000,760000,761000,762000,763000,764000,765000,766000,767000,768000,769000,770000,771000,772000,773000,774000,775000,776000,777000,778000,779000,780000,781000,782000,783000,784000,785000,786000,787000,788000,789000,790000,791000,792000,793000,794000,795000,796000,797000,798000,799000,800000,801000,802000,803000,804000,805000,806000,807000,808000,809000,810000,811000,812000,813000,814000,815000,816000,817000,818000,819000,820000,821000,822000,823000,824000,825000,826000,827000,828000,829000,830000,831000,832000,833000,834000,835000,836000,837000,838000,839000,840000,841000,842000,843000,844000,845000,846000,847000,848000,849000,850000,851000,852000,853000,854000,855000,856000,857000,858000,859000,860000,861000,862000,863000,864000,865000,866000,867000,868000,869000,870000,871000,872000,873000,874000,875000,876000,877000,878000,879000,880000,881000,882000,883000,884000,885000,886000,887000,888000,889000,890000,891000,892000,893000,894000,895000,896000,897000,898000,899000,900000,901000,902000,903000,904000,905000,906000,907000,908000,909000,910000,911000,912000,913000,914000,915000,916000,917000,918000,919000,920000,921000,922000,923000,924000,925000,926000,927000,928000,929000,930000,931000,932000,933000,934000,935000,936000,937000,938000,939000,940000,941000,942000,943000,944000,945000,946000,947000,948000,949000,950000,951000,952000,953000,954000,955000,956000,957000,958000,959000,960000,961000,962000,963000,964000,965000,966000,967000,968000,969000,970000,971000,972000,973000,974000,975000,976000,977000,978000,979000,980000,981000,982000,983000,984000,985000,986000,987000,988000,989000,990000,991000,992000,993000,994000,995000,996000,997000,998000,999000,1000000,1001000,1002000,1003000,1004000,1005000,1006000,1007000,1008000,1009000,1010000,1011000,1012000,1013000,1014000,1015000,1016000,1017000,1018000,1019000,1020000,1021000,1022000,1023000,1024000,1025000,1026000,1027000,1028000,1029000,1030000,1031000,1032000,1033000,1034000,1035000,1036000,1037000,1038000,1039000,1040000,1041000,1042000,1043000,1044000,1045000,1046000,1047000,1048000,1049000,1050000,1051000,1052000,1053000,1054000,1055000,1056000,1057000,1058000,1059000,1060000,1061000,1062000,1063000,1064000,1065000,1066000,1067000,1068000,1069000,1070000,1071000,1072000,1073000,1074000,1075000,1076000,1077000,1078000,1079000,1080000,1081000,1082000,1083000,1084000,1085000,1086000,1087000,1088000,1089000,1090000,1091000,1092000,1093000,1094000,1095000,1096000,1097000,1098000,1099000,1100000,1101000,1102000,1103000,1104000,1105000,1106000,1107000,1108000,1109000,1110000,1111000,1112000,1113000,1114000,1115000,1116000,1117000,1118000,1119000,1120000,1121000,1122000,1123000,1124000,1125000,1126000,1127000,1128000,1129000,1130000,1131000,1132000,1133000,1134000,1135000,1136000,1137000,1138000,1139000,1140000,1141000,1142000,1143000,1144000,1145000,1146000,1147000,1148000,1149000,1150000,1151000,1152000,1153000,1154000,1155000,1156000,1157000,1158000,1159000,1160000,1161000,1162000,1163000,1164000,1165000,1166000,1167000,1168000,1169000,1170000,1171000,1172000,1173000,1174000,1175000,1176000,1177000,1178000,1179000,1180000,1181000,1182000,1183000,1184000,1185000,1186000,1187000,1188000,1189000,1190000,1191000,1192000,1193000,1194000,1195000,1196000,1197000,1198000,1199000,1200000,1201000,1202000,1203000,1204000,1205000,1206000,1207000,1208000,1209000],\"mode\":\"lines\"}], {\"yaxis\":{\"type\":\"-\",\"titlefont\":{\"size\":15,\"color\":\"rgba(0, 0, 0, 1.000)\",\"family\":\"sans-serif\"},\"title\":\"\",\"tickfont\":{\"size\":11,\"color\":\"rgba(0, 0, 0, 1.000)\",\"family\":\"sans-serif\"},\"ticks\":\"inside\",\"tickmode\":\"array\",\"showgrid\":true,\"tickvals\":[5.0,10.0,15.0],\"domain\":[0.03762029746281716,0.9901574803149606],\"ticktext\":[\"5\",\"10\",\"15\"],\"tickangle\":0,\"zeroline\":false,\"linecolor\":\"rgba(0, 0, 0, 1.000)\",\"tickcolor\":\"rgba(0, 0, 0, 1.000)\",\"anchor\":\"x\"},\"annotations\":[],\"width\":600,\"plot_bgcolor\":\"rgba(255, 255, 255, 1.000)\",\"showlegend\":true,\"legend\":{\"bgcolor\":\"rgba(255, 255, 255, 1.000)\",\"y\":1.0,\"font\":{\"size\":11,\"color\":\"rgba(0, 0, 0, 1.000)\",\"family\":\"sans-serif\"},\"bordercolor\":\"rgba(0, 0, 0, 1.000)\",\"x\":1.0},\"xaxis\":{\"type\":\"-\",\"titlefont\":{\"size\":15,\"color\":\"rgba(0, 0, 0, 1.000)\",\"family\":\"sans-serif\"},\"title\":\"\",\"tickfont\":{\"size\":11,\"color\":\"rgba(0, 0, 0, 1.000)\",\"family\":\"sans-serif\"},\"ticks\":\"inside\",\"tickmode\":\"array\",\"showgrid\":true,\"tickvals\":[0.0,250000.0,500000.0,750000.0,1.0e6],\"domain\":[0.03619130941965587,0.9934383202099738],\"ticktext\":[\"0\",\"250000\",\"500000\",\"750000\",\"1000000\"],\"tickangle\":0,\"zeroline\":false,\"linecolor\":\"rgba(0, 0, 0, 1.000)\",\"tickcolor\":\"rgba(0, 0, 0, 1.000)\",\"anchor\":\"y\"},\"paper_bgcolor\":\"rgba(255, 255, 255, 1.000)\",\"height\":400,\"margin\":{\"r\":0,\"l\":0,\"b\":20,\"t\":20}});\n",
       "    </script>\n"
      ]
     },
     "execution_count": 23,
     "metadata": {},
     "output_type": "execute_result"
    }
   ],
   "source": [
    "USDWEI = 1e18 / 200\n",
    "DIVISOR = 1000\n",
    "println(\"wei per indivisible token part\")\n",
    "Plots.plot(t->(USDWEI * 18432000 / (t + 5760) - USDWEI * 5) / DIVISOR *1000*1e-18, 0:10000:12096000)"
   ]
  },
  {
   "cell_type": "code",
   "execution_count": 2,
   "metadata": {
    "collapsed": false
   },
   "outputs": [],
   "source": [
    "using Plots"
   ]
  },
  {
   "cell_type": "code",
   "execution_count": null,
   "metadata": {
    "collapsed": true
   },
   "outputs": [],
   "source": [
    "USDWEI * 18432000 / ((t + 5760)/ DIVISOR - USDWEI * 5/ DIVISOR)"
   ]
  },
  {
   "cell_type": "code",
   "execution_count": 9,
   "metadata": {
    "collapsed": false
   },
   "outputs": [
    {
     "data": {
      "text/plain": [
       "current_price (generic function with 1 method)"
      ]
     },
     "execution_count": 9,
     "metadata": {},
     "output_type": "execute_result"
    }
   ],
   "source": [
    "USDPERETH = 300\n",
    "USDWEI = 1e18 / USDPERETH\n",
    "DIVISOR = 1000\n",
    "ETHPERWEI = 1e-18\n",
    "GAVPERDOT = 1000\n",
    "DOTSOLD = 5000000\n",
    "current_price(t) = (USDWEI * 18432000 / (t + 5760) - USDWEI * 5) / DIVISOR *GAVPERDOT*ETHPERWEI * USDPERETH * DOTSOLD"
   ]
  },
  {
   "cell_type": "code",
   "execution_count": null,
   "metadata": {
    "collapsed": false
   },
   "outputs": [],
   "source": [
    "plot(current_price, 0, 3600*24*14)\n",
    "plot!(80000000)"
   ]
  },
  {
   "cell_type": "code",
   "execution_count": null,
   "metadata": {
    "collapsed": true
   },
   "outputs": [],
   "source": [
    "function currentPrice() constant returns (uint weiPerIndivisibleTokenPart) {\n",
    "\t\tif (!isActive()) return 0;\n",
    "\t\treturn (USDWEI * 18432000 / (now - beginTime + 5760) - USDWEI * 5) / DIVISOR;\n",
    "\t}"
   ]
  },
  {
   "cell_type": "code",
   "execution_count": 6,
   "metadata": {
    "collapsed": false
   },
   "outputs": [
    {
     "data": {
      "text/plain": [
       "15.975000000000001"
      ]
     },
     "execution_count": 6,
     "metadata": {},
     "output_type": "execute_result"
    }
   ],
   "source": [
    "current_price(0)"
   ]
  },
  {
   "cell_type": "code",
   "execution_count": null,
   "metadata": {
    "collapsed": true
   },
   "outputs": [],
   "source": [
    "plot"
   ]
  }
 ],
 "metadata": {
  "anaconda-cloud": {},
  "kernelspec": {
   "display_name": "Julia 0.6.0",
   "language": "julia",
   "name": "julia-0.6"
  },
  "language_info": {
   "file_extension": ".jl",
   "mimetype": "application/julia",
   "name": "julia",
   "version": "0.6.0"
  }
 },
 "nbformat": 4,
 "nbformat_minor": 1
}
