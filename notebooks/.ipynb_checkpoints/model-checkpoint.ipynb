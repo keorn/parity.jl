{
 "cells": [
  {
   "cell_type": "code",
   "execution_count": 1,
   "metadata": {
    "collapsed": false
   },
   "outputs": [
    {
     "data": {
      "text/plain": [
       "getauthors! (generic function with 1 method)"
      ]
     },
     "execution_count": 1,
     "metadata": {},
     "output_type": "execute_result"
    }
   ],
   "source": [
    "using Plots,Turing, Distributions\n",
    "include(\"../rpc.jl\")"
   ]
  },
  {
   "cell_type": "code",
   "execution_count": 2,
   "metadata": {
    "collapsed": false
   },
   "outputs": [
    {
     "data": {
      "text/plain": [
       "Base.PipeEndpoint(open, 0 bytes waiting)"
      ]
     },
     "execution_count": 2,
     "metadata": {},
     "output_type": "execute_result"
    }
   ],
   "source": [
    "ipc = connect(\"/home/keorn/.local/share/io.parity.ethereum/jsonrpc.ipc\")"
   ]
  },
  {
   "cell_type": "code",
   "execution_count": 3,
   "metadata": {
    "collapsed": false
   },
   "outputs": [],
   "source": [
    "blocks = latestblocks(ipc, 1000);"
   ]
  },
  {
   "cell_type": "code",
   "execution_count": 4,
   "metadata": {
    "collapsed": false
   },
   "outputs": [
    {
     "data": {
      "text/plain": [
       "newdifficulty (generic function with 1 method)"
      ]
     },
     "execution_count": 4,
     "metadata": {},
     "output_type": "execute_result"
    }
   ],
   "source": [
    "NH = 1150000\n",
    "D0 = 131072\n",
    "function newdifficulty(parent, number, timediff)\n",
    "    x = floor(parent[\"difficulty\"]/2048)\n",
    "    ϵ = floor(2^(floor(number/100000) - 2))\n",
    "    ζ = if number < NH\n",
    "         timediff < 13 ? 1 : -1\n",
    "        else\n",
    "         max(1 - floor((timediff)/10), -99)\n",
    "    end\n",
    "    max(D0, parent[\"difficulty\"] + x* ζ + ϵ)\n",
    "end"
   ]
  },
  {
   "cell_type": "code",
   "execution_count": 5,
   "metadata": {
    "collapsed": false
   },
   "outputs": [
    {
     "data": {
      "text/plain": [
       "newgaslimit (generic function with 1 method)"
      ]
     },
     "execution_count": 5,
     "metadata": {},
     "output_type": "execute_result"
    }
   ],
   "source": [
    "function newgaslimit(parentgaslimit)\n",
    "    maxchange = floor(parentgaslimit / 1024)\n",
    "    DiscreteUniform(max(125000, parentgaslimit - maxchange), parentgaslimit + maxchange)\n",
    "end"
   ]
  },
  {
   "cell_type": "code",
   "execution_count": 6,
   "metadata": {
    "collapsed": true
   },
   "outputs": [],
   "source": [
    "abstract StringDistribution <: DiscreteUnivariateDistribution"
   ]
  },
  {
   "cell_type": "code",
   "execution_count": 7,
   "metadata": {
    "collapsed": false
   },
   "outputs": [],
   "source": [
    "immutable HashString <: StringDistribution\n",
    "    bit::UInt\n",
    "end"
   ]
  },
  {
   "cell_type": "code",
   "execution_count": 8,
   "metadata": {
    "collapsed": false
   },
   "outputs": [],
   "source": [
    "Distributions.rand(d::HashString) = string([hex(rand(0x0:0xF)) for _ in 1:div(d.bit, 4)]...)\n",
    "function Distributions.logpdf(d::HashString, x::String)\n",
    "    if ismatch(r\"^[0-9,a-f]+$\", x) && length(x) * 4 == d.bit\n",
    "        -Int(d.bit)*log(2)\n",
    "    else\n",
    "        -Inf\n",
    "    end\n",
    "end"
   ]
  },
  {
   "cell_type": "code",
   "execution_count": 9,
   "metadata": {
    "collapsed": true
   },
   "outputs": [],
   "source": [
    "Distributions.rand(d::HashString, n::Int) = Vector([rand(d) for _ in 1:n])\n",
    "Distributions.logpdf(d::HashString, xs::Vector{String}) = sum(logpdf(d, x) for x in xs)"
   ]
  },
  {
   "cell_type": "code",
   "execution_count": 10,
   "metadata": {
    "collapsed": false
   },
   "outputs": [],
   "source": [
    "immutable VectorDistribution <: DiscreteUnivariateDistribution\n",
    "    inner::Distribution\n",
    "    maxelements::Int\n",
    "end"
   ]
  },
  {
   "cell_type": "code",
   "execution_count": 11,
   "metadata": {
    "collapsed": false
   },
   "outputs": [],
   "source": [
    "Distributions.rand(d::VectorDistribution) = rand(d.inner, rand(0:d.maxelements))\n",
    "function Distributions.logpdf(d::VectorDistribution, v::Vector)\n",
    "    l = length(x)\n",
    "    logpdf(DiscreteUniform(1, d.maxelements), l) + sum(logpdf(d.inner, i) for i in v)\n",
    "end\n",
    "Distributions.rand(d::VectorDistribution, n::Int) = Vector([rand(d) for _ in 1:n])\n",
    "Distributions.logpdf(d::VectorDistribution, xs::Vector{Vector}) = sum(logpdf(d, x) for x in xs)"
   ]
  },
  {
   "cell_type": "code",
   "execution_count": 12,
   "metadata": {
    "collapsed": false
   },
   "outputs": [],
   "source": [
    "immutable DataString <: StringDistribution\n",
    "    maxbytes::UInt\n",
    "end\n",
    "Distributions.rand(d::DataString) = rand(HashString(rand(8:8*d.maxbytes)))\n",
    "function Distributions.logpdf(d::DataString, x::String)\n",
    "    l = length(x)\n",
    "    logpdf(DiscreteUniform(1, d.maxbytes), div(l, 2)) + logpdf(HashString(l * 4), x)\n",
    "end\n",
    "Distributions.rand(d::DataString, n::Int) = Vector([rand(d) for _ in 1:n])\n",
    "Distributions.logpdf(d::DataString, xs::Vector{String}) = sum(logpdf(d, x) for x in xs)"
   ]
  },
  {
   "cell_type": "code",
   "execution_count": 13,
   "metadata": {
    "collapsed": false
   },
   "outputs": [],
   "source": [
    "Kronecker(a) = DiscreteUniform(a, a)\n",
    "immutable PrefixedString <: StringDistribution\n",
    "    prefix::String\n",
    "    inner::StringDistribution\n",
    "end\n",
    "Distributions.rand(d::PrefixedString) = d.prefix * rand(d.inner)\n",
    "function Distributions.logpdf(d::PrefixedString, x::String)\n",
    "    matches = match(Regex(\"^\" * d.prefix * \"(.*)\\$\"), x)\n",
    "    matches === nothing ? -Inf : logpdf(d.inner, matches.captures[1])\n",
    "end\n",
    "Distributions.rand(d::PrefixedString, n::Int) = Vector([rand(d) for _ in 1:n])\n",
    "Distributions.logpdf(d::PrefixedString, xs::Vector{String}) = sum(logpdf(d, x) for x in xs)"
   ]
  },
  {
   "cell_type": "code",
   "execution_count": 12,
   "metadata": {
    "collapsed": false
   },
   "outputs": [
    {
     "data": {
      "text/plain": [
       "blockdistributions (generic function with 1 method)"
      ]
     },
     "execution_count": 12,
     "metadata": {},
     "output_type": "execute_result"
    }
   ],
   "source": [
    "function blockdistributions(history)\n",
    "    number = history[end][\"number\"] + 1\n",
    "    author = PrefixedString(\"0x\", HashString(160))\n",
    "    timediff = rand(Poisson(14))\n",
    "    difficulty = newdifficulty(history[end], number, timediff)\n",
    "    gaslimit = newgaslimit(history[end][\"gasLimit\"])\n",
    "    gasused = DiscreteUniform(0, rand(gaslimit))\n",
    "    mixhash = HashString(256)\n",
    "    nonce = HashString(64)\n",
    "\n",
    "    Dict(\n",
    "    \"totalDifficulty\" => Kronecker(history[end][\"totalDifficulty\"] + difficulty),\n",
    "    \"extraData\" => PrefixedString(\"0x\", DataString(32)),\n",
    "    \"number\" => Kronecker(number),\n",
    "    \"difficulty\" => Kronecker(difficulty),\n",
    "    \"miner\" => author,\n",
    "    \"logsBloom\" => Kronecker(0),\n",
    "    \"transactionsRoot\" => PrefixedString(\"0x\", HashString(256)),\n",
    "    \"author\" => author,\n",
    "    \"sealFields\" => [PrefixedString(\"0xa0\", mixhash), PrefixedString(\"0x88\", nonce)],\n",
    "    \"sha3Uncles\" => PrefixedString(\"0x\", HashString(256)),\n",
    "    \"parentHash\" => Kronecker(history[end-1][\"hash\"]),\n",
    "    \"gasLimit\" => gaslimit,\n",
    "    \"hash\" => PrefixedString(\"0x\", HashString(256)),\n",
    "    \"size\" => DiscreteUniform(0, 100000),\n",
    "    \"mixHash\" => PrefixedString(\"0x\", mixhash),\n",
    "    \"receiptsRoot\" => PrefixedString(\"0x\", HashString(256)),\n",
    "    \"stateRoot\" => PrefixedString(\"0x\", HashString(256)),\n",
    "    \"gasUsed\" => gasused,\n",
    "    \"transactions\" => VectorDistribution(PrefixedString(\"0x\", HashString(256)), div(rand(gasused), rand(DiscreteUniform(21000, rand(gasused))))),\n",
    "    \"timestamp\" => history[end][\"timestamp\"] + timediff,\n",
    "    \"uncles\" => VectorDistribution(PrefixedString(\"0x\", HashString(256)), 2),\n",
    "    \"nonce\" => PrefixedString(\"0x\", nonce)\n",
    "    )\n",
    "end"
   ]
  },
  {
   "cell_type": "code",
   "execution_count": 28,
   "metadata": {
    "collapsed": false
   },
   "outputs": [
    {
     "ename": "LoadError",
     "evalue": "MethodError: no method matching Distributions.DiscreteUniform(::String, ::String)\u001b[0m\nClosest candidates are:\n  Distributions.DiscreteUniform{T}(::Any) at sysimg.jl:53\u001b[0m",
     "output_type": "error",
     "traceback": [
      "MethodError: no method matching Distributions.DiscreteUniform(::String, ::String)\u001b[0m\nClosest candidates are:\n  Distributions.DiscreteUniform{T}(::Any) at sysimg.jl:53\u001b[0m",
      "",
      " in blockdistributions(::Array{Dict{String,Any},1}) at ./In[27]:11"
     ]
    }
   ],
   "source": [
    "blockdistributions(blocks)"
   ]
  },
  {
   "cell_type": "code",
   "execution_count": 14,
   "metadata": {
    "collapsed": false
   },
   "outputs": [
    {
     "data": {
      "text/plain": [
       "block (generic function with 2 methods)"
      ]
     },
     "execution_count": 14,
     "metadata": {},
     "output_type": "execute_result"
    }
   ],
   "source": [
    "@model block(history) = begin\n",
    "    number = history[end][\"number\"] + 1\n",
    "    author ~ PrefixedString(\"0x\", HashString(160))\n",
    "    timediff ~ Poisson(14)\n",
    "    difficulty = newdifficulty(history[end], number, timediff)\n",
    "    gaslimit ~ newgaslimit(history[end][\"gasLimit\"])\n",
    "    gasused ~ DiscreteUniform(0, gaslimit)\n",
    "    mixhash ~ HashString(256)\n",
    "    nonce ~ HashString(64)\n",
    "    extradata ~ PrefixedString(\"0x\", DataString(32))\n",
    "    transactionsroot ~ PrefixedString(\"0x\", HashString(256))\n",
    "    sha3uncles ~ PrefixedString(\"0x\", HashString(256))\n",
    "    hash ~ PrefixedString(\"0x\", HashString(256))\n",
    "    size ~ DiscreteUniform(0, 100000)\n",
    "    receiptsroot ~ PrefixedString(\"0x\", HashString(256))\n",
    "    stateroot ~ PrefixedString(\"0x\", HashString(256))\n",
    "    averagetxgas ~ DiscreteUniform(21000, max(21000, gasused))\n",
    "    transactions ~ VectorDistribution(PrefixedString(\"0x\", HashString(256)), div(gasused, averagetxgas))\n",
    "    uncles ~ VectorDistribution(PrefixedString(\"0x\", HashString(256)), 2)\n",
    "\n",
    "    Dict(\n",
    "    \"totalDifficulty\" => history[end][\"totalDifficulty\"] + difficulty,\n",
    "    \"extraData\" => extradata,\n",
    "    \"number\" => number,\n",
    "    \"difficulty\" => difficulty,\n",
    "    \"miner\" => author,\n",
    "    \"logsBloom\" => 0,\n",
    "    \"transactionsRoot\" => transactionsroot,\n",
    "    \"author\" => author,\n",
    "    \"sealFields\" => [string(\"0xa0\", mixhash), string(\"0x88\", nonce)],\n",
    "    \"sha3Uncles\" => sha3uncles,\n",
    "    \"parentHash\" => history[end-1][\"hash\"],\n",
    "    \"gasLimit\" => gaslimit,\n",
    "    \"hash\" => hash,\n",
    "    \"size\" => size,\n",
    "    \"mixHash\" => string(\"0x\", mixhash),\n",
    "    \"receiptsRoot\" => receiptsroot,\n",
    "    \"stateRoot\" => stateroot,\n",
    "    \"gasUsed\" => gasused,\n",
    "    \"transactions\" => transactions,\n",
    "    \"timestamp\" => history[end][\"timestamp\"] + timediff,\n",
    "    \"uncles\" => uncles,\n",
    "    \"nonce\" => string(\"0x\", nonce)\n",
    "    )\n",
    "end"
   ]
  },
  {
   "cell_type": "code",
   "execution_count": 15,
   "metadata": {
    "collapsed": false
   },
   "outputs": [
    {
     "name": "stdout",
     "output_type": "stream",
     "text": [
      "[Turing]: Assume - `author` is a parameter\n",
      "[Turing]: Assume - `timediff` is a parameter\n",
      "[Turing]: Assume - `gaslimit` is a parameter\n",
      "[Turing]: Assume - `gasused` is a parameter\n",
      "[Turing]: Assume - `mixhash` is a parameter\n",
      "[Turing]: Assume - `nonce` is a parameter\n",
      "[Turing]: Assume - `extradata` is a parameter\n",
      "[Turing]: Assume - `transactionsroot` is a parameter\n",
      "[Turing]: Assume - `sha3uncles` is a parameter\n",
      "[Turing]: Assume - `hash` is a parameter (ignoring `hash` found in global scope)\n",
      "[Turing]: Assume - `size` is a parameter (ignoring `size` found in global scope)\n",
      "[Turing]: Assume - `receiptsroot` is a parameter\n",
      "[Turing]: Assume - `stateroot` is a parameter\n",
      "[Turing]: Assume - `averagetxgas` is a parameter\n",
      "[Turing]: Assume - `transactions` is a parameter\n",
      "[Turing]: Assume - `uncles` is a parameter\n"
     ]
    },
    {
     "ename": "LoadError",
     "evalue": "DimensionMismatch(\"new dimensions (10,17,1) must be consistent with array size 160\")",
     "output_type": "error",
     "traceback": [
      "DimensionMismatch(\"new dimensions (10,17,1) must be consistent with array size 160\")",
      "",
      " in reshape(::Array{Float64,2}, ::Tuple{Int64,Int64,Int64}) at ./array.jl:113",
      " in reshape(::Array{Float64,2}, ::Int64, ::Int64, ::Vararg{Int64,N}) at ./reshapedarray.jl:39",
      " in flatten!(::Turing.Chain) at /home/keorn/.julia/v0.5/Turing/src/core/io.jl:139",
      " in Turing.Chain(::Float64, ::Array{Turing.Sample,1}) at /home/keorn/.julia/v0.5/Turing/src/core/io.jl:124",
      " in sample(::Function, ::Turing.SMC) at /home/keorn/.julia/v0.5/Turing/src/samplers/smc.jl:48"
     ]
    }
   ],
   "source": [
    "c1 = sample(block(blocks), SMC(10))"
   ]
  },
  {
   "cell_type": "code",
   "execution_count": 22,
   "metadata": {
    "collapsed": false
   },
   "outputs": [
    {
     "data": {
      "text/plain": [
       "2"
      ]
     },
     "execution_count": 22,
     "metadata": {},
     "output_type": "execute_result"
    }
   ],
   "source": [
    "[1, 2][length([1, 2])]"
   ]
  },
  {
   "cell_type": "code",
   "execution_count": 20,
   "metadata": {
    "collapsed": false
   },
   "outputs": [
    {
     "data": {
      "text/plain": [
       "Object of type \"Turing.Chain\"\n",
       "\n",
       "Iterations = 1:10\n",
       "Thinning interval = 1\n",
       "Chains = 1\n",
       "Samples per chain = 10\n",
       "\n",
       "[0.0 6.79645e18 0.0; 0.0 6.33299e18 0.0; … ; 0.0 1.47219e18 0.0; 0.0 3.83103e18 0.0]"
      ]
     },
     "execution_count": 20,
     "metadata": {},
     "output_type": "execute_result"
    }
   ],
   "source": [
    "c1"
   ]
  },
  {
   "cell_type": "code",
   "execution_count": 17,
   "metadata": {
    "collapsed": false
   },
   "outputs": [
    {
     "data": {
      "text/plain": [
       "\"ab\""
      ]
     },
     "execution_count": 17,
     "metadata": {},
     "output_type": "execute_result"
    }
   ],
   "source": [
    "\"a\" * \"b\""
   ]
  },
  {
   "cell_type": "code",
   "execution_count": 23,
   "metadata": {
    "collapsed": false
   },
   "outputs": [
    {
     "data": {
      "text/html": [
       "<script src=\"/home/keorn/.julia/v0.5/Plots/src/backends/../../deps/plotly-latest.min.js\"></script>    <div id=\"85c5bae5-0523-4275-a10a-4bc6a5b92cd8\" style=\"width:600px;height:400px;\"></div>\n",
       "    <script>\n",
       "    PLOT = document.getElementById('85c5bae5-0523-4275-a10a-4bc6a5b92cd8');\n",
       "    Plotly.plot(PLOT, [{\"yaxis\":\"y\",\"y\":[228.0,217.0,178.0,114.0,95.0,56.0,38.0,30.0,13.0,13.0,6.0,2.0,3.0,3.0,1.0,0.0,1.0,1.0],\"showlegend\":true,\"name\":\"y1\",\"type\":\"bar\",\"xaxis\":\"x\",\"orientation\":\"v\",\"colorbar\":{\"title\":\"\"},\"x\":[2.5,7.5,12.5,17.5,22.5,27.5,32.5,37.5,42.5,47.5,52.5,57.5,62.5,67.5,72.5,77.5,82.5,87.5],\"marker\":{\"color\":\"rgba(0, 154, 250, 1.000)\"}}], {\"yaxis\":{\"type\":\"-\",\"titlefont\":{\"size\":15,\"color\":\"rgba(0, 0, 0, 1.000)\",\"family\":\"sans-serif\"},\"title\":\"\",\"tickfont\":{\"size\":11,\"color\":\"rgba(0, 0, 0, 1.000)\",\"family\":\"sans-serif\"},\"ticks\":\"inside\",\"tickmode\":\"array\",\"showgrid\":true,\"tickvals\":[0.0,50.0,100.0,150.0,200.0],\"domain\":[0.03762029746281716,0.9901574803149606],\"ticktext\":[\"0\",\"50\",\"100\",\"150\",\"200\"],\"tickangle\":0,\"zeroline\":false,\"linecolor\":\"rgba(0, 0, 0, 1.000)\",\"tickcolor\":\"rgba(0, 0, 0, 1.000)\",\"anchor\":\"x\"},\"annotations\":[],\"width\":600,\"plot_bgcolor\":\"rgba(255, 255, 255, 1.000)\",\"showlegend\":true,\"legend\":{\"bgcolor\":\"rgba(255, 255, 255, 1.000)\",\"y\":1.0,\"font\":{\"size\":11,\"color\":\"rgba(0, 0, 0, 1.000)\",\"family\":\"sans-serif\"},\"bordercolor\":\"rgba(0, 0, 0, 1.000)\",\"x\":1.0},\"xaxis\":{\"type\":\"-\",\"titlefont\":{\"size\":15,\"color\":\"rgba(0, 0, 0, 1.000)\",\"family\":\"sans-serif\"},\"title\":\"\",\"tickfont\":{\"size\":11,\"color\":\"rgba(0, 0, 0, 1.000)\",\"family\":\"sans-serif\"},\"ticks\":\"inside\",\"tickmode\":\"array\",\"showgrid\":true,\"tickvals\":[0.0,25.0,50.0,75.0],\"domain\":[0.05100612423447069,0.9934383202099737],\"ticktext\":[\"0\",\"25\",\"50\",\"75\"],\"tickangle\":0,\"zeroline\":false,\"linecolor\":\"rgba(0, 0, 0, 1.000)\",\"tickcolor\":\"rgba(0, 0, 0, 1.000)\",\"anchor\":\"y\"},\"paper_bgcolor\":\"rgba(255, 255, 255, 1.000)\",\"height\":400,\"margin\":{\"r\":0,\"l\":0,\"b\":20,\"t\":20}});\n",
       "    </script>\n"
      ]
     },
     "execution_count": 23,
     "metadata": {},
     "output_type": "execute_result"
    }
   ],
   "source": [
    "timestamps = [b[\"timestamp\"] for b in blocks]\n",
    "times = [times[i]-times[i-1] for i in 2:length(times)]\n",
    "histogram(times)"
   ]
  },
  {
   "cell_type": "code",
   "execution_count": 27,
   "metadata": {
    "collapsed": false
   },
   "outputs": [
    {
     "data": {
      "text/html": [
       "<script src=\"/home/keorn/.julia/v0.5/Plots/src/backends/../../deps/plotly-latest.min.js\"></script>    <div id=\"9b6acaca-a6d7-4dc1-aae0-27dbf0be5444\" style=\"width:600px;height:400px;\"></div>\n",
       "    <script>\n",
       "    PLOT = document.getElementById('9b6acaca-a6d7-4dc1-aae0-27dbf0be5444');\n",
       "    Plotly.plot(PLOT, [{\"yaxis\":\"y\",\"y\":[4.0,6.0,21.0,29.0,44.0,68.0,65.0,97.0,122.0,113.0,90.0,74.0,80.0,49.0,39.0,37.0,28.0,14.0,8.0,5.0,3.0,1.0,1.0,1.0],\"showlegend\":true,\"name\":\"y1\",\"type\":\"bar\",\"xaxis\":\"x\",\"orientation\":\"v\",\"colorbar\":{\"title\":\"\"},\"x\":[5.5,6.5,7.5,8.5,9.5,10.5,11.5,12.5,13.5,14.5,15.5,16.5,17.5,18.5,19.5,20.5,21.5,22.5,23.5,24.5,25.5,26.5,27.5,28.5],\"marker\":{\"color\":\"rgba(0, 154, 250, 1.000)\"}}], {\"yaxis\":{\"type\":\"-\",\"titlefont\":{\"size\":15,\"color\":\"rgba(0, 0, 0, 1.000)\",\"family\":\"sans-serif\"},\"title\":\"\",\"tickfont\":{\"size\":11,\"color\":\"rgba(0, 0, 0, 1.000)\",\"family\":\"sans-serif\"},\"ticks\":\"inside\",\"tickmode\":\"array\",\"showgrid\":true,\"tickvals\":[0.0,25.0,50.0,75.0,100.0],\"domain\":[0.03762029746281716,0.9901574803149606],\"ticktext\":[\"0\",\"25\",\"50\",\"75\",\"100\"],\"tickangle\":0,\"zeroline\":false,\"linecolor\":\"rgba(0, 0, 0, 1.000)\",\"tickcolor\":\"rgba(0, 0, 0, 1.000)\",\"anchor\":\"x\"},\"annotations\":[],\"width\":600,\"plot_bgcolor\":\"rgba(255, 255, 255, 1.000)\",\"showlegend\":true,\"legend\":{\"bgcolor\":\"rgba(255, 255, 255, 1.000)\",\"y\":1.0,\"font\":{\"size\":11,\"color\":\"rgba(0, 0, 0, 1.000)\",\"family\":\"sans-serif\"},\"bordercolor\":\"rgba(0, 0, 0, 1.000)\",\"x\":1.0},\"xaxis\":{\"type\":\"-\",\"titlefont\":{\"size\":15,\"color\":\"rgba(0, 0, 0, 1.000)\",\"family\":\"sans-serif\"},\"title\":\"\",\"tickfont\":{\"size\":11,\"color\":\"rgba(0, 0, 0, 1.000)\",\"family\":\"sans-serif\"},\"ticks\":\"inside\",\"tickmode\":\"array\",\"showgrid\":true,\"tickvals\":[10.0,20.0],\"domain\":[0.05100612423447069,0.9934383202099737],\"ticktext\":[\"10\",\"20\"],\"tickangle\":0,\"zeroline\":false,\"linecolor\":\"rgba(0, 0, 0, 1.000)\",\"tickcolor\":\"rgba(0, 0, 0, 1.000)\",\"anchor\":\"y\"},\"paper_bgcolor\":\"rgba(255, 255, 255, 1.000)\",\"height\":400,\"margin\":{\"r\":0,\"l\":0,\"b\":20,\"t\":20}});\n",
       "    </script>\n"
      ]
     },
     "execution_count": 27,
     "metadata": {},
     "output_type": "execute_result"
    }
   ],
   "source": [
    "histogram([rand(Poisson(14)) for _ in 1:999])"
   ]
  },
  {
   "cell_type": "code",
   "execution_count": 84,
   "metadata": {
    "collapsed": false
   },
   "outputs": [
    {
     "data": {
      "text/plain": [
       "1000-element Array{Int64,1}:\n",
       "  544\n",
       "  549\n",
       "  544\n",
       "  547\n",
       "  544\n",
       "  689\n",
       "  544\n",
       "  547\n",
       "  660\n",
       "  547\n",
       "  549\n",
       "  522\n",
       " 1856\n",
       "    ⋮\n",
       "  773\n",
       "  517\n",
       "  544\n",
       " 1085\n",
       "  720\n",
       "  663\n",
       "  549\n",
       "  517\n",
       "  547\n",
       "  517\n",
       "  663\n",
       "  544"
      ]
     },
     "execution_count": 84,
     "metadata": {},
     "output_type": "execute_result"
    }
   ],
   "source": [
    "[b[\"size\"] for b in blocks]"
   ]
  },
  {
   "cell_type": "code",
   "execution_count": 17,
   "metadata": {
    "collapsed": false
   },
   "outputs": [
    {
     "data": {
      "text/html": [
       "<script src=\"/home/keorn/.julia/v0.5/Plots/src/backends/../../deps/plotly-latest.min.js\"></script>    <div id=\"792a642f-9058-420c-97ea-91cabc801f4e\" style=\"width:600px;height:400px;\"></div>\n",
       "    <script>\n",
       "    PLOT = document.getElementById('792a642f-9058-420c-97ea-91cabc801f4e');\n",
       "    Plotly.plot(PLOT, [{\"yaxis\":\"y\",\"y\":[3.0,155.0,0.0,0.0,0.0,0.0,0.0,0.0,0.0,0.0,0.0,0.0,0.0,0.0,0.0,0.0,0.0,0.0,0.0,0.0,0.0,0.0,0.0,0.0,0.0,49.0,141.0,8.0,192.0,0.0,0.0,30.0,0.0,422.0],\"showlegend\":true,\"name\":\"y1\",\"type\":\"bar\",\"xaxis\":\"x\",\"orientation\":\"v\",\"colorbar\":{\"title\":\"\"},\"x\":[1.0,3.0,5.0,7.0,9.0,11.0,13.0,15.0,17.0,19.0,21.0,23.0,25.0,27.0,29.0,31.0,33.0,35.0,37.0,39.0,41.0,43.0,45.0,47.0,49.0,51.0,53.0,55.0,57.0,59.0,61.0,63.0,65.0,67.0],\"marker\":{\"color\":\"rgba(0, 154, 250, 1.000)\"}}], {\"yaxis\":{\"type\":\"-\",\"titlefont\":{\"size\":15,\"color\":\"rgba(0, 0, 0, 1.000)\",\"family\":\"sans-serif\"},\"title\":\"\",\"tickfont\":{\"size\":11,\"color\":\"rgba(0, 0, 0, 1.000)\",\"family\":\"sans-serif\"},\"ticks\":\"inside\",\"tickmode\":\"array\",\"showgrid\":true,\"tickvals\":[0.0,100.0,200.0,300.0,400.0],\"domain\":[0.03762029746281716,0.9901574803149606],\"ticktext\":[\"0\",\"100\",\"200\",\"300\",\"400\"],\"tickangle\":0,\"zeroline\":false,\"linecolor\":\"rgba(0, 0, 0, 1.000)\",\"tickcolor\":\"rgba(0, 0, 0, 1.000)\",\"anchor\":\"x\"},\"annotations\":[],\"width\":600,\"plot_bgcolor\":\"rgba(255, 255, 255, 1.000)\",\"showlegend\":true,\"legend\":{\"bgcolor\":\"rgba(255, 255, 255, 1.000)\",\"y\":1.0,\"font\":{\"size\":11,\"color\":\"rgba(0, 0, 0, 1.000)\",\"family\":\"sans-serif\"},\"bordercolor\":\"rgba(0, 0, 0, 1.000)\",\"x\":1.0},\"xaxis\":{\"type\":\"-\",\"titlefont\":{\"size\":15,\"color\":\"rgba(0, 0, 0, 1.000)\",\"family\":\"sans-serif\"},\"title\":\"\",\"tickfont\":{\"size\":11,\"color\":\"rgba(0, 0, 0, 1.000)\",\"family\":\"sans-serif\"},\"ticks\":\"inside\",\"tickmode\":\"array\",\"showgrid\":true,\"tickvals\":[0.0,20.0,40.0,60.0],\"domain\":[0.05100612423447069,0.9934383202099737],\"ticktext\":[\"0\",\"20\",\"40\",\"60\"],\"tickangle\":0,\"zeroline\":false,\"linecolor\":\"rgba(0, 0, 0, 1.000)\",\"tickcolor\":\"rgba(0, 0, 0, 1.000)\",\"anchor\":\"y\"},\"paper_bgcolor\":\"rgba(255, 255, 255, 1.000)\",\"height\":400,\"margin\":{\"r\":0,\"l\":0,\"b\":20,\"t\":20}});\n",
       "    </script>\n"
      ]
     },
     "execution_count": 17,
     "metadata": {},
     "output_type": "execute_result"
    }
   ],
   "source": [
    "histogram([length(b[\"extraData\"]) for b in blocks])"
   ]
  },
  {
   "cell_type": "code",
   "execution_count": null,
   "metadata": {
    "collapsed": true
   },
   "outputs": [],
   "source": []
  }
 ],
 "metadata": {
  "kernelspec": {
   "display_name": "Julia 0.5.2",
   "language": "julia",
   "name": "julia-0.5"
  },
  "language_info": {
   "file_extension": ".jl",
   "mimetype": "application/julia",
   "name": "julia",
   "version": "0.5.2"
  }
 },
 "nbformat": 4,
 "nbformat_minor": 1
}
