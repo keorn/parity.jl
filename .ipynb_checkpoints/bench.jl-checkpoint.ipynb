{
 "cells": [
  {
   "cell_type": "code",
   "execution_count": 1,
   "metadata": {
    "collapsed": false
   },
   "outputs": [
    {
     "data": {
      "text/plain": [
       "getauthors! (generic function with 1 method)"
      ]
     },
     "execution_count": 1,
     "metadata": {},
     "output_type": "execute_result"
    }
   ],
   "source": [
    "using Gadfly, StatsBase\n",
    "include(\"rpc.jl\")"
   ]
  },
  {
   "cell_type": "code",
   "execution_count": 3,
   "metadata": {
    "collapsed": false
   },
   "outputs": [
    {
     "data": {
      "text/plain": [
       "Base.PipeEndpoint(open, 0 bytes waiting)"
      ]
     },
     "execution_count": 3,
     "metadata": {},
     "output_type": "execute_result"
    }
   ],
   "source": [
    "ipc = connect(\"/home/keorn/.local/share/io.parity.ethereum/jsonrpc.ipc\")"
   ]
  },
  {
   "cell_type": "code",
   "execution_count": null,
   "metadata": {
    "collapsed": true
   },
   "outputs": [],
   "source": [
    "knickers immunity repressed zips imagines rice unbounded jacket backed backhand hangnail observing"
   ]
  },
  {
   "cell_type": "code",
   "execution_count": 6,
   "metadata": {
    "collapsed": false
   },
   "outputs": [],
   "source": [
    "hashes = []\n",
    "for _ in 1:500\n",
    "    push!(hashes, rpc(ipc, \"personal_sendTransaction\",\n",
    "    Dict(\"from\" => \"0x0092bebe0ea0a47cCca053773564d92622FeDDC2\", \"to\" => \"0x00f8B07260aD14B97E5a015e0fFa451260dE13D1\", \"value\" => \"0x1\"),\n",
    "    \"wielkanoc\"))\n",
    "end"
   ]
  },
  {
   "cell_type": "code",
   "execution_count": 7,
   "metadata": {
    "collapsed": false
   },
   "outputs": [
    {
     "data": {
      "text/plain": [
       "500-element Array{Any,1}:\n",
       " \"0xd74c593070521a790bb0b06e80eeb2e3a85fec49c5a26591d349a5e2c6ffeaed\"\n",
       " \"0x55a15d53491221cf264fd4fedb74df456b0414d0cbaa07d5f44ab855a93261ba\"\n",
       " \"0x34868a69ae8c057cf85480d1cef498b003c91bf418fea504834a4520c4a76f7c\"\n",
       " \"0x65e7403868bd81b75331ff63252dedd11e88131ac331e575f0fa98ea23d99049\"\n",
       " \"0xc59a2707bb7f104a7abb8aada3d4ee0b872492f776d312ece2e70fe054b82f52\"\n",
       " \"0x1c20782991b59e0dd2c2ec454b85d15127846bb419e3ede98373031bb349bd2f\"\n",
       " \"0xa66b4c7f9d5367aaa06758884415028c15ac15207449701a68a44675a7fbdfc1\"\n",
       " \"0x991418a51d285b96743a2d1c523192c94e2b43a119286af6706e08ba4ef3b4d8\"\n",
       " \"0x2aacc4d5311bd71444c9657b071c2f8cd6f938023bde9ec250507d06c5273958\"\n",
       " \"0x1848624ec023129963da8cb6992a3351bf56e9e6332760b1c6cc26cce9273551\"\n",
       " \"0x786fceb5f5101bd11a5b3abd11175a770e98fe7b608f78bec939e1c7d6354e23\"\n",
       " \"0x61e058a23a23c989e150b535fd81d4a3347ecb1a925cafa208bb562db9bb83aa\"\n",
       " \"0x17709fdd2f83037b9cd689873232694ca65a795306739e3a16ffc22017c97ec9\"\n",
       " ⋮                                                                   \n",
       " \"0x3bf766281d0b89375989033d41a0e3acde3d437bd2b7aa7f901a09fd0f7ef0b7\"\n",
       " \"0xca6027edee5580740e393e61e00b8bb2d70310b7dd13094cb9ea4f8a9ed7f5fb\"\n",
       " \"0xc2aa87bcb5c2fa4b8624aabf76c5b69c1399a5975cb94983f6a94b4761d9ff70\"\n",
       " \"0x9c596b6df7db9372007e869c229086b7611c66f89b6f1ccc3ad9aa8d9e9c2f09\"\n",
       " \"0x4f40efc2be9ac10dec8f0a46a0e21a2c3f62edb8ce92d3129b0bc28ae7b41867\"\n",
       " \"0x5d32cc0a41d2a8a62e0d03c859f0996bce4cfbb94d45ae3000104cf340e73905\"\n",
       " \"0xee2eed2ccab851921234b2ee6e0697ce6adfbf62963f86c852fbc01951b771bd\"\n",
       " \"0xbdf5959fcbc60332d3cbaaf2f3a93c42986fb4c53e0e5487b3c734ccfd24dfc3\"\n",
       " \"0x8d5a1b74c6aa92be4638fb3a9f2c410de90e2ad5beea1f86d58487b26b3ecc9b\"\n",
       " \"0x4e2c4e322e884d482383044415c1460555e6c2d571cf2d122982feefe4f46f17\"\n",
       " \"0x8fb3c6327ac7c18ccb4c32b7dee0397ca3eab3bedcfff0ea06dfcc7ee868da19\"\n",
       " \"0x1bd1ac553062357897f501df6bf0e69fa4e3cfc64cd94225aacba33f313b6792\""
      ]
     },
     "execution_count": 7,
     "metadata": {},
     "output_type": "execute_result"
    }
   ],
   "source": [
    "hashes"
   ]
  },
  {
   "cell_type": "code",
   "execution_count": 23,
   "metadata": {
    "collapsed": false
   },
   "outputs": [
    {
     "data": {
      "text/plain": [
       "100-element Array{Dict{String,Any},1}:\n",
       " Dict{String,Any}(Pair{String,Any}(\"gasPrice\",10190846054),Pair{String,Any}(\"networkId\",Empty),Pair{String,Any}(\"r\",\"0xf989d8be2e07442ce8d3a97ac5bcfca4bd148782395360351879f93d039b729\"),Pair{String,Any}(\"blockNumber\",1),Pair{String,Any}(\"standardV\",0),Pair{String,Any}(\"value\",1048576),Pair{String,Any}(\"gas\",940000),Pair{String,Any}(\"s\",\"0x74362dad8dcfc3dae1885dcd3abaaa609742e96826bd741dfa99822cbcce1e52\"),Pair{String,Any}(\"v\",27),Pair{String,Any}(\"publicKey\",\"0x3fa8c08c65a83f6b4ea3e04e1cc70cbe3cd391499e3e05ab7dedf28aff9afc538200ff93e3f2b2cb5029f03c7ebee820d63a4c5a9541c83acebe293f54cacf0e\")…)   \n",
       " Dict{String,Any}(Pair{String,Any}(\"gasPrice\",10190846054),Pair{String,Any}(\"networkId\",Empty),Pair{String,Any}(\"r\",\"0xa70fb6900888df9e657588d7e87f8849738e3036bed4609318c32c5300808077\"),Pair{String,Any}(\"blockNumber\",2),Pair{String,Any}(\"standardV\",0),Pair{String,Any}(\"value\",1048576),Pair{String,Any}(\"gas\",940000),Pair{String,Any}(\"s\",\"0x1d1e93af66e2d96ffb4db2b9fec848e3ab773c3ea837529a4c0b0dcbbd16c498\"),Pair{String,Any}(\"v\",27),Pair{String,Any}(\"publicKey\",\"0x3fa8c08c65a83f6b4ea3e04e1cc70cbe3cd391499e3e05ab7dedf28aff9afc538200ff93e3f2b2cb5029f03c7ebee820d63a4c5a9541c83acebe293f54cacf0e\")…)  \n",
       " Dict{String,Any}(Pair{String,Any}(\"gasPrice\",10190846054),Pair{String,Any}(\"networkId\",Empty),Pair{String,Any}(\"r\",\"0xf96a45432e487b6af0abc20f49f31781916e156e9b36b86ff7d2aba618205bb2\"),Pair{String,Any}(\"blockNumber\",3),Pair{String,Any}(\"standardV\",0),Pair{String,Any}(\"value\",1048576),Pair{String,Any}(\"gas\",940000),Pair{String,Any}(\"s\",\"0x588ded58bdd84a7c518d32469333adf94d163cf36f24b9b5ce3dd8e80191a827\"),Pair{String,Any}(\"v\",27),Pair{String,Any}(\"publicKey\",\"0x3fa8c08c65a83f6b4ea3e04e1cc70cbe3cd391499e3e05ab7dedf28aff9afc538200ff93e3f2b2cb5029f03c7ebee820d63a4c5a9541c83acebe293f54cacf0e\")…)  \n",
       " Dict{String,Any}(Pair{String,Any}(\"gasPrice\",10190846054),Pair{String,Any}(\"networkId\",Empty),Pair{String,Any}(\"r\",\"0x24df132dccc623a143731c36bea71426742b0cf6ee58c777604309252dc5b82a\"),Pair{String,Any}(\"blockNumber\",4),Pair{String,Any}(\"standardV\",1),Pair{String,Any}(\"value\",1048576),Pair{String,Any}(\"gas\",940000),Pair{String,Any}(\"s\",\"0x7beb34cafd4648c6f6e8d438e1af7caf5b39dafc4e6bb559e3652e67a6b5d2f6\"),Pair{String,Any}(\"v\",28),Pair{String,Any}(\"publicKey\",\"0x3fa8c08c65a83f6b4ea3e04e1cc70cbe3cd391499e3e05ab7dedf28aff9afc538200ff93e3f2b2cb5029f03c7ebee820d63a4c5a9541c83acebe293f54cacf0e\")…)  \n",
       " Dict{String,Any}(Pair{String,Any}(\"gasPrice\",10190846054),Pair{String,Any}(\"networkId\",Empty),Pair{String,Any}(\"r\",\"0x33e1ec913c5250ff268f908635dcaddcb520ff56cfa45a535403dc20bb7043e1\"),Pair{String,Any}(\"blockNumber\",5),Pair{String,Any}(\"standardV\",1),Pair{String,Any}(\"value\",1048576),Pair{String,Any}(\"gas\",940000),Pair{String,Any}(\"s\",\"0x61359310a532861a3db5eee0afad1aa4aee1539998c03d6f4a38d279359c71c\"),Pair{String,Any}(\"v\",28),Pair{String,Any}(\"publicKey\",\"0x3fa8c08c65a83f6b4ea3e04e1cc70cbe3cd391499e3e05ab7dedf28aff9afc538200ff93e3f2b2cb5029f03c7ebee820d63a4c5a9541c83acebe293f54cacf0e\")…)   \n",
       " Dict{String,Any}(Pair{String,Any}(\"gasPrice\",10190846054),Pair{String,Any}(\"networkId\",Empty),Pair{String,Any}(\"r\",\"0x7055c632cb528689974fc866e1bfa0323a2acf2c8b0612c30c2aa4cc8c32fe86\"),Pair{String,Any}(\"blockNumber\",6),Pair{String,Any}(\"standardV\",1),Pair{String,Any}(\"value\",1048576),Pair{String,Any}(\"gas\",940000),Pair{String,Any}(\"s\",\"0x6e52144ae74675f0ad3101499eb41ae08435b91f1c62625df229e524d2c8585a\"),Pair{String,Any}(\"v\",28),Pair{String,Any}(\"publicKey\",\"0x3fa8c08c65a83f6b4ea3e04e1cc70cbe3cd391499e3e05ab7dedf28aff9afc538200ff93e3f2b2cb5029f03c7ebee820d63a4c5a9541c83acebe293f54cacf0e\")…)  \n",
       " Dict{String,Any}(Pair{String,Any}(\"gasPrice\",10190846054),Pair{String,Any}(\"networkId\",Empty),Pair{String,Any}(\"r\",\"0xec7586c43bef65e1725be923c477e66bc4e4da8d0609e55dbf5e850f022e94d9\"),Pair{String,Any}(\"blockNumber\",7),Pair{String,Any}(\"standardV\",1),Pair{String,Any}(\"value\",1048576),Pair{String,Any}(\"gas\",940000),Pair{String,Any}(\"s\",\"0x95c57d9fb153d7529d9e482c740b9d7009f9ce11efb23561890435c993e13d3\"),Pair{String,Any}(\"v\",28),Pair{String,Any}(\"publicKey\",\"0x3fa8c08c65a83f6b4ea3e04e1cc70cbe3cd391499e3e05ab7dedf28aff9afc538200ff93e3f2b2cb5029f03c7ebee820d63a4c5a9541c83acebe293f54cacf0e\")…)   \n",
       " Dict{String,Any}(Pair{String,Any}(\"gasPrice\",10190846054),Pair{String,Any}(\"networkId\",Empty),Pair{String,Any}(\"r\",\"0xbf264682f8d7f97c8cfefda54d3034d162ca1c5f547ac9781a05e7e1cfc8f042\"),Pair{String,Any}(\"blockNumber\",8),Pair{String,Any}(\"standardV\",0),Pair{String,Any}(\"value\",1048576),Pair{String,Any}(\"gas\",940000),Pair{String,Any}(\"s\",\"0xddb789dd9aaf0240215974bb4d5c33d484e98e6b9a6dbd2bd576e3353481715\"),Pair{String,Any}(\"v\",27),Pair{String,Any}(\"publicKey\",\"0x3fa8c08c65a83f6b4ea3e04e1cc70cbe3cd391499e3e05ab7dedf28aff9afc538200ff93e3f2b2cb5029f03c7ebee820d63a4c5a9541c83acebe293f54cacf0e\")…)   \n",
       " Dict{String,Any}(Pair{String,Any}(\"gasPrice\",10190846054),Pair{String,Any}(\"networkId\",Empty),Pair{String,Any}(\"r\",\"0xb60b51dc4c701fd91c2b5d1a968a5267a710b1fe7798326298fe8a693e95830a\"),Pair{String,Any}(\"blockNumber\",9),Pair{String,Any}(\"standardV\",1),Pair{String,Any}(\"value\",1048576),Pair{String,Any}(\"gas\",940000),Pair{String,Any}(\"s\",\"0x6c3fa67f24ec3e90bc26501dbcee74e35e3e5b06c7d1996bd9c8474f8638bb53\"),Pair{String,Any}(\"v\",28),Pair{String,Any}(\"publicKey\",\"0x3fa8c08c65a83f6b4ea3e04e1cc70cbe3cd391499e3e05ab7dedf28aff9afc538200ff93e3f2b2cb5029f03c7ebee820d63a4c5a9541c83acebe293f54cacf0e\")…)  \n",
       " Dict{String,Any}(Pair{String,Any}(\"gasPrice\",10190846054),Pair{String,Any}(\"networkId\",Empty),Pair{String,Any}(\"r\",\"0xe3e4b96572f59ae286e2925ee32c6fb9abe553e6f5259a2634014f142fef5908\"),Pair{String,Any}(\"blockNumber\",10),Pair{String,Any}(\"standardV\",1),Pair{String,Any}(\"value\",1048576),Pair{String,Any}(\"gas\",940000),Pair{String,Any}(\"s\",\"0x41912ee1a766b21aaa12035aeb94418380390d18b2d3240d5e17a056a49e90fb\"),Pair{String,Any}(\"v\",28),Pair{String,Any}(\"publicKey\",\"0x3fa8c08c65a83f6b4ea3e04e1cc70cbe3cd391499e3e05ab7dedf28aff9afc538200ff93e3f2b2cb5029f03c7ebee820d63a4c5a9541c83acebe293f54cacf0e\")…) \n",
       " Dict{String,Any}(Pair{String,Any}(\"gasPrice\",10190846054),Pair{String,Any}(\"networkId\",Empty),Pair{String,Any}(\"r\",\"0xb1f9a67dbf30cf9d27933631667b622e1dda3e720fa0d841567424215c42ecd\"),Pair{String,Any}(\"blockNumber\",11),Pair{String,Any}(\"standardV\",1),Pair{String,Any}(\"value\",1048576),Pair{String,Any}(\"gas\",940000),Pair{String,Any}(\"s\",\"0x7ed7b9d4d5b97e2c7ce85913e7b5cc55ea4b670298b5d60869c1b48879acd61d\"),Pair{String,Any}(\"v\",28),Pair{String,Any}(\"publicKey\",\"0x3fa8c08c65a83f6b4ea3e04e1cc70cbe3cd391499e3e05ab7dedf28aff9afc538200ff93e3f2b2cb5029f03c7ebee820d63a4c5a9541c83acebe293f54cacf0e\")…)  \n",
       " Dict{String,Any}(Pair{String,Any}(\"gasPrice\",10190846054),Pair{String,Any}(\"networkId\",Empty),Pair{String,Any}(\"r\",\"0x5fbda88a121f6fbada077021dd0525aea4f4d4382ef2d58d88db4c5124d0f997\"),Pair{String,Any}(\"blockNumber\",12),Pair{String,Any}(\"standardV\",0),Pair{String,Any}(\"value\",1048576),Pair{String,Any}(\"gas\",940000),Pair{String,Any}(\"s\",\"0x4c4d44cbe1ad9be908ade915b6f6fa843baebfa6da992da77fe572d7a9c05615\"),Pair{String,Any}(\"v\",27),Pair{String,Any}(\"publicKey\",\"0x3fa8c08c65a83f6b4ea3e04e1cc70cbe3cd391499e3e05ab7dedf28aff9afc538200ff93e3f2b2cb5029f03c7ebee820d63a4c5a9541c83acebe293f54cacf0e\")…) \n",
       " Dict{String,Any}(Pair{String,Any}(\"gasPrice\",10190846054),Pair{String,Any}(\"networkId\",Empty),Pair{String,Any}(\"r\",\"0xe134d940081688465bab0b65771d64bd4861a5adc7889033807eae6980a34d3\"),Pair{String,Any}(\"blockNumber\",13),Pair{String,Any}(\"standardV\",1),Pair{String,Any}(\"value\",1048576),Pair{String,Any}(\"gas\",940000),Pair{String,Any}(\"s\",\"0x21846ef3fd55024ecdba26f787d2b52ba463e8eb346163762776599084570ebb\"),Pair{String,Any}(\"v\",28),Pair{String,Any}(\"publicKey\",\"0x3fa8c08c65a83f6b4ea3e04e1cc70cbe3cd391499e3e05ab7dedf28aff9afc538200ff93e3f2b2cb5029f03c7ebee820d63a4c5a9541c83acebe293f54cacf0e\")…)  \n",
       " ⋮                                                                                                                                                                                                                                                                                                                                                                                                                                                                                                                                                                                                                     \n",
       " Dict{String,Any}(Pair{String,Any}(\"gasPrice\",10190846054),Pair{String,Any}(\"networkId\",Empty),Pair{String,Any}(\"r\",\"0xad65916eed2bf5d2ad9de093f6521b5da7ada41fa6a01e850a7dd4f6f0dd19e5\"),Pair{String,Any}(\"blockNumber\",89),Pair{String,Any}(\"standardV\",1),Pair{String,Any}(\"value\",1048576),Pair{String,Any}(\"gas\",940000),Pair{String,Any}(\"s\",\"0x2343bbd639f2d2f3f7302fc7784b2f0f39b746e5be8c17d11dd72c787342519d\"),Pair{String,Any}(\"v\",28),Pair{String,Any}(\"publicKey\",\"0x3fa8c08c65a83f6b4ea3e04e1cc70cbe3cd391499e3e05ab7dedf28aff9afc538200ff93e3f2b2cb5029f03c7ebee820d63a4c5a9541c83acebe293f54cacf0e\")…) \n",
       " Dict{String,Any}(Pair{String,Any}(\"gasPrice\",10190846054),Pair{String,Any}(\"networkId\",Empty),Pair{String,Any}(\"r\",\"0xdf8f3f7ba34b0085efc53c4eefca72f663d067a46f64750e64b702076cfc1dda\"),Pair{String,Any}(\"blockNumber\",90),Pair{String,Any}(\"standardV\",0),Pair{String,Any}(\"value\",1048576),Pair{String,Any}(\"gas\",940000),Pair{String,Any}(\"s\",\"0x37f6c0066b1228fa2f200c062f961647d92496bf9f0cdddcb4e34a49397efd57\"),Pair{String,Any}(\"v\",27),Pair{String,Any}(\"publicKey\",\"0x3fa8c08c65a83f6b4ea3e04e1cc70cbe3cd391499e3e05ab7dedf28aff9afc538200ff93e3f2b2cb5029f03c7ebee820d63a4c5a9541c83acebe293f54cacf0e\")…) \n",
       " Dict{String,Any}(Pair{String,Any}(\"gasPrice\",10190846054),Pair{String,Any}(\"networkId\",Empty),Pair{String,Any}(\"r\",\"0x1bb386dd3e83e2fde91cdc062bc60b7299f61516453b1dac90ebaed2f7e36940\"),Pair{String,Any}(\"blockNumber\",91),Pair{String,Any}(\"standardV\",1),Pair{String,Any}(\"value\",1048576),Pair{String,Any}(\"gas\",940000),Pair{String,Any}(\"s\",\"0x47244b2a7c6a6f997060a3f760f3aa2504941672e92bae94d7e96f4c7b5cb495\"),Pair{String,Any}(\"v\",28),Pair{String,Any}(\"publicKey\",\"0x3fa8c08c65a83f6b4ea3e04e1cc70cbe3cd391499e3e05ab7dedf28aff9afc538200ff93e3f2b2cb5029f03c7ebee820d63a4c5a9541c83acebe293f54cacf0e\")…) \n",
       " Dict{String,Any}(Pair{String,Any}(\"gasPrice\",10190846054),Pair{String,Any}(\"networkId\",Empty),Pair{String,Any}(\"r\",\"0x780b9aaff7e275b84a0490300751ca503f967653ac28979b2e8a44b8a1800913\"),Pair{String,Any}(\"blockNumber\",92),Pair{String,Any}(\"standardV\",0),Pair{String,Any}(\"value\",1048576),Pair{String,Any}(\"gas\",940000),Pair{String,Any}(\"s\",\"0x36a03e8bf9544e0c070ffabb65375ec4bb91d679f1055d26f8690f8ebbbf1681\"),Pair{String,Any}(\"v\",27),Pair{String,Any}(\"publicKey\",\"0x3fa8c08c65a83f6b4ea3e04e1cc70cbe3cd391499e3e05ab7dedf28aff9afc538200ff93e3f2b2cb5029f03c7ebee820d63a4c5a9541c83acebe293f54cacf0e\")…) \n",
       " Dict{String,Any}(Pair{String,Any}(\"gasPrice\",10190846054),Pair{String,Any}(\"networkId\",Empty),Pair{String,Any}(\"r\",\"0x61096ac24c7f6df3b3931f0cc738da5d1243843aba5b579b92d65970f2b7dcf\"),Pair{String,Any}(\"blockNumber\",93),Pair{String,Any}(\"standardV\",0),Pair{String,Any}(\"value\",1048576),Pair{String,Any}(\"gas\",940000),Pair{String,Any}(\"s\",\"0x2ba532c98d971af4d1eeb712e4db6e165c71fd2104ff61e73a633f3f84b86032\"),Pair{String,Any}(\"v\",27),Pair{String,Any}(\"publicKey\",\"0x3fa8c08c65a83f6b4ea3e04e1cc70cbe3cd391499e3e05ab7dedf28aff9afc538200ff93e3f2b2cb5029f03c7ebee820d63a4c5a9541c83acebe293f54cacf0e\")…)  \n",
       " Dict{String,Any}(Pair{String,Any}(\"gasPrice\",10190846054),Pair{String,Any}(\"networkId\",Empty),Pair{String,Any}(\"r\",\"0xaa6d515c40973dea0209b3132c811e300ac8943ae48be83b930f2e5e861c28\"),Pair{String,Any}(\"blockNumber\",94),Pair{String,Any}(\"standardV\",1),Pair{String,Any}(\"value\",1048576),Pair{String,Any}(\"gas\",940000),Pair{String,Any}(\"s\",\"0x66638efe168f6a19212e435d9daa1c4dd40f3c0292543c9c078b836117c2bbf8\"),Pair{String,Any}(\"v\",28),Pair{String,Any}(\"publicKey\",\"0x3fa8c08c65a83f6b4ea3e04e1cc70cbe3cd391499e3e05ab7dedf28aff9afc538200ff93e3f2b2cb5029f03c7ebee820d63a4c5a9541c83acebe293f54cacf0e\")…)   \n",
       " Dict{String,Any}(Pair{String,Any}(\"gasPrice\",10190846054),Pair{String,Any}(\"networkId\",Empty),Pair{String,Any}(\"r\",\"0x5f0f9ffc2e3db30b43c736604a52f0a704b6f952b8eaf2ab145fe6aa2d7b9330\"),Pair{String,Any}(\"blockNumber\",95),Pair{String,Any}(\"standardV\",0),Pair{String,Any}(\"value\",1048576),Pair{String,Any}(\"gas\",940000),Pair{String,Any}(\"s\",\"0x557703aadea83279e1ca5e8105e82f7f7567b7bb22ae2c8cb1a953be632c2f00\"),Pair{String,Any}(\"v\",27),Pair{String,Any}(\"publicKey\",\"0x3fa8c08c65a83f6b4ea3e04e1cc70cbe3cd391499e3e05ab7dedf28aff9afc538200ff93e3f2b2cb5029f03c7ebee820d63a4c5a9541c83acebe293f54cacf0e\")…) \n",
       " Dict{String,Any}(Pair{String,Any}(\"gasPrice\",10190846054),Pair{String,Any}(\"networkId\",Empty),Pair{String,Any}(\"r\",\"0x566da42547315c44d1d40e41a0c93cdf00fef11864227878ea08e1098eb682c1\"),Pair{String,Any}(\"blockNumber\",96),Pair{String,Any}(\"standardV\",1),Pair{String,Any}(\"value\",1048576),Pair{String,Any}(\"gas\",940000),Pair{String,Any}(\"s\",\"0x782e8aa25b2f4e2eb2bdd728e347c817b0a4b65f67ca9376a7a04ce645bc1cd7\"),Pair{String,Any}(\"v\",28),Pair{String,Any}(\"publicKey\",\"0x3fa8c08c65a83f6b4ea3e04e1cc70cbe3cd391499e3e05ab7dedf28aff9afc538200ff93e3f2b2cb5029f03c7ebee820d63a4c5a9541c83acebe293f54cacf0e\")…) \n",
       " Dict{String,Any}(Pair{String,Any}(\"gasPrice\",10190846054),Pair{String,Any}(\"networkId\",Empty),Pair{String,Any}(\"r\",\"0x1e5029f83c968f4b8a9cfcfdb5d0005abd64f2d26032d745e77d0606498eb9cc\"),Pair{String,Any}(\"blockNumber\",97),Pair{String,Any}(\"standardV\",1),Pair{String,Any}(\"value\",1048576),Pair{String,Any}(\"gas\",940000),Pair{String,Any}(\"s\",\"0x40e3181f2c5777f49de9c7109066c8eee73ca340c895089dfd2d6a409f6114a1\"),Pair{String,Any}(\"v\",28),Pair{String,Any}(\"publicKey\",\"0x3fa8c08c65a83f6b4ea3e04e1cc70cbe3cd391499e3e05ab7dedf28aff9afc538200ff93e3f2b2cb5029f03c7ebee820d63a4c5a9541c83acebe293f54cacf0e\")…) \n",
       " Dict{String,Any}(Pair{String,Any}(\"gasPrice\",10190846054),Pair{String,Any}(\"networkId\",Empty),Pair{String,Any}(\"r\",\"0x958b217a864a22cc8f7d66bd93f8f2a34a5dcf5996ff1867fc70c293aecd5711\"),Pair{String,Any}(\"blockNumber\",98),Pair{String,Any}(\"standardV\",0),Pair{String,Any}(\"value\",1048576),Pair{String,Any}(\"gas\",940000),Pair{String,Any}(\"s\",\"0x2eda86fa956e7988307894cedb0d74c1e4f1af50d5fa6938e3dbab184a64e5d3\"),Pair{String,Any}(\"v\",27),Pair{String,Any}(\"publicKey\",\"0x3fa8c08c65a83f6b4ea3e04e1cc70cbe3cd391499e3e05ab7dedf28aff9afc538200ff93e3f2b2cb5029f03c7ebee820d63a4c5a9541c83acebe293f54cacf0e\")…) \n",
       " Dict{String,Any}(Pair{String,Any}(\"gasPrice\",10190846054),Pair{String,Any}(\"networkId\",Empty),Pair{String,Any}(\"r\",\"0xc18a8bc81ebed49f9a0b140282b4607ee4837ddb9788c1876704e5137979dc0\"),Pair{String,Any}(\"blockNumber\",99),Pair{String,Any}(\"standardV\",1),Pair{String,Any}(\"value\",1048576),Pair{String,Any}(\"gas\",940000),Pair{String,Any}(\"s\",\"0x4b7d21650b6255ce8f61b4e10989267ef3ba4120ba689b5b41493c4c66353249\"),Pair{String,Any}(\"v\",28),Pair{String,Any}(\"publicKey\",\"0x3fa8c08c65a83f6b4ea3e04e1cc70cbe3cd391499e3e05ab7dedf28aff9afc538200ff93e3f2b2cb5029f03c7ebee820d63a4c5a9541c83acebe293f54cacf0e\")…)  \n",
       " Dict{String,Any}(Pair{String,Any}(\"gasPrice\",10190846054),Pair{String,Any}(\"networkId\",Empty),Pair{String,Any}(\"r\",\"0x9fd43a2c2e2ae4307697d81742e4026c07101c720aecc20cc2664234435c73ea\"),Pair{String,Any}(\"blockNumber\",100),Pair{String,Any}(\"standardV\",0),Pair{String,Any}(\"value\",1048576),Pair{String,Any}(\"gas\",940000),Pair{String,Any}(\"s\",\"0x4c2810feeb2fee09fa2335302779c28d358c695c829b133492b535796a45eaab\"),Pair{String,Any}(\"v\",27),Pair{String,Any}(\"publicKey\",\"0x3fa8c08c65a83f6b4ea3e04e1cc70cbe3cd391499e3e05ab7dedf28aff9afc538200ff93e3f2b2cb5029f03c7ebee820d63a4c5a9541c83acebe293f54cacf0e\")…)"
      ]
     },
     "execution_count": 23,
     "metadata": {},
     "output_type": "execute_result"
    }
   ],
   "source": [
    "res = [rpc(ipc, \"eth_getTransactionByHash\", hash) for hash in hashes]"
   ]
  },
  {
   "cell_type": "code",
   "execution_count": 24,
   "metadata": {
    "collapsed": false
   },
   "outputs": [
    {
     "data": {
      "text/plain": [
       "Dict{String,Any} with 20 entries:\n",
       "  \"totalDifficulty\"  => 13238272\n",
       "  \"extraData\"        => \"0xd5830106008650617269747986312e31352e31826c69\"\n",
       "  \"number\"           => 100\n",
       "  \"difficulty\"       => 131072\n",
       "  \"miner\"            => 0\n",
       "  \"logsBloom\"        => 0\n",
       "  \"transactionsRoot\" => \"0xfc07e8faa9a55409e280065c3e505579550dd356621d9b3e3a66…\n",
       "  \"author\"           => 0\n",
       "  \"sealFields\"       => Any[]\n",
       "  \"sha3Uncles\"       => \"0x1dcc4de8dec75d7aab85b567b6ccd41ad312451b948a7413f0a1…\n",
       "  \"parentHash\"       => \"0x2abc86f7f698b513cc69a4e6223ead426376ef2d9d3322b35747…\n",
       "  \"gasLimit\"         => 6000000\n",
       "  \"hash\"             => \"0xa9ea906197b56ff12579bf5441c24868f61c98b27750be3bce5b…\n",
       "  \"size\"             => 600\n",
       "  \"receiptsRoot\"     => \"0x45bef3c8f45af0174311babea84ed659c7380a7249e2fe1ac5d7…\n",
       "  \"stateRoot\"        => \"0xdc9944de49d3b929202834afa05ac5e47c2a2a13ba08938861fe…\n",
       "  \"gasUsed\"          => 21000\n",
       "  \"transactions\"     => Any[\"0x875066f8ab1a97fd97bce3256147f7bd710a1f5dc6147010…\n",
       "  \"timestamp\"        => 1487871834\n",
       "  \"uncles\"           => Any[]"
      ]
     },
     "execution_count": 24,
     "metadata": {},
     "output_type": "execute_result"
    }
   ],
   "source": [
    "latestblock(ipc)"
   ]
  },
  {
   "cell_type": "code",
   "execution_count": 27,
   "metadata": {
    "collapsed": false
   },
   "outputs": [
    {
     "data": {
      "text/plain": [
       "100-element Array{Int64,1}:\n",
       "   1\n",
       "   2\n",
       "   3\n",
       "   4\n",
       "   5\n",
       "   6\n",
       "   7\n",
       "   8\n",
       "   9\n",
       "  10\n",
       "  11\n",
       "  12\n",
       "  13\n",
       "   ⋮\n",
       "  89\n",
       "  90\n",
       "  91\n",
       "  92\n",
       "  93\n",
       "  94\n",
       "  95\n",
       "  96\n",
       "  97\n",
       "  98\n",
       "  99\n",
       " 100"
      ]
     },
     "execution_count": 27,
     "metadata": {},
     "output_type": "execute_result"
    }
   ],
   "source": [
    "[r[\"blockNumber\"] for r in res]"
   ]
  },
  {
   "cell_type": "code",
   "execution_count": null,
   "metadata": {
    "collapsed": true
   },
   "outputs": [],
   "source": []
  }
 ],
 "metadata": {
  "anaconda-cloud": {},
  "kernelspec": {
   "display_name": "Julia 0.5.0",
   "language": "julia",
   "name": "julia-0.5"
  },
  "language_info": {
   "file_extension": ".jl",
   "mimetype": "application/julia",
   "name": "julia",
   "version": "0.5.0"
  }
 },
 "nbformat": 4,
 "nbformat_minor": 1
}
